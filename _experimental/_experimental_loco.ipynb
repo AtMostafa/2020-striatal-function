{
 "cells": [
  {
   "cell_type": "markdown",
   "metadata": {},
   "source": [
    "# Code to analyze the locomotion test"
   ]
  },
  {
   "cell_type": "code",
   "execution_count": null,
   "metadata": {},
   "outputs": [],
   "source": [
    "#DEV\n",
    "import os\n",
    "import glob\n",
    "import numpy as np\n",
    "from platform import system as OS\n",
    "import pandas as pd\n",
    "import tables as tb\n",
    "import h5py\n",
    "import scipy.stats\n",
    "import datetime\n",
    "from scipy.ndimage.filters import gaussian_filter as smooth\n",
    "from IPython.display import clear_output, display, HTML, Image\n",
    "import matplotlib.cm as cm\n",
    "import warnings\n",
    "import matplotlib.backends.backend_pdf\n",
    "\n",
    "\n",
    "warnings.filterwarnings(\"ignore\")\n",
    "import sys\n",
    "import pickle\n",
    "import matplotlib.pyplot as plt\n",
    "\n",
    "if OS() == 'Linux':\n",
    "    root = \"/data\"\n",
    "elif OS() == 'Windows':\n",
    "    root = \"C:\\\\DATA\\\\\"\n",
    "else:\n",
    "    root = \"/Users/davidrobbe/Documents/Data/\"\n",
    "\n",
    "param={\n",
    "    \"goalTime\":7,#needed for pavel data only\n",
    "    \"treadmillRange\":[0,90],#pavel error conversion \"treadmillRange\":[0,80]\n",
    "    \"maxTrialDuration\":15,\n",
    "    \"interTrialDuration\":10,#None pavel\n",
    "    \"endTrial_frontPos\":30,\n",
    "    \"endTrial_backPos\":55, \n",
    "    \"endTrial_minTimeSec\":4,\n",
    "    \"cameraSamplingRate\":25, #needed for new setup    \n",
    "\n",
    "    \"sigmaSmoothPosition\":0.1,#0.33, 0.18 pavel\n",
    "    \"sigmaSmoothSpeed\":0.3,#0.3, 0.5 pavel\n",
    "    \"nbJumpMax\":100,#200 pavel\n",
    "    \"binSize\":0.25,\n",
    "    #parameters used to preprocess (will override the default parameters)\n",
    "}  \n",
    "ThisNoteBookPath=os.path.dirname(os.path.realpath(\"__file__\"))\n",
    "CommonNoteBookesPath=os.path.join(os.path.split(ThisNoteBookPath)[0],\"load_preprocess_rat\")\n",
    "CWD=os.getcwd()\n",
    "os.chdir(CommonNoteBookesPath)\n",
    "%run Animal_Tags.ipynb\n",
    "%run UtilityTools.ipynb\n",
    "%run BatchRatBehavior.ipynb\n",
    "%run plotRat_documentation_3_KinematicsInvestigation.ipynb\n",
    "%run plotRat_documentation_1_GeneralBehavior.ipynb\n",
    "%run loadRat_documentation.ipynb\n",
    "%run RunBatchRat_3_CompareGroups.ipynb\n",
    "%run Lesion_Size.ipynb\n",
    "\n",
    "os.chdir(CWD)\n",
    "\n",
    "print('Done!')"
   ]
  },
  {
   "cell_type": "code",
   "execution_count": null,
   "metadata": {},
   "outputs": [],
   "source": [
    "LesionAnimalList=['Rat325','Rat337','Rat341','Rat345','Rat365','Rat366',\n",
    "                  'Rat372','Rat363','Rat362','Rat355','Rat354','Rat353']#, 'Rat329', 'Rat333']\n",
    "NormalAnimalList=['Rat359','Rat360','Rat361','Rat356','Rat357','Rat358',\n",
    "                  'Rat373','Rat349', 'Rat368','Rat367','Rat369','Rat371']\n",
    "\n",
    "profile={'Type':'Good',\n",
    "         'rewardType':'Progressive',\n",
    "#          'initialSpeed':'10',\n",
    "#          'Speed':['10'],\n",
    "         'Tag':['Reverse-Late_DLS-EXP','Early-Lesion_DMS-EXP','Early-Lesion_DS-EXP','Late-Lesion_DLS-EXP',\n",
    "                'Control-EXP','ImmobileTreadmill-EXP']\n",
    "         }\n",
    "\n",
    "sessionList0=batch_get_session_list(root,NormalAnimalList,profile)['Sessions']\n",
    "sessionList1=batch_get_session_list(root,LesionAnimalList,profile)['Sessions']"
   ]
  },
  {
   "cell_type": "markdown",
   "metadata": {},
   "source": [
    "# Forward Speed Detection"
   ]
  },
  {
   "cell_type": "code",
   "execution_count": 335,
   "metadata": {},
   "outputs": [],
   "source": [
    "pos=data.position[17]\n",
    "\n",
    "cs=int(data.cameraSamplingRate)\n",
    "MinDuration=1   #s\n",
    "MinDisplacement=30  #cm\n",
    "\n",
    "def _forwardRunningSpeed_loco(pos, cs: int, MinDur=1, MinDisplacement=30):\n",
    "    MinDuration=MinDur*cs\n",
    "    posLen=len(pos)\n",
    "    posDiff=np.diff(a=pos, prepend=pos[0])\n",
    "    ForwardDiff=(posDiff<=0).astype(int)\n",
    "    edges=ForwardDiff - np.concatenate((np.array([False]),ForwardDiff[:-1]))\n",
    "    try:\n",
    "        ForwardEpoch=np.where(edges!=0)[0].reshape(-1,2)\n",
    "    except ValueError:\n",
    "        ForwardEpoch=np.where(edges!=0)[0][:-1].reshape(-1,2)\n",
    "\n",
    "    _ForwardSpeed=[]\n",
    "    for i,j in ForwardEpoch:\n",
    "        if (j-i < MinDuration                   #short epoch\n",
    "            or pos[i]-pos[j] < MinDisplacement  #short displacement\n",
    "        ):\n",
    "            continue\n",
    "\n",
    "        _ForwardSpeed.append(((pos[i]-pos[j])/(j-i))*cs)\n",
    "#         _ForwardSpeed.append(np.amax(np.diff(pos[i:j]))*cs)\n",
    "\n",
    "    return _ForwardSpeed\n",
    "\n",
    "def loco_forward_speed (data, trdSpeed):\n",
    "    cs=int(data.cameraSamplingRate)\n",
    "    speeds=[]\n",
    "    \n",
    "    for trial,pos in data.position.items():\n",
    "        if data.treadmillSpeed[trial] != trdSpeed:\n",
    "            continue\n",
    "        speeds.extend(_forwardRunningSpeed_loco(pos=pos, cs=cs))\n",
    "        \n",
    "    return np.nanmean(speeds)"
   ]
  },
  {
   "cell_type": "code",
   "execution_count": 336,
   "metadata": {},
   "outputs": [],
   "source": [
    "trdSpeed={0:(10,11,12,13,14),\n",
    "         10:(15,16),\n",
    "         15:(17,18),\n",
    "         20:(19,20,21),\n",
    "         25:(22,23,24),\n",
    "         30:(25,26,27,28,29),\n",
    "         35:(30,31,32,33,34),\n",
    "         40:(35,36,37,38,39)\n",
    "         }\n",
    "\n",
    "# trdSpeed={10:(15,16,17,18),\n",
    "#           30:(25,26,27,28,29,30,31,32,33,34,35,36,37,38,39)\n",
    "#          }\n",
    "\n",
    "\n",
    "ControlFastPerc=np.ones( ( len(trdSpeed),len(sessionList0) ) )*np.nan\n",
    "for i,session in enumerate(sessionList0):\n",
    "    animal=session[:6]\n",
    "    data=Data(root,session[:6],session,param=param,redoPreprocess=False, saveAsPickle=False);\n",
    "    \n",
    "    for j,spd in enumerate(trdSpeed.keys()):\n",
    "        ControlFastPerc[j,i]=loco_forward_speed (data, spd)+spd\n",
    "        \n",
    "        \n",
    "LesionFastPerc=np.ones( ( len(trdSpeed),len(sessionList1) ) )*np.nan\n",
    "for i,session in enumerate(sessionList1):\n",
    "    animal=session[:6]\n",
    "    data=Data(root,session[:6],session,param=param,redoPreprocess=False, saveAsPickle=False);\n",
    "    \n",
    "    for j,spd in enumerate(trdSpeed.keys()):\n",
    "        LesionFastPerc[j,i]=loco_forward_speed (data, spd)+spd"
   ]
  },
  {
   "cell_type": "code",
   "execution_count": 337,
   "metadata": {},
   "outputs": [
    {
     "data": {
      "image/png": "[encoded data removed]",
      "text/plain": [
       "<Figure size 432x288 with 1 Axes>"
      ]
     },
     "metadata": {
      "needs_background": "light"
     },
     "output_type": "display_data"
    }
   ],
   "source": [
    "ax=plt.gca()\n",
    "ax.plot(list(trdSpeed.keys()),ControlFastPerc,'k',lw=1);\n",
    "ax.plot(list(trdSpeed.keys()),LesionFastPerc,'r',lw=1);\n",
    "ax.set_xticks(list(trdSpeed.keys()));"
   ]
  },
  {
   "cell_type": "code",
   "execution_count": 338,
   "metadata": {},
   "outputs": [
    {
     "data": {
      "image/png": "[encoded data removed]",
      "text/plain": [
       "<Figure size 432x288 with 1 Axes>"
      ]
     },
     "metadata": {
      "needs_background": "light"
     },
     "output_type": "display_data"
    }
   ],
   "source": [
    "plt.errorbar( list(trdSpeed.keys()), np.nanmedian(ControlFastPerc,axis=1), np.nanstd(ControlFastPerc,axis=1), color='k')\n",
    "plt.errorbar( list(trdSpeed.keys()), np.nanmedian(LesionFastPerc,axis=1), np.nanstd(LesionFastPerc,axis=1), color='r')\n",
    "plt.xticks(list(trdSpeed.keys()));"
   ]
  },
  {
   "cell_type": "code",
   "execution_count": 301,
   "metadata": {},
   "outputs": [
    {
     "data": {
      "text/plain": [
       "array([0.9056, 0.2534])"
      ]
     },
     "execution_count": 301,
     "metadata": {},
     "output_type": "execute_result"
    }
   ],
   "source": [
    "perm=permtest(LesionFastPerc.T,ControlFastPerc.T,nIterations=10000,initGlobConfInterval=1)\n",
    "\n",
    "perm.pVal"
   ]
  },
  {
   "cell_type": "code",
   "execution_count": 311,
   "metadata": {},
   "outputs": [
    {
     "data": {
      "text/plain": [
       "array([-3.52367013, -0.24691746])"
      ]
     },
     "execution_count": 311,
     "metadata": {},
     "output_type": "execute_result"
    }
   ],
   "source": [
    "np.nanpercentile(bootstrap(LesionFastPerc[-1,:]-ControlFastPerc[-1,:],10000,),(5,95))"
   ]
  },
  {
   "cell_type": "markdown",
   "metadata": {},
   "source": [
    "# Plot / Save the trajectories"
   ]
  },
  {
   "cell_type": "code",
   "execution_count": null,
   "metadata": {},
   "outputs": [],
   "source": [
    "def plot_position_of_trials(data,speed,ax=None):\n",
    "    assert data.dataType == 'ViewPoint'\n",
    "    if ax is None:\n",
    "        plt.figure(figsize=(15,5))\n",
    "        ax=plt.gca()\n",
    "    \n",
    "    for trial,pos in data.position.items():\n",
    "        if data.treadmillSpeed[trial] != speed or trial < 10:\n",
    "            continue\n",
    "        \n",
    "        time=np.linspace(0,data.maxTrialDuration[trial],len(pos))\n",
    "        \n",
    "        ax.plot(time,pos,lw=1)\n",
    "        \n",
    "    ax.set_ylim([0,90])\n",
    "    ax.set_xlim([0,30])\n",
    "    ax.set_title(f'speed={speed}, {data.animal}')"
   ]
  },
  {
   "cell_type": "code",
   "execution_count": null,
   "metadata": {},
   "outputs": [],
   "source": [
    "_SPD_=(0,10,15,20,25,30,35,40)\n",
    "pdf = matplotlib.backends.backend_pdf.PdfPages(\"/home/david/Documents/TEMP/Control.pdf\")\n",
    "#Control\n",
    "for i,session in enumerate(sessionList0):\n",
    "    animal=session[:6]\n",
    "    data=Data(root,session[:6],session,param=param,redoPreprocess=False, saveAsPickle=False);\n",
    "    fig=plt.figure(figsize=(15,5*len(_SPD_)))\n",
    "    for i,speed in enumerate(_SPD_):\n",
    "        ax=fig.add_subplot(len(_SPD_),1,i+1)\n",
    "        plot_position_of_trials(data,speed,ax)\n",
    "    \n",
    "    fig.tight_layout()\n",
    "    pdf.savefig(fig)\n",
    "    \n",
    "pdf.close()\n",
    "clear_output()"
   ]
  },
  {
   "cell_type": "code",
   "execution_count": null,
   "metadata": {},
   "outputs": [],
   "source": [
    "pdf = matplotlib.backends.backend_pdf.PdfPages(\"/home/david/Documents/TEMP/Lesion.pdf\")\n",
    "#Lesion\n",
    "for i,session in enumerate(sessionList1):\n",
    "    animal=session[:6]\n",
    "    data=Data(root,session[:6],session,param=param,redoPreprocess=False, saveAsPickle=False);\n",
    "    fig=plt.figure(figsize=(15,5*len(_SPD_)))\n",
    "    for i,speed in enumerate(_SPD_):\n",
    "        ax=fig.add_subplot(len(_SPD_),1,i+1)\n",
    "        plot_position_of_trials(data,speed,ax)\n",
    "    \n",
    "    fig.tight_layout()\n",
    "    pdf.savefig(fig)\n",
    "    \n",
    "pdf.close()\n",
    "clear_output()"
   ]
  },
  {
   "cell_type": "markdown",
   "metadata": {},
   "source": [
    "# ViewPoint intertrial analysis for Loco test"
   ]
  },
  {
   "cell_type": "markdown",
   "metadata": {},
   "source": [
    "check normal exploration"
   ]
  },
  {
   "cell_type": "code",
   "execution_count": null,
   "metadata": {},
   "outputs": [],
   "source": [
    "\n",
    "def find_persistent_movement_epochs(pos: np.array, TrdSpeed: int, fs: int):\n",
    "    \"\"\"\n",
    "    this function finds epochs in the position of a single trial, pos, where the animal has moved\n",
    "    for a duration of at least, TH*cameraSamplingRate\n",
    "    pos: position as a np.array\n",
    "    \"\"\"\n",
    "    SpeedTolerance = 5 if TrdSpeed==0 else 10\n",
    "    DurationTolerance= 0.4*fs\n",
    "    \n",
    "    pos_=smooth(pos,.3*fs,mode=\"nearest\")\n",
    "    velocity=np.append(TrdSpeed-(np.diff(pos_)*fs),TrdSpeed)\n",
    "    \n",
    "    zeroVel=np.logical_and(velocity<SpeedTolerance, velocity>-SpeedTolerance)\n",
    "    \n",
    "    movement= np.logical_not(zeroVel)\n",
    "    movement=movement*1\n",
    "\n",
    "    dpcross=np.absolute( np.append(movement,0) - np.append(0,movement) )\n",
    "#     breakpoint()\n",
    "    #any 1 in dpcross mean a zero-crossing in diff(pos)\n",
    "    crossindex=np.where(dpcross)[0]\n",
    "    crossindex=np.reshape(crossindex,(-1,2))\n",
    "    movementepoch=crossindex[crossindex[:,1]-crossindex[:,0] > DurationTolerance]\n",
    "    return movementepoch\n",
    "\n",
    "def run_distance(data,trial=None):\n",
    "    if trial is None:\n",
    "        trial=list(data.position.keys())\n",
    "    elif not hasattr(trial,'__iter__'):\n",
    "        trial=[trial]\n",
    "    \n",
    "    assert data.dataType == 'ViewPoint',f'{data.dataType}'\n",
    "    \n",
    "    dis=[0]\n",
    "    for i in trial:\n",
    "        if i < 10:\n",
    "            continue #first 10 session with short trial\n",
    "        allTraj=data.position[i]\n",
    "        treadmillStep=np.expand_dims(data.treadmillSpeed[i]/data.cameraSamplingRate,1)\n",
    "        posMoveIndex=find_persistent_movement_epochs(allTraj,\n",
    "                                                     TrdSpeed=data.treadmillSpeed[i],\n",
    "                                                     fs=data.cameraSamplingRate)\n",
    "\n",
    "        for i,j in posMoveIndex:\n",
    "            epochPos=allTraj[int(i):int(j)]\n",
    "            dis[-1]+=np.nansum(np.absolute(np.diff(epochPos)-treadmillStep))\n",
    "        dis.append(0)\n",
    "\n",
    "    return np.array(dis[:-1])\n",
    "\n",
    "def intertrial_displacement(data,trial=None):\n",
    "    if trial is None:\n",
    "        trial=list(data.rawIntertrialPosition.keys())\n",
    "    elif not hasattr(trial,'__iter__'):\n",
    "        trial=[trial]\n",
    "    \n",
    "    dis=[0]\n",
    "    for i in trial:\n",
    "        if data.dataType != 'ViewPoint':\n",
    "            allTraj= data.position[i][int((-data.interTrialDuration[i]+1)*data.cameraSamplingRate):]\n",
    "            TH=int(0.6*data.cameraSamplingRate)\n",
    "            data.cameraSamplingRateInterTrial=data.cameraSamplingRate\n",
    "        else:\n",
    "            allTraj=smooth(data.rawIntertrialPosition[i],.3*data.cameraSamplingRateInterTrial)\n",
    "            TH=int(0.6*data.cameraSamplingRateInterTrial)\n",
    "            \n",
    "\n",
    "        posMoveIndex=find_persistent_movement_epochs(allTraj,\n",
    "                                                     TrdSpeed=0,\n",
    "                                                     fs=data.cameraSamplingRateInterTrial\n",
    "                                                     )\n",
    "\n",
    "        for i,j in posMoveIndex:\n",
    "            epochPos=allTraj[int(i):int(j)]\n",
    "            dis[-1]+=np.nansum(np.absolute(np.diff(epochPos)))\n",
    "        dis.append(0)\n",
    "\n",
    "    return np.array(dis[:-1])"
   ]
  },
  {
   "cell_type": "code",
   "execution_count": null,
   "metadata": {},
   "outputs": [],
   "source": [
    "def intertrial_max_velocity(data,sigmaSpeed=0.3):\n",
    "    \n",
    "    cs=data.cameraSamplingRateInterTrial\n",
    "    tr=0\n",
    "    \n",
    "    vel=[]\n",
    "    for i,pos in data.rawIntertrialPosition.items():\n",
    "        speed= tr - np.diff(pos)*cs \n",
    "        speed=smooth(speed,sigmaSpeed*cs)\n",
    "        vel.append(np.nanmax(np.absolute(np.append(speed,np.nan))))\n",
    "    \n",
    "    return np.array(vel)\n",
    "\n",
    "\n",
    "def trial_max_velocity(data,sigmaSpeed=0.3):\n",
    "    cs=data.cameraSamplingRate\n",
    "    \n",
    "    vel=np.ones((list(data.position.keys())[-1]+1,))\n",
    "    for i,pos in data.position.items():\n",
    "        tr=data.treadmillSpeed[i]\n",
    "        speed= tr - np.diff(pos)*cs \n",
    "        speed=smooth(speed,sigmaSpeed*cs)\n",
    "        vel[i]=np.nanmax(np.absolute(np.append(speed,np.nan)))\n",
    "    \n",
    "    return vel\n",
    "\n",
    "def trial_max_acceleration(data,sigmaSpeed=0.3):\n",
    "    cs=data.cameraSamplingRate\n",
    "    \n",
    "    acc=np.ones((list(data.position.keys())[-1]+1,))\n",
    "    for i,pos in data.position.items():\n",
    "        tr=data.treadmillSpeed[i]\n",
    "        speed= tr - np.diff(pos)*cs \n",
    "        speed=smooth(speed,sigmaSpeed*cs)\n",
    "        accelaration=np.diff(speed)*cs\n",
    "        acc[i]=np.nanmax(np.absolute(np.append(accelaration,np.nan)))\n",
    "    \n",
    "    return acc"
   ]
  },
  {
   "cell_type": "code",
   "execution_count": null,
   "metadata": {},
   "outputs": [],
   "source": [
    "def time_in_back(data):    \n",
    "    assert data.dataType == 'ViewPoint'\n",
    "    cs=data.cameraSamplingRate\n",
    "    t=[]\n",
    "    for i in data.position.keys():\n",
    "        if i < 10:\n",
    "            continue #first 10 session with short trial\n",
    "        traj=data.position[i]\n",
    "        t.append(np.sum(traj>75)/cs)\n",
    "\n",
    "    return np.array(t)\n",
    "\n",
    "def position_variability(data):\n",
    "    assert data.dataType == 'ViewPoint'\n",
    "    cs=data.cameraSamplingRate\n",
    "    t=[]\n",
    "    for i in data.position.keys():\n",
    "        if i < 10:\n",
    "            continue #first 10 session with short trial\n",
    "        traj=data.position[i]\n",
    "        t.append(np.std(traj))\n",
    "\n",
    "    return np.array(t)\n"
   ]
  },
  {
   "cell_type": "code",
   "execution_count": null,
   "metadata": {},
   "outputs": [],
   "source": [
    "disIT0=np.ones((45,len(sessionList0)))*np.nan\n",
    "disIT1=np.ones((45,len(sessionList1)))*np.nan\n",
    "\n",
    "dis0=np.ones((45,len(sessionList0)))*np.nan\n",
    "dis1=np.ones((45,len(sessionList1)))*np.nan\n",
    "\n",
    "NbTrial0=np.ones((len(sessionList0),))*np.nan\n",
    "NbTrial1=np.ones((len(sessionList1),))*np.nan\n",
    "\n",
    "velIT0=np.ones((45,len(sessionList0)))*np.nan\n",
    "velIT1=np.ones((45,len(sessionList1)))*np.nan\n",
    "\n",
    "vel0=np.ones((45,len(sessionList0)))*np.nan\n",
    "vel1=np.ones((45,len(sessionList1)))*np.nan\n",
    "\n",
    "acc0=np.ones((45,len(sessionList0)))*np.nan\n",
    "acc1=np.ones((45,len(sessionList1)))*np.nan\n",
    "\n",
    "\n",
    "Ftime0=np.ones((45,len(sessionList0)))*np.nan\n",
    "Ftime1=np.ones((45,len(sessionList1)))*np.nan\n",
    "\n",
    "posSD0=np.ones((45,len(sessionList0)))*np.nan\n",
    "posSD1=np.ones((45,len(sessionList1)))*np.nan\n",
    "\n",
    "\n",
    "\n",
    "for i,session in enumerate(sessionList0):\n",
    "    animal=session[:6]\n",
    "    data=Data(root,session[:6],session,param=param,redoPreprocess=False, saveAsPickle=False);\n",
    "    tmp=intertrial_displacement(data)\n",
    "    disIT0[:len(tmp),i]=tmp\n",
    "    tmp=run_distance(data)\n",
    "    dis0[:len(tmp),i]=tmp\n",
    "    tmp=intertrial_max_velocity(data)\n",
    "    velIT0[:len(tmp),i]=tmp\n",
    "    tmp=trial_max_velocity(data)\n",
    "    vel0[:len(tmp),i]=tmp\n",
    "    tmp=time_in_back(data)\n",
    "    Ftime0[:len(tmp),i]=tmp\n",
    "    tmp=position_variability(data)\n",
    "    posSD0[:len(tmp),i]=tmp\n",
    "    tmp=trial_max_acceleration(data)\n",
    "    acc0[:len(tmp),i]=tmp\n",
    "\n",
    "    \n",
    "\n",
    "    \n",
    "    NbTrial0[i]=data.nTrial\n",
    "\n",
    "for i,session in enumerate(sessionList1):\n",
    "    animal=session[:6]\n",
    "    data=Data(root,session[:6],session,param=param,redoPreprocess=False, saveAsPickle=False);\n",
    "    tmp=intertrial_displacement(data)\n",
    "    disIT1[:len(tmp),i]=tmp\n",
    "    tmp=run_distance(data)\n",
    "    dis1[:len(tmp),i]=tmp\n",
    "    tmp=intertrial_max_velocity(data)\n",
    "    velIT1[:len(tmp),i]=tmp\n",
    "    tmp=trial_max_velocity(data)\n",
    "    vel1[:len(tmp),i]=tmp\n",
    "    tmp=time_in_back(data)\n",
    "    Ftime1[:len(tmp),i]=tmp\n",
    "    tmp=position_variability(data)\n",
    "    posSD1[:len(tmp),i]=tmp\n",
    "    tmp=trial_max_acceleration(data)\n",
    "    acc1[:len(tmp),i]=tmp\n",
    "\n",
    "\n",
    "\n",
    "    NbTrial1[i]=data.nTrial\n"
   ]
  },
  {
   "cell_type": "markdown",
   "metadata": {},
   "source": [
    "# Position variability during Trials"
   ]
  },
  {
   "cell_type": "code",
   "execution_count": null,
   "metadata": {},
   "outputs": [],
   "source": [
    "a=posSD0[:,:]\n",
    "b=posSD1[:,:]\n",
    "\n",
    "perm=permtest(a.T,b.T,nIterations=10000)\n",
    "\n",
    "perm.pVal"
   ]
  },
  {
   "cell_type": "code",
   "execution_count": null,
   "metadata": {},
   "outputs": [],
   "source": [
    "plt.figure(figsize=(15,5))\n",
    "plt.plot(posSD0,'k');\n",
    "plt.plot(posSD1,'r');"
   ]
  },
  {
   "cell_type": "markdown",
   "metadata": {},
   "source": [
    "# Time in the back"
   ]
  },
  {
   "cell_type": "code",
   "execution_count": null,
   "metadata": {},
   "outputs": [],
   "source": [
    "a=Ftime0[:,:]\n",
    "b=Ftime1[:,:]\n",
    "\n",
    "perm=permtest(a.T,b.T,nIterations=10000)\n",
    "\n",
    "perm.pVal"
   ]
  },
  {
   "cell_type": "code",
   "execution_count": null,
   "metadata": {},
   "outputs": [],
   "source": [
    "plt.plot(Ftime0,'k');\n",
    "plt.plot(Ftime1,'r');"
   ]
  },
  {
   "cell_type": "markdown",
   "metadata": {},
   "source": [
    "# Displacement"
   ]
  },
  {
   "cell_type": "code",
   "execution_count": null,
   "metadata": {},
   "outputs": [],
   "source": [
    "a=disIT0[:,:]\n",
    "b=disIT1[:,:]\n",
    "\n",
    "perm=permtest(a.T,b.T,nIterations=10000)\n",
    "\n",
    "perm.pVal"
   ]
  },
  {
   "cell_type": "code",
   "execution_count": null,
   "metadata": {},
   "outputs": [],
   "source": [
    "a=dis0[:,:]\n",
    "b=dis1[:,:]\n",
    "\n",
    "perm=permtest(a.T,b.T,nIterations=10000)\n",
    "\n",
    "perm.pVal"
   ]
  },
  {
   "cell_type": "code",
   "execution_count": null,
   "metadata": {},
   "outputs": [],
   "source": [
    "plt.plot(dis0,'k');\n",
    "plt.plot(dis1,'r');"
   ]
  },
  {
   "cell_type": "markdown",
   "metadata": {},
   "source": [
    "Checking whether groups differ in their max trial number"
   ]
  },
  {
   "cell_type": "code",
   "execution_count": null,
   "metadata": {},
   "outputs": [],
   "source": [
    "plt.plot(NbTrial0)\n",
    "plt.plot(NbTrial1)\n",
    "plt.show()"
   ]
  },
  {
   "cell_type": "code",
   "execution_count": null,
   "metadata": {},
   "outputs": [],
   "source": [
    "perm=permtest(NbTrial0,NbTrial1,nIterations=10000)\n",
    "\n",
    "perm.pVal"
   ]
  },
  {
   "cell_type": "markdown",
   "metadata": {},
   "source": [
    "#  velocity"
   ]
  },
  {
   "cell_type": "code",
   "execution_count": null,
   "metadata": {},
   "outputs": [],
   "source": [
    "#INTERTRIALS\n",
    "a=velIT0[:,:]\n",
    "b=velIT1[:,:]\n",
    "\n",
    "perm=permtest(a.T,b.T,nIterations=10000)\n",
    "\n",
    "perm.pVal"
   ]
  },
  {
   "cell_type": "code",
   "execution_count": null,
   "metadata": {},
   "outputs": [],
   "source": [
    "#TRIALS\n",
    "a=vel0[:,:]\n",
    "b=vel1[:,:]\n",
    "\n",
    "perm=permtest(a.T,b.T,nIterations=10000)\n",
    "\n",
    "perm.pVal"
   ]
  },
  {
   "cell_type": "code",
   "execution_count": null,
   "metadata": {},
   "outputs": [],
   "source": [
    "plt.plot(vel0,'k');\n",
    "plt.plot(vel1,'r');"
   ]
  },
  {
   "cell_type": "markdown",
   "metadata": {},
   "source": [
    "# Max Trial Accelaration"
   ]
  },
  {
   "cell_type": "code",
   "execution_count": null,
   "metadata": {},
   "outputs": [],
   "source": [
    "#TRIALS\n",
    "a=acc0[:,:]\n",
    "b=acc1[:,:]\n",
    "\n",
    "perm=permtest(a.T,b.T,nIterations=10000)\n",
    "\n",
    "perm.pVal"
   ]
  },
  {
   "cell_type": "code",
   "execution_count": null,
   "metadata": {},
   "outputs": [],
   "source": [
    "plt.plot(acc0,'k');\n",
    "plt.plot(acc1,'r');"
   ]
  },
  {
   "cell_type": "markdown",
   "metadata": {},
   "source": [
    "# Weight Comparison"
   ]
  },
  {
   "cell_type": "code",
   "execution_count": null,
   "metadata": {},
   "outputs": [],
   "source": [
    "CtrlW   =dict.fromkeys(NormalAnimalList,np.nan)\n",
    "LesionW =dict.fromkeys(LesionAnimalList,np.nan)\n",
    "Weights=dict()"
   ]
  },
  {
   "cell_type": "markdown",
   "metadata": {},
   "source": [
    "### Data From Mostafa's Lab Book"
   ]
  },
  {
   "cell_type": "code",
   "execution_count": null,
   "metadata": {},
   "outputs": [],
   "source": [
    "Weights['Rat367']=560\n",
    "Weights['Rat368']=500\n",
    "Weights['Rat372']=435\n",
    "Weights['Rat366']=450\n",
    "Weights['Rat371']=425\n",
    "Weights['Rat369']=505\n",
    "Weights['Rat365']=500\n",
    "Weights['Rat349']=440\n",
    "Weights['Rat373']=380\n",
    "Weights['Rat358']=490\n",
    "Weights['Rat357']=445\n",
    "Weights['Rat356']=450\n",
    "Weights['Rat361']=440\n",
    "Weights['Rat360']=460\n",
    "Weights['Rat359']=475\n",
    "Weights['Rat364']=335\n",
    "Weights['Rat363']=385\n",
    "Weights['Rat362']=420\n",
    "Weights['Rat355']=400\n",
    "Weights['Rat354']=340\n",
    "Weights['Rat353']=385"
   ]
  },
  {
   "cell_type": "code",
   "execution_count": null,
   "metadata": {},
   "outputs": [],
   "source": [
    "for animal,w in Weights.items():\n",
    "    if animal in CtrlW:\n",
    "        CtrlW.update({animal:w})\n",
    "    elif animal in LesionW:\n",
    "        LesionW.update({animal:w})\n",
    "        \n",
    "print(CtrlW,'\\n',LesionW)"
   ]
  },
  {
   "cell_type": "markdown",
   "metadata": {},
   "source": [
    "# Plot Speed distributions"
   ]
  },
  {
   "cell_type": "code",
   "execution_count": null,
   "metadata": {},
   "outputs": [],
   "source": [
    "def intertrial_VUpoint_velocity(data,trial,sigmaSpeed=0.3):\n",
    "    \n",
    "    cs=data.cameraSamplingRateInterTrial\n",
    "    tr=0\n",
    "    \n",
    "    if trial not in data.rawIntertrialPosition or len(data.rawIntertrialPosition[trial])<2:\n",
    "        return np.array([0])\n",
    "    \n",
    "    pos=data.rawIntertrialPosition[trial]\n",
    "    speed= tr - np.diff(pos)*cs \n",
    "    speed=smooth(speed,sigmaSpeed*cs)\n",
    "        \n",
    "    return np.absolute(speed)\n",
    "\n",
    "\n",
    "def trial_VUpoint_velocity(data,trial,sigmaSpeed=0.3):\n",
    "    cs=data.cameraSamplingRate\n",
    "    \n",
    "    if trial not in data.position or len(data.position[trial])<2:\n",
    "        return np.array([0])\n",
    "    \n",
    "    pos=data.position[trial]\n",
    "    tr=data.treadmillSpeed[trial]\n",
    "    speed= tr - np.diff(pos)*cs \n",
    "    speed=smooth(speed,sigmaSpeed*cs)\n",
    "\n",
    "    return np.absolute(speed)\n"
   ]
  },
  {
   "cell_type": "code",
   "execution_count": null,
   "metadata": {},
   "outputs": [],
   "source": [
    "# TrialG=(19,20,21)   #speed=20\n",
    "TrialG=(25,26,27,28,29)  #speed=30\n",
    "\n",
    "spdG0={}\n",
    "spdG1={}\n",
    "\n",
    "for i,session in enumerate(sessionList0):\n",
    "    animal=session[:6]\n",
    "    data=Data(root,session[:6],session,param=param,redoPreprocess=False, saveAsPickle=False);\n",
    "    spdG0[animal]=np.array([])\n",
    "    \n",
    "    for trial in TrialG:\n",
    "        spdG0[animal]=np.concatenate((spdG0[animal],trial_VUpoint_velocity(data,trial)))\n",
    "\n",
    "        \n",
    "for i,session in enumerate(sessionList1):\n",
    "    animal=session[:6]\n",
    "    data=Data(root,session[:6],session,param=param,redoPreprocess=False, saveAsPickle=False);\n",
    "    spdG1[animal]=np.array([])\n",
    "    \n",
    "    for trial in TrialG:\n",
    "        spdG1[animal]=np.concatenate((spdG1[animal],trial_VUpoint_velocity(data,trial)))\n",
    "        \n",
    "speedDict={**spdG0,**spdG1}"
   ]
  },
  {
   "cell_type": "code",
   "execution_count": null,
   "metadata": {},
   "outputs": [],
   "source": [
    "import matplotlib.backends.backend_pdf\n",
    "pdf = matplotlib.backends.backend_pdf.PdfPages(\"/home/david/Documents/TEMP/T30.pdf\")\n",
    "for animal,data in spdG0.items():\n",
    "    f=plt.figure()\n",
    "    ax=f.add_subplot()\n",
    "    \n",
    "    ax.hist(data,100)\n",
    "    ax.set_title(animal)\n",
    "    ax.set_xlim([-10,200])\n",
    "    \n",
    "    pdf.savefig(f)\n",
    "\n",
    "pdf.close()"
   ]
  },
  {
   "cell_type": "markdown",
   "metadata": {},
   "source": [
    "# fast movement fraction"
   ]
  },
  {
   "cell_type": "code",
   "execution_count": null,
   "metadata": {},
   "outputs": [],
   "source": [
    "def trial_fast_velocity_percentage(data,trials,THspeed=50,sigmaSpeed=0.3):\n",
    "    cs=data.cameraSamplingRate\n",
    "    \n",
    "    vel=np.array([])\n",
    "    for trial in trials:\n",
    "        if trial not in data.position or len(data.position[trial])<2:\n",
    "            continue\n",
    "\n",
    "        pos=data.position[trial]\n",
    "        tr=data.treadmillSpeed[trial]\n",
    "        speed= tr - np.diff(pos)*cs \n",
    "        speed=smooth(speed,sigmaSpeed*cs)\n",
    "        vel=np.concatenate((vel,speed))\n",
    "    \n",
    "    fastfrac=np.sum(vel>THspeed)/len(vel)\n",
    "    return fastfrac*100"
   ]
  },
  {
   "cell_type": "code",
   "execution_count": null,
   "metadata": {},
   "outputs": [],
   "source": [
    "trdSpeed={10:(15,16),\n",
    "         15:(17,18),\n",
    "         20:(19,20,21),\n",
    "         25:(22,23,24),\n",
    "         30:(25,26,27,28,29),\n",
    "#          35:(30,31,32,33,34),\n",
    "#          40:(35,36,37,38,39)\n",
    "         }\n",
    "\n",
    "# trdSpeed={10:(15,16,17,18),\n",
    "#           30:(25,26,27,28,29,30,31,32,33,34,35,36,37,38,39)\n",
    "#          }\n",
    "\n",
    "\n",
    "ControlFastPerc=np.ones( ( len(trdSpeed),len(sessionList0) ) )*np.nan\n",
    "for i,session in enumerate(sessionList0):\n",
    "    animal=session[:6]\n",
    "    data=Data(root,session[:6],session,param=param,redoPreprocess=False, saveAsPickle=False);\n",
    "    \n",
    "    for j,(spd,trials) in enumerate(trdSpeed.items()):\n",
    "        ControlFastPerc[j,i]=trial_fast_velocity_percentage(data,trials)\n",
    "        \n",
    "        \n",
    "LesionFastPerc=np.ones( ( len(trdSpeed),len(sessionList1) ) )*np.nan\n",
    "for i,session in enumerate(sessionList1):\n",
    "    animal=session[:6]\n",
    "    data=Data(root,session[:6],session,param=param,redoPreprocess=False, saveAsPickle=False);\n",
    "    \n",
    "    for j,(spd,trials) in enumerate(trdSpeed.items()):\n",
    "        LesionFastPerc[j,i]=trial_fast_velocity_percentage(data,trials)"
   ]
  },
  {
   "cell_type": "code",
   "execution_count": null,
   "metadata": {},
   "outputs": [],
   "source": [
    "plt.plot(list(trdSpeed.keys()),LesionFastPerc,'r');\n",
    "plt.plot(list(trdSpeed.keys()),ControlFastPerc,'k');\n",
    "plt.xticks(list(trdSpeed.keys()));"
   ]
  },
  {
   "cell_type": "code",
   "execution_count": null,
   "metadata": {},
   "outputs": [],
   "source": [
    "a=permtest(LesionFastPerc.T,ControlFastPerc.T,nIterations=10000)\n",
    "\n",
    "a.pVal"
   ]
  },
  {
   "cell_type": "code",
   "execution_count": null,
   "metadata": {},
   "outputs": [],
   "source": [
    "for i,d in enumerate(LesionFastPerc.T):\n",
    "    plt.title(sessionList1[i])\n",
    "    plt.plot(list(trdSpeed.keys()),d,'-*')\n",
    "    plt.ylim([0,25])\n",
    "    plt.show()\n",
    "    breakpoint()\n",
    "    clear_output()\n"
   ]
  },
  {
   "cell_type": "code",
   "execution_count": null,
   "metadata": {},
   "outputs": [],
   "source": [
    "HistologyExcel('/NAS02','Rat354').lesion_size()"
   ]
  },
  {
   "cell_type": "markdown",
   "metadata": {},
   "source": [
    "# First Exhausted Intertrial\n",
    "From Mostafa's visual inspection\n",
    "\n",
    "100 for *never*"
   ]
  },
  {
   "cell_type": "code",
   "execution_count": null,
   "metadata": {},
   "outputs": [],
   "source": [
    "Tired=dict()\n",
    "Tired['Rat367']=27\n",
    "Tired['Rat368']=100\n",
    "Tired['Rat372']=32\n",
    "Tired['Rat366']=100\n",
    "Tired['Rat371']=32\n",
    "Tired['Rat369']=30\n",
    "Tired['Rat365']=24\n",
    "Tired['Rat349']=36\n",
    "Tired['Rat373']=36\n",
    "Tired['Rat358']=30\n",
    "Tired['Rat357']=32\n",
    "Tired['Rat356']=100\n",
    "Tired['Rat361']=100\n",
    "Tired['Rat360']=40\n",
    "Tired['Rat359']=28\n",
    "Tired['Rat325']=28\n",
    "Tired['Rat345']=100\n",
    "Tired['Rat341']=34\n",
    "Tired['Rat337']=100\n",
    "Tired['Rat363']=100\n",
    "Tired['Rat362']=28\n",
    "Tired['Rat355']=33\n",
    "Tired['Rat354']=32\n",
    "Tired['Rat353']=32"
   ]
  },
  {
   "cell_type": "code",
   "execution_count": null,
   "metadata": {},
   "outputs": [],
   "source": [
    "controlTired=[]\n",
    "for session in sessionList0:\n",
    "    animal=session[:6]\n",
    "    if Tired[animal]==100:\n",
    "        controlTired.append(np.nan)\n",
    "        continue\n",
    "    \n",
    "    data=Data(root,animal,session,param=param,redoPreprocess=False, saveAsPickle=False);\n",
    "    controlTired.append(data.nTrial - Tired[animal])\n",
    "\n",
    "    \n",
    "LesionTired=[]\n",
    "for session in sessionList1:\n",
    "    animal=session[:6]\n",
    "    if Tired[animal]==100:\n",
    "        LesionTired.append(np.nan)\n",
    "        continue\n",
    "    \n",
    "    data=Data(root,animal,session,param=param,redoPreprocess=False, saveAsPickle=False);\n",
    "    LesionTired.append(data.nTrial - Tired[animal])\n"
   ]
  },
  {
   "cell_type": "code",
   "execution_count": null,
   "metadata": {},
   "outputs": [],
   "source": [
    "controlTired,LesionTired"
   ]
  },
  {
   "cell_type": "markdown",
   "metadata": {},
   "source": [
    "---\n",
    "---\n",
    "---\n",
    "------\n",
    "---\n",
    "---\n",
    "---"
   ]
  },
  {
   "cell_type": "code",
   "execution_count": 245,
   "metadata": {},
   "outputs": [],
   "source": [
    "session='Rat371_2019_10_30_11_36'\n",
    "session='Rat362_2019_07_17_16_59'\n",
    "\n",
    "data=Data(root,session[:6],session,param=param,redoPreprocess=False, saveAsPickle=False);\n"
   ]
  },
  {
   "cell_type": "code",
   "execution_count": null,
   "metadata": {},
   "outputs": [],
   "source": [
    "for i,pos in data.position.items():\n",
    "    plt.plot(smooth(pos,.3*200))\n",
    "    plt.title(f'trial {i}, speed {data.treadmillSpeed[i]}')\n",
    "    plt.ylim([0,90])\n",
    "    plt.show()\n",
    "    breakpoint()\n",
    "    clear_output()\n",
    "    "
   ]
  }
 ],
 "metadata": {
  "anaconda-cloud": {},
  "kernelspec": {
   "display_name": "Python 3",
   "language": "python",
   "name": "python3"
  },
  "language_info": {
   "codemirror_mode": {
    "name": "ipython",
    "version": 3
   },
   "file_extension": ".py",
   "mimetype": "text/x-python",
   "name": "python",
   "nbconvert_exporter": "python",
   "pygments_lexer": "ipython3",
   "version": "3.7.4"
  }
 },
 "nbformat": 4,
 "nbformat_minor": 4
}
