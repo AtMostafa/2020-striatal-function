{
 "cells": [
  {
   "cell_type": "markdown",
   "metadata": {},
   "source": [
    "# THIS NOTEBOOK IS DEDICATED TO THE ANALYSIS OF \n",
    "\n",
    "# *CoT task*\n"
   ]
  },
  {
   "cell_type": "code",
   "execution_count": null,
   "metadata": {},
   "outputs": [],
   "source": [
    "import os\n",
    "import glob\n",
    "import numpy as np\n",
    "from platform import system as OS\n",
    "import pandas as pd\n",
    "import scipy.stats\n",
    "import math\n",
    "import datetime\n",
    "from copy import deepcopy\n",
    "from IPython.display import clear_output, display, HTML, Image\n",
    "import matplotlib.cm as cm\n",
    "import warnings\n",
    "import types\n",
    "import inspect\n",
    "warnings.filterwarnings(\"ignore\")\n",
    "import sys, time\n",
    "import pickle\n",
    "import matplotlib.pyplot as plt\n",
    "from scipy import stats\n",
    "from matplotlib import mlab\n",
    "from mpl_toolkits.mplot3d import Axes3D\n",
    "import matplotlib.animation as animation\n",
    "from pylab import *\n",
    "import matplotlib.backends.backend_pdf\n",
    "from sklearn.decomposition import KernelPCA\n",
    "\n",
    "ThisNoteBookPath=os.path.dirname(os.path.realpath(\"__file__\"))\n",
    "CommonNoteBookesPath=os.path.join(os.path.split(ThisNoteBookPath)[0],\"load_preprocess_rat\")\n",
    "CWD=os.getcwd()\n",
    "os.chdir(CommonNoteBookesPath)\n",
    "root='/data'\n",
    "%run UtilityTools.ipynb\n",
    "%run Animal_Tags.ipynb\n",
    "%run Lesion_Size.ipynb\n",
    "%run BatchRatBehavior.ipynb\n",
    "%run plotRat_documentation_3_KinematicsInvestigation.ipynb\n",
    "%run plotRat_documentation_1_GeneralBehavior.ipynb\n",
    "%run loadRat_documentation.ipynb\n",
    "%run RunBatchRat_3_CompareGroups.ipynb\n",
    "os.chdir(CWD)\n",
    "\n",
    "# logging.getLogger().setLevel(logging.WARNING)\n",
    "defaultParam={\n",
    "            \"treadmillRange\":[0,65],\n",
    "            \"binSize\":0.25,\n",
    "            \"trialOffset\":20., #max end of trial, in seconds (position will be cutted)\n",
    "            \"sigmaSmoothPosition\":0.1,  #smooth the position\n",
    "            #\"sigmaSmoothPosition\":0.33 for pavel dataType\n",
    "            \"sigmaSmoothSpeed\":0.3, #smooth the speed\n",
    "            \"positionDiffRange\": [2.,5.], #min and max differences allowed between two consecutive positions\n",
    "                                          #min to correct start, max to correct jumps\n",
    "            \"pawFrequencyRange\":[2.,10.],\n",
    "            \"startAnalysisParams\":[10,0.2,0.5],\n",
    "            \"cameraToTreadmillDelay\":2., #seconds, usual time between camera start and treadmill start\n",
    "            \"nbJumpMax\" : 100., #if jumps>nbJumpMax, trial is badly tracked\n",
    "\n",
    "\n",
    "            #parameter to detect end of trial (first position minima)\n",
    "            \"endTrial_backPos\":55,  # minima is after the animal went once to the back (after first time position>backPos)\n",
    "            \"endTrial_frontPos\":30, # minima's position is in front of treadmill (position[end]<frontPos)\n",
    "            \"endTrial_minTimeSec\":4, # minima is after minTimeSec seconds (time[end]>minTimeSec)\n",
    "    }\n",
    "\n",
    "print('Done')"
   ]
  },
  {
   "cell_type": "markdown",
   "metadata": {},
   "source": [
    "# DEFINITIONS"
   ]
  },
  {
   "cell_type": "code",
   "execution_count": null,
   "metadata": {},
   "outputs": [],
   "source": [
    "profile={'Type':'Good',\n",
    "         'rewardType':'Progressive',\n",
    "         'initialSpeed':['0','10','8'],\n",
    "         'Speed':'0',\n",
    "         'Tag':['CoT-Late_DLS','CoT']\n",
    "         }\n",
    "\n",
    "animalList=['Rat369','Rat371','Rat365','Rat367']\n",
    "\n",
    "animalList=['Rat367','Rat368']"
   ]
  },
  {
   "cell_type": "code",
   "execution_count": null,
   "metadata": {},
   "outputs": [],
   "source": [
    "sessionList=batch_get_session_list(root,animalList,profile)['Sessions']\n",
    "sessionList"
   ]
  },
  {
   "cell_type": "code",
   "execution_count": null,
   "metadata": {},
   "outputs": [],
   "source": [
    "data.position[18].max()"
   ]
  },
  {
   "cell_type": "code",
   "execution_count": null,
   "metadata": {},
   "outputs": [],
   "source": [
    "speed=[]\n",
    "for session in sessionList:\n",
    "    data=Data(root,session[:6],session,saveAsPickle=False,param=defaultParam)\n",
    "    spd=forwardRunningSpeed(data).compute().values()\n",
    "    speed.extend(list(spd))\n",
    "    print(session[:6],np.nanmedian(list(spd)),np.nanstd(list(spd)))\n",
    "print(np.nanmedian(speed),np.nanstd(speed))    "
   ]
  },
  {
   "cell_type": "code",
   "execution_count": null,
   "metadata": {},
   "outputs": [],
   "source": [
    "for pos in get_positions_array_end_StereotypedTrials(data):\n",
    "    plt.plot(pos)\n",
    "plt.show()"
   ]
  },
  {
   "cell_type": "code",
   "execution_count": null,
   "metadata": {},
   "outputs": [],
   "source": [
    "a=get_positions_array_end_StereotypedTrials(data)"
   ]
  },
  {
   "cell_type": "code",
   "execution_count": null,
   "metadata": {},
   "outputs": [],
   "source": [
    "speed=forwardRunningSpeed(data).compute()"
   ]
  },
  {
   "cell_type": "code",
   "execution_count": null,
   "metadata": {},
   "outputs": [],
   "source": [
    "np.nanmedian(list(speed.values())),np.nanstd(list(speed.values()))"
   ]
  },
  {
   "cell_type": "code",
   "execution_count": null,
   "metadata": {},
   "outputs": [],
   "source": []
  },
  {
   "cell_type": "code",
   "execution_count": null,
   "metadata": {},
   "outputs": [],
   "source": []
  },
  {
   "cell_type": "code",
   "execution_count": null,
   "metadata": {},
   "outputs": [],
   "source": []
  },
  {
   "cell_type": "code",
   "execution_count": null,
   "metadata": {},
   "outputs": [],
   "source": []
  },
  {
   "cell_type": "code",
   "execution_count": null,
   "metadata": {},
   "outputs": [],
   "source": []
  }
 ],
 "metadata": {
  "kernelspec": {
   "display_name": "Python 3",
   "language": "python",
   "name": "python3"
  },
  "language_info": {
   "codemirror_mode": {
    "name": "ipython",
    "version": 3
   },
   "file_extension": ".py",
   "mimetype": "text/x-python",
   "name": "python",
   "nbconvert_exporter": "python",
   "pygments_lexer": "ipython3",
   "version": "3.7.4"
  }
 },
 "nbformat": 4,
 "nbformat_minor": 4
}
