{
 "cells": [
  {
   "cell_type": "markdown",
   "metadata": {},
   "source": [
    "# THIS NOTEBOOK IS DEDICATED TO THE ANALYSIS OF \n",
    "\n",
    "# *CoT task*\n"
   ]
  },
  {
   "cell_type": "code",
   "execution_count": 1,
   "metadata": {},
   "outputs": [
    {
     "data": {
      "text/html": [
       "<style>.container { width:90% !important; }</style>"
      ],
      "text/plain": [
       "<IPython.core.display.HTML object>"
      ]
     },
     "metadata": {},
     "output_type": "display_data"
    },
    {
     "name": "stdout",
     "output_type": "stream",
     "text": [
      "Done\n"
     ]
    }
   ],
   "source": [
    "import os\n",
    "import glob\n",
    "import numpy as np\n",
    "from platform import system as OS\n",
    "import pandas as pd\n",
    "import scipy.stats\n",
    "import math\n",
    "import datetime\n",
    "from copy import deepcopy\n",
    "from IPython.display import clear_output, display, HTML, Image\n",
    "import matplotlib.cm as cm\n",
    "import warnings\n",
    "import types\n",
    "warnings.filterwarnings(\"ignore\")\n",
    "import sys, time\n",
    "import pickle\n",
    "import matplotlib.pyplot as plt\n",
    "from scipy import stats\n",
    "from matplotlib import mlab\n",
    "from mpl_toolkits.mplot3d import Axes3D\n",
    "import matplotlib.animation as animation\n",
    "from pylab import *\n",
    "import matplotlib.backends.backend_pdf\n",
    "from sklearn.decomposition import KernelPCA\n",
    "\n",
    "ThisNoteBookPath=os.path.dirname(os.path.realpath(\"__file__\"))\n",
    "CommonNoteBookesPath=os.path.join(os.path.split(ThisNoteBookPath)[0],\"load_preprocess_rat\")\n",
    "CWD=os.getcwd()\n",
    "os.chdir(CommonNoteBookesPath)\n",
    "root='/data'\n",
    "%run UtilityTools.ipynb\n",
    "%run Animal_Tags.ipynb\n",
    "%run Lesion_Size.ipynb\n",
    "%run BatchRatBehavior.ipynb\n",
    "%run plotRat_documentation_3_KinematicsInvestigation.ipynb\n",
    "%run plotRat_documentation_1_GeneralBehavior.ipynb\n",
    "%run loadRat_documentation.ipynb\n",
    "%run RunBatchRat_3_CompareGroups.ipynb\n",
    "os.chdir(CWD)\n",
    "\n",
    "# logging.getLogger().setLevel(logging.WARNING)\n",
    "param={\n",
    "    \"binSize\":0.25,\n",
    "    \"trialOffset\":20., #max end of trial, in seconds (position will be cutted)\n",
    "    \"sigmaSmoothPosition\":0.1,  #smooth the position\n",
    "    #\"sigmaSmoothPosition\":0.33 for pavel dataType\n",
    "    \"sigmaSmoothSpeed\":0.3, #smooth the speed\n",
    "    \"positionDiffRange\": [2.,5.], #min and max differences allowed between two consecutive positions\n",
    "                                  #min to correct start, max to correct jumps\n",
    "    \"pawFrequencyRange\":[2.,10.],\n",
    "    \"startAnalysisParams\":[10,0.2,0.5],\n",
    "    \"cameraToTreadmillDelay\":2., #seconds, usual time between camera start and treadmill start\n",
    "    \"nbJumpMax\" : 100., #if jumps>nbJumpMax, trial is badly tracked\n",
    "    \n",
    "    \n",
    "    #parameter to detect end of trial (first position minima)\n",
    "    \"endTrial_backPos\":55,  # minima is after the animal went once to the back (after first time position>backPos)\n",
    "    \"endTrial_frontPos\":30, # minima's position is in front of treadmill (position[end]<frontPos)\n",
    "    \"endTrial_minTimeSec\":4, # minima is after minTimeSec seconds (time[end]>minTimeSec)\n",
    "    }\n",
    "Y1,Y2=(0,90)\n",
    "BadLateRats=('Rat223','Rat231')\n",
    "print('Done')"
   ]
  },
  {
   "cell_type": "code",
   "execution_count": 2,
   "metadata": {},
   "outputs": [],
   "source": [
    "def plot_event_1on1(root, SessionDict, TaskParamToPlot,\n",
    "                    ax=None, preSlice=slice(-5,None), postSlice=slice(0,5)):\n",
    "    \n",
    "    Plot = True\n",
    "    if ax is None:\n",
    "        Plot=False\n",
    "    \n",
    "    \n",
    "    Results,nSessionPre,nSessionPost=event_statistic2(root,\n",
    "                                                     SessionDict,\n",
    "                                                     parameter=param,\n",
    "                                                     redo=False,\n",
    "                                                     TaskParamToPlot=[TaskParamToPlot])\n",
    "\n",
    "    data=np.array(list(Results[TaskParamToPlot].values()))\n",
    "    slicedPreData  = np.ones((data.shape))*np.nan\n",
    "    slicedPostData = np.ones((data.shape))*np.nan\n",
    "    \n",
    "    for row,Dnan in enumerate(data):\n",
    "        Dpre= Dnan[:nSessionPre][~ np.isnan(Dnan[:nSessionPre])]\n",
    "        Dpost=Dnan[nSessionPre:][~ np.isnan(Dnan[nSessionPre:])]\n",
    "        preData =Dpre[preSlice]\n",
    "        postData=Dpost[postSlice]\n",
    "\n",
    "        slicedPreData[row,:len(preData)]=preData\n",
    "        slicedPostData[row,:len(postData)]=postData\n",
    "    \n",
    "    y0=np.nanmean(slicedPreData,axis=1)\n",
    "    y1=np.nanmean(slicedPostData,axis=1)\n",
    "    \n",
    "    y=np.array([y0,y1]).T\n",
    "    \n",
    "    if Plot:\n",
    "        #plotting the errorbar\n",
    "        props={'color':'k','linewidth':1}\n",
    "        ax.boxplot(x=y,whis=[5,95],\n",
    "                      positions=[-.5,.5], widths=.3,\n",
    "                      showcaps=False, showfliers=False,\n",
    "                      medianprops=props, boxprops=props, whiskerprops=props,\n",
    "                      zorder=2)\n",
    "\n",
    "        #plotting single animals\n",
    "        for before,after in y:\n",
    "            ax.plot([-.5,.5],[before,after],lw=.5,alpha=1,zorder=1)\n",
    "        \n",
    "    return y, slicedPreData, slicedPostData"
   ]
  },
  {
   "cell_type": "code",
   "execution_count": 4,
   "metadata": {},
   "outputs": [],
   "source": [
    "profile={'Type':'Good',\n",
    "         'rewardType':'Progressive',\n",
    "         'initialSpeed':['0','10'],\n",
    "         'Speed':'0',\n",
    "         'Tag':['ImmobileTreadmill-EXP','CoT']\n",
    "         }\n",
    "\n",
    "animalList=['Rat369']"
   ]
  },
  {
   "cell_type": "code",
   "execution_count": 11,
   "metadata": {},
   "outputs": [],
   "source": [
    "sessionList=batch_get_session_list(root,animalList,profile)['Sessions']"
   ]
  },
  {
   "cell_type": "code",
   "execution_count": 12,
   "metadata": {},
   "outputs": [
    {
     "data": {
      "text/plain": [
       "['Rat369_2019_10_03_15_42',\n",
       " 'Rat369_2019_10_04_13_44',\n",
       " 'Rat369_2019_10_07_16_16']"
      ]
     },
     "execution_count": 12,
     "metadata": {},
     "output_type": "execute_result"
    }
   ],
   "source": [
    "sessionList"
   ]
  },
  {
   "cell_type": "code",
   "execution_count": null,
   "metadata": {},
   "outputs": [],
   "source": []
  },
  {
   "cell_type": "code",
   "execution_count": null,
   "metadata": {},
   "outputs": [],
   "source": []
  },
  {
   "cell_type": "code",
   "execution_count": null,
   "metadata": {},
   "outputs": [],
   "source": []
  },
  {
   "cell_type": "code",
   "execution_count": null,
   "metadata": {},
   "outputs": [],
   "source": []
  },
  {
   "cell_type": "code",
   "execution_count": null,
   "metadata": {},
   "outputs": [],
   "source": []
  },
  {
   "cell_type": "code",
   "execution_count": null,
   "metadata": {},
   "outputs": [],
   "source": []
  }
 ],
 "metadata": {
  "kernelspec": {
   "display_name": "Python 3",
   "language": "python",
   "name": "python3"
  },
  "language_info": {
   "codemirror_mode": {
    "name": "ipython",
    "version": 3
   },
   "file_extension": ".py",
   "mimetype": "text/x-python",
   "name": "python",
   "nbconvert_exporter": "python",
   "pygments_lexer": "ipython3",
   "version": "3.7.4"
  }
 },
 "nbformat": 4,
 "nbformat_minor": 4
}
