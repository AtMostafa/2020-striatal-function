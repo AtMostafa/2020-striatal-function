{
 "cells": [
  {
   "cell_type": "markdown",
   "metadata": {},
   "source": [
    "# THIS NOTEBOOK IS DEDICATED TO THE ANALYSIS OF \n",
    "\n",
    "# *SEQ SCORE / WAITING TIME*\n"
   ]
  },
  {
   "cell_type": "code",
   "execution_count": 70,
   "metadata": {},
   "outputs": [
    {
     "data": {
      "text/html": [
       "<style>.container { width:90% !important; }</style>"
      ],
      "text/plain": [
       "<IPython.core.display.HTML object>"
      ]
     },
     "metadata": {},
     "output_type": "display_data"
    },
    {
     "name": "stdout",
     "output_type": "stream",
     "text": [
      "Done\n"
     ]
    }
   ],
   "source": [
    "import os\n",
    "import glob\n",
    "import numpy as np\n",
    "from platform import system as OS\n",
    "import pandas as pd\n",
    "import scipy.stats\n",
    "import math\n",
    "import datetime\n",
    "from copy import deepcopy\n",
    "from IPython.display import clear_output, display, HTML, Image\n",
    "import matplotlib.cm as cm\n",
    "import warnings\n",
    "import types\n",
    "warnings.filterwarnings(\"ignore\")\n",
    "import sys, time\n",
    "import pickle\n",
    "import matplotlib.pyplot as plt\n",
    "from scipy import stats\n",
    "from matplotlib import mlab\n",
    "from mpl_toolkits.mplot3d import Axes3D\n",
    "import matplotlib.animation as animation\n",
    "from pylab import *\n",
    "import matplotlib.backends.backend_pdf\n",
    "from sklearn.decomposition import KernelPCA\n",
    "\n",
    "ThisNoteBookPath=os.path.dirname(os.path.realpath(\"__file__\"))\n",
    "CommonNoteBookesPath=os.path.join(os.path.split(ThisNoteBookPath)[0],\"load_preprocess_rat\")\n",
    "CWD=os.getcwd()\n",
    "os.chdir(CommonNoteBookesPath)\n",
    "root='/data'\n",
    "%run UtilityTools.ipynb\n",
    "%run Animal_Tags.ipynb\n",
    "%run Lesion_Size.ipynb\n",
    "%run BatchRatBehavior.ipynb\n",
    "%run plotRat_documentation_3_KinematicsInvestigation.ipynb\n",
    "%run plotRat_documentation_1_GeneralBehavior.ipynb\n",
    "%run loadRat_documentation.ipynb\n",
    "%run RunBatchRat_3_CompareGroups.ipynb\n",
    "os.chdir(CWD)\n",
    "\n",
    "param={\n",
    "    \"binSize\":0.25,\n",
    "    \"trialOffset\":20., #max end of trial, in seconds (position will be cutted)\n",
    "    \"sigmaSmoothPosition\":0.1,  #smooth the position\n",
    "    #\"sigmaSmoothPosition\":0.33 for pavel dataType\n",
    "    \"sigmaSmoothSpeed\":0.3, #smooth the speed\n",
    "    \"positionDiffRange\": [2.,5.], #min and max differences allowed between two consecutive positions\n",
    "                                  #min to correct start, max to correct jumps\n",
    "    \"pawFrequencyRange\":[2.,10.],\n",
    "    \"startAnalysisParams\":[10,0.2,0.5],\n",
    "    \"cameraToTreadmillDelay\":2., #seconds, usual time between camera start and treadmill start\n",
    "    \"nbJumpMax\" : 100., #if jumps>nbJumpMax, trial is badly tracked\n",
    "    \n",
    "    \n",
    "    #parameter to detect end of trial (first position minima)\n",
    "    \"endTrial_backPos\":55,  # minima is after the animal went once to the back (after first time position>backPos)\n",
    "    \"endTrial_frontPos\":30, # minima's position is in front of treadmill (position[end]<frontPos)\n",
    "    \"endTrial_minTimeSec\":4, # minima is after minTimeSec seconds (time[end]>minTimeSec)\n",
    "    }\n",
    "Y1,Y2=(0,90)\n",
    "BadLateRats=('Rat223','Rat231')\n",
    "print('Done')"
   ]
  },
  {
   "cell_type": "markdown",
   "metadata": {},
   "source": [
    "## motor seq score"
   ]
  },
  {
   "cell_type": "code",
   "execution_count": 16,
   "metadata": {},
   "outputs": [],
   "source": [
    "def plot_event_1on1(root, SessionDict, TaskParamToPlot,\n",
    "                    ax=None, preSlice=slice(-5,None), postSlice=slice(0,5)):\n",
    "    \n",
    "    Plot = True\n",
    "    if ax is None:\n",
    "        Plot=False\n",
    "    \n",
    "    \n",
    "    Results,nSessionPre,nSessionPost=event_statistic(root,\n",
    "                                                     SessionDict,\n",
    "                                                     parameter=param,\n",
    "                                                     redo=False,\n",
    "                                                     TaskParamToPlot=[TaskParamToPlot])\n",
    "\n",
    "    data=np.array(list(Results[TaskParamToPlot].values()))\n",
    "    slicedPreData  = np.ones((data.shape))*np.nan\n",
    "    slicedPostData = np.ones((data.shape))*np.nan\n",
    "    \n",
    "    for row,Dnan in enumerate(data):\n",
    "        Dpre= Dnan[:nSessionPre][~ np.isnan(Dnan[:nSessionPre])]\n",
    "        Dpost=Dnan[nSessionPre:][~ np.isnan(Dnan[nSessionPre:])]\n",
    "        preData =Dpre[preSlice]\n",
    "        postData=Dpost[postSlice]\n",
    "\n",
    "        slicedPreData[row,:len(preData)]=preData\n",
    "        slicedPostData[row,:len(postData)]=postData\n",
    "    \n",
    "    y0=np.nanmean(slicedPreData,axis=1)\n",
    "    y1=np.nanmean(slicedPostData,axis=1)\n",
    "    \n",
    "    y=np.array([y0,y1]).T\n",
    "    \n",
    "    if Plot:\n",
    "        #plotting the errorbar\n",
    "        props={'color':'k','linewidth':1}\n",
    "        ax.boxplot(x=y,whis=[5,95],\n",
    "                      positions=[-.5,.5], widths=.3,\n",
    "                      showcaps=False, showfliers=False,\n",
    "                      medianprops=props, boxprops=props, whiskerprops=props,\n",
    "                      zorder=2)\n",
    "\n",
    "        #plotting single animals\n",
    "        for before,after in y:\n",
    "            ax.plot([-.5,.5],[before,after],lw=.5,alpha=1,zorder=1)\n",
    "        \n",
    "    return y, slicedPreData, slicedPostData"
   ]
  },
  {
   "cell_type": "code",
   "execution_count": 68,
   "metadata": {},
   "outputs": [],
   "source": [
    "profile1={'Type':'Good',\n",
    "         'rewardType':'Progressive',\n",
    "         'initialSpeed':['0','10'],\n",
    "         'Speed':'10',\n",
    "         'Tag':['Control', 'Control-AfterBreak', 'Control-Late-NoTimeout-BackToTimeout',\n",
    "          'Control-NoTimeout-Control','Control-Sharp','IncReward-Late-Sharp',\n",
    "          'Control-Sharp-AfterBreak','ImmobileTreadmill-Control']\n",
    "         }\n",
    "profile2={'Type':'Good',\n",
    "         'rewardType':'Progressive',\n",
    "         'initialSpeed':['0','10'],\n",
    "         'Speed':'10',\n",
    "         'Tag':['Late-Lesion_DLS','Late-Lesion_DMS','Late-Lesion_DS',\n",
    "                'Late-Lesion_DS-Sharp','Late-Lesion_DMS-Sharp']\n",
    "         }\n",
    "\n",
    "Profiles=(profile1,profile2)\n",
    "TaskParamToPlot=[\"Motor Sequence Score\",\"Maximum Position\"]\n",
    "preSlice=slice(-5,None)\n",
    "postSlice=slice(-5,None)"
   ]
  },
  {
   "cell_type": "code",
   "execution_count": 100,
   "metadata": {},
   "outputs": [
    {
     "data": {
      "image/png": "[encoded data removed]",
      "text/plain": [
       "<Figure size 432x288 with 1 Axes>"
      ]
     },
     "execution_count": 100,
     "metadata": {},
     "output_type": "execute_result"
    }
   ],
   "source": [
    "badAnimalList=[]\n",
    "for i,animal in enumerate(SessionDict.keys()):\n",
    "    if animal in BadLateRats: #low seq score\n",
    "        badAnimalList.append(animal)\n",
    "\n",
    "\n",
    "F=plt.figure(1)\n",
    "ax=F.add_subplot(111)\n",
    "\n",
    "_,SessionDict=event_detect(root, Profiles[0], Profiles[1])\n",
    "y, nSessionPre, slicedPostData=plot_event_1on1(root,SessionDict, TaskParamToPlot=TaskParamToPlot[0],ax=ax,\n",
    "                preSlice=preSlice, postSlice=postSlice);\n",
    "clear_output()\n",
    "F"
   ]
  },
  {
   "cell_type": "code",
   "execution_count": 99,
   "metadata": {},
   "outputs": [
    {
     "name": "stdout",
     "output_type": "stream",
     "text": [
      "0\tRat139\t0.24884818610332768\t0.3024062428277664\t0.053558056724438724\n",
      "1\tRat137\t0.6509273301136567\t0.7108458554862895\t0.05991852537263287\n",
      "2\tRat254\t0.6435807562560975\t0.5468366127914077\t-0.09674414346468974\n",
      "3\tRat301\t0.5710068699012452\t0.608707281777269\t0.0377004118760238\n",
      "4\tRat122\t0.6256636271529888\t0.6943136573571357\t0.06865003020414684\n",
      "5\tRat302\t0.7121087565460967\t0.7898582843358962\t0.07774952778979949\n",
      "6\tRat308\t0.6808169934640523\t0.6641238253178552\t-0.016693168146197146\n",
      "7\tRat141\t0.5143138706630243\t0.35181563490173895\t-0.1624982357612853\n",
      "8\tRat164\t0.6604987685434447\t0.7974047748941366\t0.13690600635069194\n",
      "9\tRat256\t0.3551710143379702\t0.7443861581446287\t0.3892151438066585\n",
      "10\tRat217\t0.3940249282829603\t0.6470548487909052\t0.2530299205079449\n",
      "11\tRat264\t0.4501073422069558\t0.28837553385894715\t-0.16173180834800865\n",
      "12\tRat227\t0.5727051826407773\t0.8134112617580957\t0.24070607911731845\n",
      "13\tRat260\t0.3865099969711191\t0.17665334466762223\t-0.20985665230349687\n",
      "14\tRat123\t0.40080002009182875\t0.23303974128314012\t-0.16776027880868863\n",
      "15\tRat218\t0.04797418808843753\t0.5527234855568827\t0.5047492974684451\n",
      "16\tRat225\t0.7287039933270775\t0.8216890484918764\t0.09298505516479894\n",
      "17\tRat229\t0.20509377664109124\t0.3926404281519371\t0.18754665151084587\n",
      "18\tRat113\t0.6530491473616473\t0.7029137873497261\t0.049864639988078774\n",
      "19\tRat161\t0.6168013114701308\t0.5933905778602925\t-0.023410733609838363\n",
      "20\tRat224\t0.04834124869894063\t0.1622002419109691\t0.11385899321202847\n",
      "21\tRat255\t0.6736637346431916\t0.6116868104821845\t-0.061976924161007085\n",
      "22\tRat232\t0.44470475004361243\t0.5463834422657952\t0.10167869222218273\n",
      "23\tRat299\t0.6803921568627451\t0.7221838519819205\t0.041791695119175354\n",
      "24\tRat144\t0.22403400825471892\t0.07316347545623356\t-0.15087053279848536\n",
      "25\tRat131\t0.5683806747372474\t0.563513956480209\t-0.004866718257038438\n",
      "26\tRat140\t0.41914940203592527\t0.5048376253812058\t0.08568822334528053\n",
      "27\tRat091\t0.6690791297370244\t0.7972255840774063\t0.12814645434038185\n",
      "28\tRat120\t0.7978998057067516\t0.8811701612903227\t0.0832703555835711\n",
      "29\tRat249\t0.3269832840472985\t0.5290246489949995\t0.20204136494770097\n",
      "30\tRat106\t0.7489782453737459\t0.691341394969131\t-0.05763685040461486\n",
      "31\tRat138\t0.38939549943338186\t0.5098314669548529\t0.12043596752147107\n",
      "32\tRat085\t0.839603963493882\t0.9174999999999999\t0.07789603650611787\n",
      "33\tRat220\t0.15293425886169554\t0.4610165659890718\t0.3080823071273763\n",
      "34\tRat230\t0.1612093080623355\t0.2586057336295356\t0.0973964255672001\n",
      "35\tRat222\t0.36780916111287426\t0.8219376456876457\t0.45412848457477145\n",
      "36\tRat250\t0.7426277372262774\t0.8144771060057161\t0.0718493687794387\n",
      "37\tRat251\t0.3238017745208687\t0.29445203666175945\t-0.02934973785910927\n",
      "38\tRat304\t0.8232401651892001\t0.8754770096965906\t0.05223684450739052\n",
      "39\tRat305\t0.28375280460442887\t0.465892979047419\t0.18214017444299013\n",
      "40\tRat096\t0.4429098679098679\t0.5668486821570744\t0.12393881424720649\n",
      "41\tRat162\t0.5259105079684933\t0.5276689976689977\t0.0017584897005044064\n",
      "42\tRat221\t0.5687204808930872\t0.4952140065639464\t-0.07350647432914087\n",
      "43\tRat300\t0.7656826964362388\t0.6090366443520321\t-0.15664605208420668\n",
      "44\tRat121\t0.7572506963373401\t0.7352327548656424\t-0.022017941471697666\n",
      "45\tRat231\t0.26883442265795204\t0.014862936368152465\t-0.2539714862897996\n",
      "46\tRat095\t0.713316710968987\t0.7835364118053464\t0.07021970083635942\n",
      "47\tRat215\t0.10555102332903965\t0.08831250099390932\t-0.017238522335130332\n",
      "48\tRat223\t0.434074074074074\t0.054628099173553726\t-0.3794459749005203\n",
      "49\tRat284\t0.889837978100994\t0.8661113310706746\t-0.023726647030319348\n",
      "50\tRat124\t0.40884484228473994\t0.30402007708853473\t-0.1048247651962052\n",
      "51\tRat263\t0.5753159041394336\t0.6121992503775004\t0.03688334623806688\n",
      "52\tRat163\t0.2637655295610295\t0.807844196780367\t0.5440786672193375\n",
      "53\tRat219\t0.35938820994497955\t0.5431073243408626\t0.18371911439588307\n",
      "54\tRat226\t0.4233865081847565\t0.658004041311181\t0.23461753312642447\n",
      "55\tRat132\t0.5819346269346269\t0.7050400019079858\t0.12310537497335883\n",
      "56\tRat252\t0.5460078033117405\t0.6672832635316824\t0.12127546021994196\n"
     ]
    }
   ],
   "source": [
    "for i,animal in enumerate(SessionDict.keys()):\n",
    "    print(i, animal,y[i,0],y[i,1],y[i,1]-y[i,0] ,sep='\\t')\n",
    "#     if y[i,1] < 0.4:\n",
    "#         print(i, animal, y[i,0],y[i,1], sep='\\t')\n"
   ]
  },
  {
   "cell_type": "code",
   "execution_count": 97,
   "metadata": {},
   "outputs": [
    {
     "data": {
      "image/png": "[encoded data removed]",
      "text/plain": [
       "<Figure size 432x288 with 1 Axes>"
      ]
     },
     "execution_count": 97,
     "metadata": {},
     "output_type": "execute_result"
    }
   ],
   "source": [
    "badAnimalList=[]\n",
    "for i,animal in enumerate(SessionDict.keys()):\n",
    "    if y[i,0] < 0.4 or y[i,1] < 0.4 or animal in BadLateRats: #low seq score\n",
    "        badAnimalList.append(animal)\n",
    "\n",
    "F=plt.figure(2)\n",
    "ax=F.add_subplot(111)\n",
    "\n",
    "_,SessionDict1=event_detect(root, Profiles[0], Profiles[1],badAnimals=badAnimalList)\n",
    "y1, nSessionPre1, slicedPostData1=plot_event_1on1(root,SessionDict1, TaskParamToPlot=TaskParamToPlot[1],ax=ax,\n",
    "                                                  preSlice=slice(-2,None), postSlice=slice(0,3));\n",
    "clear_output()\n",
    "F"
   ]
  },
  {
   "cell_type": "code",
   "execution_count": 98,
   "metadata": {},
   "outputs": [
    {
     "name": "stdout",
     "output_type": "stream",
     "text": [
      "0\tRat137\t70.37259492844231\t68.63100732692295\t-1.741587601519356\n",
      "1\tRat254\t72.11703961519257\t69.34660659284968\t-2.7704330223428855\n",
      "2\tRat301\t67.2251159749713\t71.37308756259897\t4.147971587627666\n",
      "3\tRat122\t73.65627519386165\t73.80457612451744\t0.1483009306557932\n",
      "4\tRat302\t71.80612626187789\t46.6616030711499\t-25.144523190727995\n",
      "5\tRat308\t63.61466160450757\t66.5473745334893\t2.9327129289817364\n",
      "6\tRat164\t74.17460161572939\t80.23140927821395\t6.056807662484559\n",
      "7\tRat227\t56.65019242614599\t44.22530310630297\t-12.424889319843025\n",
      "8\tRat225\t76.62231303008647\t57.369499266153525\t-19.25281376393295\n",
      "9\tRat113\t76.12939451826664\t75.10285094113767\t-1.0265435771289617\n",
      "10\tRat161\t71.32141259475596\t77.52325322765454\t6.2018406328985805\n",
      "11\tRat255\t69.29102566578987\t56.026876740722535\t-13.264148925067339\n",
      "12\tRat232\t84.7614566384037\t83.5360540003086\t-1.2254026380951046\n",
      "13\tRat299\t74.83602709710837\t67.04134168861505\t-7.794685408493322\n",
      "14\tRat131\t68.35124894941832\t68.56962244088345\t0.21837349146512963\n",
      "15\tRat140\t63.57480694440386\t65.8082258850486\t2.2334189406447393\n",
      "16\tRat091\t72.69503569346423\t74.23607486054583\t1.5410391670815926\n",
      "17\tRat120\t72.06977490668814\t70.69653484010321\t-1.373240066584927\n",
      "18\tRat106\t70.73493623504473\t73.12047543731846\t2.3855392022737334\n",
      "19\tRat085\t74.02459489956567\t70.12478822700086\t-3.8998066725648073\n",
      "20\tRat250\t78.46369839499056\t70.97686266828534\t-7.486835726705223\n",
      "21\tRat304\t74.80688016642449\t49.89556334842138\t-24.911316818003108\n",
      "22\tRat096\t52.113472724799934\t51.91846842315234\t-0.19500430164759308\n",
      "23\tRat162\t74.91682241948186\t68.86371820136512\t-6.053104218116744\n",
      "24\tRat221\t75.35504641972653\t50.053757347491086\t-25.30128907223545\n",
      "25\tRat300\t73.32745511189927\t70.19451189830743\t-3.132943213591844\n",
      "26\tRat121\t76.95574566628466\t77.84201739351403\t0.8862717272293708\n",
      "27\tRat095\t70.10947701060644\t72.0752450121952\t1.9657680015887564\n",
      "28\tRat284\t76.09522379336548\t71.21460472824617\t-4.880619065119305\n",
      "29\tRat263\t70.05779894455554\t70.53694038087433\t0.47914143631878403\n",
      "30\tRat226\t75.76302988647222\t72.3394802618099\t-3.4235496246623285\n",
      "31\tRat132\t67.00783106248406\t63.06306269072619\t-3.944768371757867\n",
      "32\tRat252\t78.84658573117073\t25.782295929768775\t-53.064289801401955\n"
     ]
    }
   ],
   "source": [
    "for i,animal in enumerate(SessionDict1.keys()):\n",
    "    print(i, animal,y1[i,0],y1[i,1],y1[i,1]-y1[i,0] ,sep='\\t')\n",
    "#     if y[i,1] < 0.4:\n",
    "#         print(i, animal, y[i,0],y[i,1], sep='\\t')\n"
   ]
  },
  {
   "cell_type": "code",
   "execution_count": 51,
   "metadata": {},
   "outputs": [],
   "source": [
    "x=y1[:,0]-y1[:,1]\n",
    "# x[y[:,0]<3.5]=np.nan\n",
    "x=x[~ np.isnan(x)]\n",
    "q=np.random.normal(loc=0.0, scale=np.std(x), size=(500,1))\n",
    "p=permtest(x=x, y=q, iterN=10000)"
   ]
  },
  {
   "cell_type": "code",
   "execution_count": 52,
   "metadata": {},
   "outputs": [
    {
     "data": {
      "text/plain": [
       "array([0.0059994])"
      ]
     },
     "execution_count": 52,
     "metadata": {},
     "output_type": "execute_result"
    }
   ],
   "source": [
    "p.p_val"
   ]
  },
  {
   "cell_type": "code",
   "execution_count": null,
   "metadata": {},
   "outputs": [],
   "source": []
  },
  {
   "cell_type": "code",
   "execution_count": null,
   "metadata": {},
   "outputs": [],
   "source": []
  },
  {
   "cell_type": "code",
   "execution_count": null,
   "metadata": {},
   "outputs": [],
   "source": []
  },
  {
   "cell_type": "code",
   "execution_count": null,
   "metadata": {},
   "outputs": [],
   "source": []
  },
  {
   "cell_type": "code",
   "execution_count": null,
   "metadata": {},
   "outputs": [],
   "source": []
  },
  {
   "cell_type": "code",
   "execution_count": null,
   "metadata": {},
   "outputs": [],
   "source": []
  },
  {
   "cell_type": "code",
   "execution_count": null,
   "metadata": {},
   "outputs": [],
   "source": []
  },
  {
   "cell_type": "code",
   "execution_count": null,
   "metadata": {},
   "outputs": [],
   "source": []
  },
  {
   "cell_type": "code",
   "execution_count": null,
   "metadata": {},
   "outputs": [],
   "source": []
  }
 ],
 "metadata": {
  "kernelspec": {
   "display_name": "Python 3",
   "language": "python",
   "name": "python3"
  },
  "language_info": {
   "codemirror_mode": {
    "name": "ipython",
    "version": 3
   },
   "file_extension": ".py",
   "mimetype": "text/x-python",
   "name": "python",
   "nbconvert_exporter": "python",
   "pygments_lexer": "ipython3",
   "version": "3.7.3"
  }
 },
 "nbformat": 4,
 "nbformat_minor": 4
}
