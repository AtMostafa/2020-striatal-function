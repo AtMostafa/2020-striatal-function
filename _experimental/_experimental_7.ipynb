{
 "cells": [
  {
   "cell_type": "markdown",
   "metadata": {},
   "source": [
    "# Code to analyze the locomotion test"
   ]
  },
  {
   "cell_type": "code",
   "execution_count": null,
   "metadata": {},
   "outputs": [],
   "source": [
    "#DEV\n",
    "import os\n",
    "import glob\n",
    "import numpy as np\n",
    "from platform import system as OS\n",
    "import pandas as pd\n",
    "import tables as tb\n",
    "import h5py\n",
    "import scipy.stats\n",
    "import datetime\n",
    "from scipy.ndimage.filters import gaussian_filter as smooth\n",
    "from IPython.display import clear_output, display, HTML, Image\n",
    "import matplotlib.cm as cm\n",
    "import warnings\n",
    "\n",
    "warnings.filterwarnings(\"ignore\")\n",
    "import sys\n",
    "import pickle\n",
    "import matplotlib.pyplot as plt\n",
    "\n",
    "if OS() == 'Linux':\n",
    "    root = \"/data\"\n",
    "elif OS() == 'Windows':\n",
    "    root = \"C:\\\\DATA\\\\\"\n",
    "else:\n",
    "    root = \"/Users/davidrobbe/Documents/Data/\"\n",
    "\n",
    "param={\n",
    "    \"goalTime\":7,#needed for pavel data only\n",
    "    \"treadmillRange\":[0,90],#pavel error conversion \"treadmillRange\":[0,80]\n",
    "    \"maxTrialDuration\":15,\n",
    "    \"interTrialDuration\":10,#None pavel\n",
    "    \"endTrial_frontPos\":30,\n",
    "    \"endTrial_backPos\":55, \n",
    "    \"endTrial_minTimeSec\":4,\n",
    "    \"cameraSamplingRate\":25, #needed for new setup    \n",
    "\n",
    "    \"sigmaSmoothPosition\":0.1,#0.33, 0.18 pavel\n",
    "    \"sigmaSmoothSpeed\":0.3,#0.3, 0.5 pavel\n",
    "    \"nbJumpMax\":100,#200 pavel\n",
    "    \"binSize\":0.25,\n",
    "    #parameters used to preprocess (will override the default parameters)\n",
    "}  \n",
    "ThisNoteBookPath=os.path.dirname(os.path.realpath(\"__file__\"))\n",
    "CommonNoteBookesPath=os.path.join(os.path.split(ThisNoteBookPath)[0],\"load_preprocess_rat\")\n",
    "CWD=os.getcwd()\n",
    "os.chdir(CommonNoteBookesPath)\n",
    "%run Animal_Tags.ipynb\n",
    "%run UtilityTools.ipynb\n",
    "%run BatchRatBehavior.ipynb\n",
    "%run plotRat_documentation_3_KinematicsInvestigation.ipynb\n",
    "%run plotRat_documentation_1_GeneralBehavior.ipynb\n",
    "%run loadRat_documentation.ipynb\n",
    "%run RunBatchRat_3_CompareGroups.ipynb\n",
    "\n",
    "os.chdir(CWD)\n",
    "\n",
    "print('Done!')"
   ]
  },
  {
   "cell_type": "code",
   "execution_count": null,
   "metadata": {},
   "outputs": [],
   "source": [
    "get_pattern_animalList(root,'Late*DMS*')"
   ]
  },
  {
   "cell_type": "code",
   "execution_count": null,
   "metadata": {},
   "outputs": [],
   "source": []
  },
  {
   "cell_type": "markdown",
   "metadata": {},
   "source": [
    "#### ViewPoint intertrial analysis for Loco test"
   ]
  },
  {
   "cell_type": "markdown",
   "metadata": {},
   "source": [
    "check normal exploration"
   ]
  },
  {
   "cell_type": "code",
   "execution_count": null,
   "metadata": {},
   "outputs": [],
   "source": [
    "def find_persistent_movement_epochs(pos: np.array, TH: int, treadmillStep: float =0):\n",
    "    \"\"\"\n",
    "    this function finds epochs in the position of a single trial, pos, where the animal has moved\n",
    "    for a duration of at least, TH*cameraSamplingRate\n",
    "    pos: position as a np.array\n",
    "    TH: an integer like: TH=int(0.2*data.cameraSamplingRate)\n",
    "    treadmillStep: a float number to correct for treadmill movement, like:\n",
    "        treadmillStep=np.expand_dims(data.treadmillSpeed[trial]/data.cameraSamplingRate,1)\n",
    "    \"\"\"\n",
    "    pos_=smooth(pos,TH,mode=\"nearest\")\n",
    "    dp=np.append(np.diff(pos_)-treadmillStep,0)\n",
    "    dp=dp>=-treadmillStep\n",
    "    dp=dp*1\n",
    "    dpcross=np.absolute( np.append(np.diff(dp),0)-np.append(0,np.diff(dp)) )\n",
    "    #any 1 in dpcross mean a zero-crossing in diff(pos)\n",
    "    crossindex=np.where(dpcross)[0]\n",
    "    movementepoch=np.where(np.diff(crossindex)>TH)[0]\n",
    "\n",
    "    posMoveIndex=np.empty(shape=(len(movementepoch),2))\n",
    "\n",
    "    for i,index in enumerate(movementepoch):\n",
    "        posMoveIndex[i,:]=(crossindex[index],crossindex[index+1])\n",
    "        \n",
    "    return posMoveIndex\n",
    "\n",
    "def run_distance(data,trial=None):\n",
    "    if trial is None:\n",
    "        trial=list(data.position.keys())\n",
    "    elif not hasattr(trial,'__iter__'):\n",
    "        trial=[trial]\n",
    "        \n",
    "    dis=[0]\n",
    "    for i in trial:\n",
    "        et=(data.entranceTime[i]+data.cameraToTreadmillDelay)*data.cameraSamplingRate\n",
    "        allTraj=data.position[i]\n",
    "    #     allTraj=scipy.ndimage.filters.gaussian_filter1d(allTraj, sigma=data.cameraSamplingRate/5, truncate=3.0)\n",
    "        if np.isnan(et):\n",
    "            th=(data.maxTrialDuration[i]+data.cameraToTreadmillDelay)*data.cameraSamplingRate\n",
    "            th=int(th)\n",
    "        else:\n",
    "            th=int(et)\n",
    "        allTraj[th-1:]=np.nan\n",
    "        treadmillStep=np.expand_dims(data.treadmillSpeed[i]/data.cameraSamplingRate,1)\n",
    "        posMoveIndex=find_persistent_movement_epochs(allTraj,\n",
    "                                                     TH=int(0.6*data.cameraSamplingRate),\n",
    "                                                     treadmillStep=treadmillStep)\n",
    "\n",
    "        for i,j in posMoveIndex:\n",
    "            epochPos=allTraj[int(i):int(j)]\n",
    "            dis[-1]+=np.nansum(np.absolute(np.diff(epochPos)-treadmillStep))\n",
    "        dis.append(0)\n",
    "\n",
    "    return np.array(dis[:-1])\n",
    "\n",
    "def intertrial_displacement(data,trial=None):\n",
    "    if trial is None:\n",
    "        trial=list(data.position.keys())\n",
    "    elif not hasattr(trial,'__iter__'):\n",
    "        trial=[trial]\n",
    "    \n",
    "    dis=[0]\n",
    "    for i in trial:\n",
    "        if data.dataType != 'ViewPoint':\n",
    "            allTraj= data.position[i][int((-data.interTrialDuration[i]+1)*data.cameraSamplingRate):]\n",
    "            TH=int(0.6*data.cameraSamplingRate)\n",
    "        else:\n",
    "            allTraj=data.rawIntertrialPosition[i]\n",
    "            TH=int(0.6*data.cameraSamplingRateInterTrial)\n",
    "\n",
    "        posMoveIndex=find_persistent_movement_epochs(allTraj,\n",
    "                                                     TH=TH,\n",
    "                                                     )\n",
    "\n",
    "        for i,j in posMoveIndex:\n",
    "            epochPos=allTraj[int(i):int(j)]\n",
    "            dis[-1]+=np.nansum(np.absolute(np.diff(epochPos)))\n",
    "        dis.append(0)\n",
    "\n",
    "    return np.array(dis[:-1])"
   ]
  },
  {
   "cell_type": "code",
   "execution_count": null,
   "metadata": {},
   "outputs": [],
   "source": [
    "LesionAnimalList=['Rat325', 'Rat337', 'Rat341', 'Rat345']#, 'Rat329', 'Rat333']\n",
    "NormalAnimalList=['Rat359','Rat360','Rat361','Rat356','Rat357','Rat358','Rat373','Rat349']\n",
    "profile={'Type':'Good',\n",
    "         'rewardType':'Progressive',\n",
    "#          'initialSpeed':'10',\n",
    "#          'Speed':['10'],\n",
    "         'Tag':['Reverse-Late_DLS-EXP','Early-Lesion_DMS-EXP','Early-Lesion_DS-EXP',\n",
    "                'Control-EXP','ImmobileTreadmill-EXP']\n",
    "         }\n",
    "sessionList=batch_get_session_list(root,LesionAnimalList,profile)['Sessions']\n",
    "\n",
    "dis={}\n",
    "disIT={}\n",
    "for session in sessionList:\n",
    "    animal=session[:6]\n",
    "    data=Data(root,session[:6],session,param=param,redoPreprocess=False, saveAsPickle=False);\n",
    "    dis[animal]  =(run_distance(data))\n",
    "    disIT[animal]=intertrial_displacement(data)\n"
   ]
  },
  {
   "cell_type": "code",
   "execution_count": null,
   "metadata": {},
   "outputs": [],
   "source": [
    "EffectData=np.empty((4,2))\n",
    "for i,session in enumerate(sessionList):\n",
    "    animal=session[:6]\n",
    "    EffectData[i,:]=( np.sum(disIT[animal][0:5]), np.sum(disIT[animal][30:35]) )\n",
    "#     EffectData: natural locomotion, locomotion after fast speed trial"
   ]
  },
  {
   "cell_type": "code",
   "execution_count": null,
   "metadata": {},
   "outputs": [],
   "source": [
    "EffectData/2 #division due to length of intertirla being 60 instead of 30"
   ]
  },
  {
   "cell_type": "code",
   "execution_count": null,
   "metadata": {},
   "outputs": [],
   "source": [
    "animal='Rat174'\n",
    "session='Rat174_2018_04_10_14_07'\n",
    "data=Data(root,session[:6],session,param=param,redoPreprocess=False, saveAsPickle=False);\n",
    "dis[animal]  =(run_distance(data))\n",
    "disIT[animal]=intertrial_displacement(data)\n"
   ]
  },
  {
   "cell_type": "code",
   "execution_count": null,
   "metadata": {},
   "outputs": [],
   "source": [
    "EffectData2=( np.sum(disIT[animal][0:5]), np.sum(disIT[animal][20:25]) )\n",
    "EffectData2"
   ]
  },
  {
   "cell_type": "code",
   "execution_count": null,
   "metadata": {},
   "outputs": [],
   "source": []
  },
  {
   "cell_type": "code",
   "execution_count": null,
   "metadata": {},
   "outputs": [],
   "source": []
  },
  {
   "cell_type": "code",
   "execution_count": null,
   "metadata": {},
   "outputs": [],
   "source": []
  }
 ],
 "metadata": {
  "anaconda-cloud": {},
  "kernelspec": {
   "display_name": "Python 3",
   "language": "python",
   "name": "python3"
  },
  "language_info": {
   "codemirror_mode": {
    "name": "ipython",
    "version": 3
   },
   "file_extension": ".py",
   "mimetype": "text/x-python",
   "name": "python",
   "nbconvert_exporter": "python",
   "pygments_lexer": "ipython3",
   "version": "3.7.3"
  }
 },
 "nbformat": 4,
 "nbformat_minor": 4
}
