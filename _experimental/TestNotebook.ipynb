{
 "cells": [
  {
   "cell_type": "code",
   "execution_count": null,
   "metadata": {},
   "outputs": [],
   "source": [
    "#DEV\n",
    "import os\n",
    "import glob\n",
    "import numpy as np\n",
    "from platform import system as OS\n",
    "import pandas as pd\n",
    "import tables as tb\n",
    "import h5py\n",
    "import scipy.stats\n",
    "import datetime\n",
    "from copy import deepcopy\n",
    "from IPython.display import clear_output, display, HTML, Image\n",
    "import matplotlib.cm as cm\n",
    "import warnings\n",
    "\n",
    "warnings.filterwarnings(\"ignore\")\n",
    "import sys\n",
    "import pickle\n",
    "import matplotlib.pyplot as plt\n",
    "\n",
    "if OS() == 'Linux':\n",
    "    root = \"/data\"\n",
    "elif OS() == 'Windows':\n",
    "    root = \"C:\\\\DATA\\\\\"\n",
    "else:\n",
    "    root = \"/Users/davidrobbe/Documents/Data/\"\n",
    "\n",
    "param={\n",
    "    \"goalTime\":7,#needed for pavel data only\n",
    "    \"treadmillRange\":[0,90],#pavel error conversion \"treadmillRange\":[0,80]\n",
    "    \"maxTrialDuration\":15,\n",
    "    \"interTrialDuration\":10,#None pavel\n",
    "    \"endTrial_frontPos\":30,\n",
    "    \"endTrial_backPos\":55, \n",
    "    \"endTrial_minTimeSec\":4,\n",
    "    \"cameraSamplingRate\":25, #needed for new setup    \n",
    "\n",
    "    \"sigmaSmoothPosition\":0.1,#0.33, 0.18 pavel\n",
    "    \"sigmaSmoothSpeed\":0.3,#0.3, 0.5 pavel\n",
    "    \"nbJumpMax\":100,#200 pavel\n",
    "    \"binSize\":0.25,\n",
    "    #parameters used to preprocess (will override the default parameters)\n",
    "}  \n",
    "ThisNoteBookPath=os.path.dirname(os.path.realpath(\"__file__\"))\n",
    "CommonNoteBookesPath=os.path.join(os.path.split(ThisNoteBookPath)[0],\"load_preprocess_rat\")\n",
    "CWD=os.getcwd()\n",
    "os.chdir(CommonNoteBookesPath)\n",
    "%run Animal_Tags.ipynb\n",
    "%run UtilityTools.ipynb\n",
    "%run BatchRatBehavior.ipynb\n",
    "%run plotRat_documentation_3_KinematicsInvestigation.ipynb\n",
    "%run plotRat_documentation_1_GeneralBehavior.ipynb\n",
    "%run loadRat_documentation.ipynb\n",
    "%run RunBatchRat_3_CompareGroups.ipynb\n",
    "\n",
    "os.chdir(CWD)"
   ]
  },
  {
   "cell_type": "code",
   "execution_count": null,
   "metadata": {},
   "outputs": [],
   "source": [
    "get_pattern_animalList(root,'Late*DMS*')"
   ]
  },
  {
   "cell_type": "markdown",
   "metadata": {},
   "source": [
    "# Saving data for Stef"
   ]
  },
  {
   "cell_type": "code",
   "execution_count": null,
   "metadata": {},
   "outputs": [],
   "source": [
    "profilePost={'Type': 'Good',\n",
    " 'rewardType': 'Progressive',\n",
    " 'option': ['not used', 'AsymmetricLesion'],\n",
    " 'initialSpeed': ['0', '10'],\n",
    " 'Speed': '10',\n",
    " 'Tag': ['Late-Lesion_DLS',\n",
    "  'Late-Lesion_DS',\n",
    "  'Late-Lesion_DMS',\n",
    "  'Late-Lesion_DS-Sharp',\n",
    "  'Late-Lesion_DMS-Sharp']}\n",
    "\n",
    "profilePre={'Type':'Good',\n",
    "          'rewardType':'Progressive',\n",
    "          'initialSpeed':['10','0'],\n",
    "          'Speed':'10',\n",
    "          'Tag':['Control', 'Control-AfterBreak', 'Control-Late-NoTimeout-BackToTimeout', 'Control-NoTimeout-Control',\n",
    "                 'Control-Sharp','IncReward-Late-Sharp','Control-Sharp-AfterBreak','ImmobileTreadmill-Control']\n",
    "          }\n",
    "\n",
    "preSlice =slice(-5,None)\n",
    "postSlice=slice(0,3)\n",
    "finSlice =slice(8,13)\n",
    "Param=\"Forward Running Speed\"\n",
    "Param=\"median entrance time (sec)\"\n",
    "Param=\"Maximum Position\"\n",
    "Param=\"standard deviation of entrance time\"\n",
    "\n",
    "animalList=batch_get_animal_list(root, profilePost)"
   ]
  },
  {
   "cell_type": "code",
   "execution_count": null,
   "metadata": {},
   "outputs": [],
   "source": [
    "len(animalList)"
   ]
  },
  {
   "cell_type": "code",
   "execution_count": null,
   "metadata": {},
   "outputs": [],
   "source": [
    "Before=dict.fromkeys(animalList,list())\n",
    "After=dict.fromkeys(animalList,list())\n",
    "Final=dict.fromkeys(animalList,list())\n",
    "\n",
    "for animal in animalList:\n",
    "    #Before Lesion\n",
    "    Before[animal]=animal_learning_stats(root, animal, PerfParam=Param, profile=profilePre,\n",
    "                          sessionSlice=preSlice)\n",
    "    \n",
    "    #After Lesion\n",
    "    After[animal]=animal_learning_stats(root, animal, PerfParam=Param, profile=profilePost,\n",
    "                          sessionSlice=postSlice)\n",
    "    \n",
    "    #Final Lesion\n",
    "    Final[animal]=animal_learning_stats(root, animal, PerfParam=Param, profile=profilePost,\n",
    "                          sessionSlice=finSlice)\n",
    "\n",
    "    \n",
    "\n",
    "with open(os.path.join(root,'Stef','Before',f'{Param}.p'),'wb') as f:\n",
    "    pickle.dump(Before, f, protocol=pickle.HIGHEST_PROTOCOL)\n",
    "\n",
    "with open(os.path.join(root,'Stef','After',f'{Param}.p'),'wb') as f:\n",
    "    pickle.dump(After, f, protocol=pickle.HIGHEST_PROTOCOL)\n",
    "    \n",
    "with open(os.path.join(root,'Stef','Final',f'{Param}.p'),'wb') as f:\n",
    "    pickle.dump(Final, f, protocol=pickle.HIGHEST_PROTOCOL)"
   ]
  },
  {
   "cell_type": "code",
   "execution_count": null,
   "metadata": {},
   "outputs": [],
   "source": [
    "#Define other measures\n",
    "def _sd_speed(data):\n",
    "    speed=forwardRunningSpeed(data).compute()\n",
    "    result=np.std(list(speed.values()))\n",
    "    return result\n",
    "\n",
    "def _sd_max_pos(data):\n",
    "    seqObj=sequentialTrials(data)\n",
    "    *_,peaks=seqObj._compute_max_pos()\n",
    "    if len(peaks) > 10:\n",
    "        maxPos=np.nanstd(peaks)\n",
    "    else:\n",
    "        maxPos=np.nan\n",
    "\n",
    "    return maxPos\n",
    "\n",
    "def _max_pos_traj(data):\n",
    "    seqObj=sequentialTrials(data)\n",
    "    _,trials,_=seqObj._compute_max_pos()\n",
    "    res=[data.position[t] for t in trials]\n",
    "    return res\n",
    "\n",
    "\n",
    "#run the following line by line\n",
    "Param=_sd_speed.__name__\n",
    "Param=_sd_max_pos.__name__\n",
    "Param=_max_pos_traj.__name__"
   ]
  },
  {
   "cell_type": "code",
   "execution_count": null,
   "metadata": {},
   "outputs": [],
   "source": [
    "Before=dict.fromkeys(animalList,list())\n",
    "After=dict.fromkeys(animalList,list())\n",
    "Final=dict.fromkeys(animalList,list())\n",
    "\n",
    "for animal in animalList:\n",
    "    #Before Lesion\n",
    "    Before[animal]=animal_learning_stats(root, animal, PerfParam=Param, profile=profilePre,\n",
    "                          sessionSlice=preSlice,redo=False)\n",
    "    \n",
    "    #After Lesion\n",
    "    After[animal]=animal_learning_stats(root, animal, PerfParam=Param, profile=profilePost,\n",
    "                          sessionSlice=postSlice,redo=False)\n",
    "    \n",
    "    #Final Lesion\n",
    "    Final[animal]=animal_learning_stats(root, animal, PerfParam=Param, profile=profilePost,\n",
    "                          sessionSlice=finSlice,redo=False)\n",
    "\n",
    "    \n",
    "\n",
    "with open(os.path.join(root,'Stef','Before',f'{Param}.p'),'wb') as f:\n",
    "    pickle.dump(Before, f, protocol=pickle.HIGHEST_PROTOCOL)\n",
    "\n",
    "with open(os.path.join(root,'Stef','After',f'{Param}.p'),'wb') as f:\n",
    "    pickle.dump(After, f, protocol=pickle.HIGHEST_PROTOCOL)\n",
    "    \n",
    "with open(os.path.join(root,'Stef','Final',f'{Param}.p'),'wb') as f:\n",
    "    pickle.dump(Final, f, protocol=pickle.HIGHEST_PROTOCOL)"
   ]
  },
  {
   "cell_type": "code",
   "execution_count": null,
   "metadata": {},
   "outputs": [],
   "source": []
  },
  {
   "cell_type": "code",
   "execution_count": null,
   "metadata": {},
   "outputs": [],
   "source": []
  },
  {
   "cell_type": "code",
   "execution_count": null,
   "metadata": {},
   "outputs": [],
   "source": []
  },
  {
   "cell_type": "code",
   "execution_count": null,
   "metadata": {},
   "outputs": [],
   "source": []
  },
  {
   "cell_type": "code",
   "execution_count": null,
   "metadata": {},
   "outputs": [],
   "source": []
  },
  {
   "cell_type": "code",
   "execution_count": null,
   "metadata": {},
   "outputs": [],
   "source": []
  },
  {
   "cell_type": "code",
   "execution_count": null,
   "metadata": {},
   "outputs": [],
   "source": [
    "if \"__file__\" not in dir():\n",
    "    profileLesion={'Type': 'Good',\n",
    "     'rewardType': 'Progressive',\n",
    "     'Speed': '10',\n",
    "     'Tag': ['Late-Lesion_DLS','Late-Lesion_DS-Sharp','Late-Lesion_DS','Late-Lesion_DMS','Late-Lesion_DMS-Sharp',\n",
    "            'Control','Control-BackTo10','Control-Late-BackTo10','Control-AfterBreak','Control-Sharp',\n",
    "             'Control-Late-NoTimeout-BackToTimeout', 'Control-NoTimeout-Control','IncReward-Late-Sharp',\n",
    "             'Control-Sharp-AfterBreak','ImmobileTreadmill-Control',\n",
    "            'Early-Lesion_DLS','Early-Lesion_DMS','Early-Lesion_DMS-NoHab','Early-Lesion_DS','Early-Lesion_DS-NoHab',\n",
    "            'Reverse','Reverse-AfterBreak','Reverse-Late_DLS']\n",
    "                  }\n",
    "\n",
    "    Params=[\"Forward Running Speed\",'median entrance time (sec)',\"Motor Sequence Score\",\"Maximum Position\",\n",
    "           \"standard deviation of entrance time\",]\n",
    "    \n",
    "    animalList=batch_get_animal_list(root,profileLesion)\n",
    "    \n",
    "    for animal in animalList:\n",
    "        for perfParam in Params:\n",
    "            \n",
    "            animal_learning_stats(root, animal, PerfParam=perfParam, profile={'Type':'Good'}, redo=False)"
   ]
  },
  {
   "cell_type": "code",
   "execution_count": null,
   "metadata": {},
   "outputs": [],
   "source": []
  },
  {
   "cell_type": "code",
   "execution_count": null,
   "metadata": {},
   "outputs": [],
   "source": []
  },
  {
   "cell_type": "code",
   "execution_count": null,
   "metadata": {},
   "outputs": [],
   "source": []
  },
  {
   "cell_type": "code",
   "execution_count": null,
   "metadata": {},
   "outputs": [],
   "source": []
  },
  {
   "cell_type": "code",
   "execution_count": null,
   "metadata": {},
   "outputs": [],
   "source": []
  },
  {
   "cell_type": "code",
   "execution_count": null,
   "metadata": {},
   "outputs": [],
   "source": [
    "import PyPDF2 as ppdf"
   ]
  },
  {
   "cell_type": "code",
   "execution_count": null,
   "metadata": {},
   "outputs": [],
   "source": [
    "file1='/home/david/Documents/TEMP/Task_Example_Group.pdf'\n",
    "file2='/home/david/Documents/TEMP/TreadmillSketch.pdf'\n",
    "file3='/home/david/Documents/TEMP/NEW.pdf'"
   ]
  },
  {
   "cell_type": "code",
   "execution_count": null,
   "metadata": {},
   "outputs": [],
   "source": [
    "f1=ppdf.PdfFileReader(file1).getPage(0)\n",
    "f2=ppdf.PdfFileReader(file2).getPage(0)\n",
    "\n",
    "f1.mergeTranslatedPage(page2=f2, tx=55, ty=245, expand=False)\n",
    "\n",
    "writer=ppdf.PdfFileWriter()\n",
    "writer.addPage(f1)\n",
    "with open(file3,'wb') as f3:\n",
    "    writer.write(f3)"
   ]
  },
  {
   "cell_type": "markdown",
   "metadata": {},
   "source": [
    "# Max Pos Comparison"
   ]
  },
  {
   "cell_type": "code",
   "execution_count": null,
   "metadata": {},
   "outputs": [],
   "source": [
    "profile={'Type':'Good',\n",
    "         'rewardType':'Progressive',\n",
    "         'initialSpeed':['0','10'],\n",
    "         'Speed':'10',\n",
    "         'Tag':['Control', 'Control-AfterBreak', 'Control-Late-NoTimeout-BackToTimeout',\n",
    "          'Control-NoTimeout-Control','Control-Sharp','IncReward-Late-Sharp',\n",
    "          'Control-Sharp-AfterBreak','ImmobileTreadmill-Control']\n",
    "         }\n",
    "animalList=batch_get_animal_list(root,profile)\n",
    "\n",
    "profile2={'Type':'Good',\n",
    "     'option': ['not used','AsymmetricLesion'],\n",
    "     'rewardType':'Progressive',\n",
    "     'initialSpeed':['10','0'],\n",
    "     'Speed':'10',\n",
    "     'Tag':['Early-Lesion_DS','Early-Lesion_DS-NoHab','Early-Lesion_DMS','Early-Lesion_DLS',\n",
    "           'Late-Lesion_DMS','Late-Lesion_DLS','Late-Lesion_DS',\n",
    "           'Late-Lesion_DMS-Sharp','Late-Lesion_DLS-Sharp','Late-Lesion_DS-Sharp']\n",
    "              }\n",
    "animalList2=batch_get_animal_list(root,profile2)\n",
    "PerfParam=[\"Maximum Position\"]\n",
    "sessionSlice=slice(-5,None)"
   ]
  },
  {
   "cell_type": "code",
   "execution_count": null,
   "metadata": {},
   "outputs": [],
   "source": [
    "dataCtrl=[]\n",
    "for animal in animalList:\n",
    "    dataCtrl.append(animal_learning_stats(root, animal, PerfParam[0], profile, sessionSlice))\n",
    "    \n",
    "dataCtrl=np.array(dataCtrl)\n",
    "dataCtrl=np.nanmedian(dataCtrl,axis=1)\n",
    "dataCtrl=dataCtrl[np.logical_not(np.isnan(dataCtrl))]\n",
    "\n",
    "dataLes=[]\n",
    "for animal in animalList2:\n",
    "    dataLes.append(animal_learning_stats(root, animal, PerfParam[0], profile2, sessionSlice))\n",
    "    \n",
    "dataLes=np.array(dataLes)\n",
    "dataLes=np.nanmedian(dataLes,axis=1)\n",
    "dataLes=dataLes[np.logical_not(np.isnan(dataLes))]"
   ]
  },
  {
   "cell_type": "code",
   "execution_count": null,
   "metadata": {},
   "outputs": [],
   "source": [
    "plt.boxplot((dataCtrl,dataLes))\n",
    "plt.ylim([0,90])\n",
    "plt.show()"
   ]
  },
  {
   "cell_type": "code",
   "execution_count": null,
   "metadata": {},
   "outputs": [],
   "source": [
    "np.nanpercentile(bootstrap(dataCtrl,10000),[1,99]),np.nanpercentile(bootstrap(dataLes,10000),[1,99])"
   ]
  },
  {
   "cell_type": "code",
   "execution_count": null,
   "metadata": {},
   "outputs": [],
   "source": []
  },
  {
   "cell_type": "markdown",
   "metadata": {},
   "source": [
    "# TRIANGLE"
   ]
  },
  {
   "cell_type": "code",
   "execution_count": null,
   "metadata": {},
   "outputs": [],
   "source": [
    "session='Rat249_2018_08_21_13_02'\n",
    "data=Data(root,session[:6],session,param={},redoPreprocess=False, saveAsPickle=False);\n",
    "pos=data.position[30]"
   ]
  },
  {
   "cell_type": "code",
   "execution_count": null,
   "metadata": {},
   "outputs": [],
   "source": [
    "data.maxTrialDuration\n"
   ]
  },
  {
   "cell_type": "code",
   "execution_count": null,
   "metadata": {},
   "outputs": [],
   "source": [
    "class points:\n",
    "    def __init__(self,x,y):\n",
    "        self.x=x\n",
    "        self.y=y\n",
    "\n",
    "class edges:\n",
    "    def __init__(self,A: points, B: points, traj):\n",
    "        line1=traj[A.x:B.x]\n",
    "        line2=traj[B.x:C.x]\n",
    "        time1=np.arange(len(line1))\n",
    "        time2=np.arange(len(line2))\n",
    "        \n",
    "        coef, residuals, *_=np.polynomial.polynomial.polyfit(time1, line1, deg=1, full=True)\n",
    "        \n",
    "    \n",
    "class tri:\n",
    "    \n",
    "    \"\"\"\n",
    "    make sure trial position exists and entrance time is not NaN\n",
    "    \"\"\"\n",
    "    def __init__(self, data, trial):\n",
    "        self.trial=trial\n",
    "        self.traj=data.position[trial]\n",
    "        self.cs=data.cameraSamplingRate\n",
    "        self.delay=int(data.cameraToTreadmillDelay*self.cs)\n",
    "        self.startIndex=self.cs*self.delay\n",
    "        self.maxTrialDuration=int(data.maxTrialDuration[3]*self.cs)\n",
    "        \n",
    "        self.A=self.B=self.C=self.et=None\n",
    "        \n",
    "        self._read_et(data)\n",
    "        self.make_points()\n",
    "        self.make_edeges()\n",
    "        \n",
    "        \n",
    "    def make_points(self):\n",
    "        self.A= points(startIndex,self.traj[startIndex])\n",
    "        \n",
    "        self.B= points(np.argmax(self.traj[startIndex+1:self.et]) , np.amax(self.traj[startIndex+1:self.et]))\n",
    "        \n",
    "        self.C= points(self.et,self.traj[self.et])\n",
    "        \n",
    "    def _read_et(self,data):\n",
    "        try:\n",
    "            self.et=int(data.entranceTime[self.trial]*self.cs)+self.delay\n",
    "        except:\n",
    "            self.et=np.nan\n",
    "        \n",
    "        if abs(self.et-self.maxTrialDuration)<10:\n",
    "            self.et=len(self.traj)-1\n"
   ]
  },
  {
   "cell_type": "markdown",
   "metadata": {},
   "source": [
    "# Are first trials faster?"
   ]
  },
  {
   "cell_type": "code",
   "execution_count": null,
   "metadata": {},
   "outputs": [],
   "source": [
    "profile={'Type':'Good',\n",
    "         'rewardType':'Progressive',\n",
    "         'initialSpeed':['0','10'],\n",
    "         'Speed':'10',\n",
    "         'Tag':['Control', 'Control-AfterBreak', 'Control-Late-NoTimeout-BackToTimeout',\n",
    "          'Control-NoTimeout-Control','Control-Sharp','IncReward-Late-Sharp',\n",
    "          'Control-Sharp-AfterBreak','ImmobileTreadmill-Control']\n",
    "         }\n",
    "animalList=batch_get_animal_list(root,profile)\n",
    "PerfParam=[\"Forward Running Speed on Last 40\",\"Forward Running Speed on First 40\"]\n",
    "sessionSlice=slice(-5,None)"
   ]
  },
  {
   "cell_type": "code",
   "execution_count": null,
   "metadata": {},
   "outputs": [],
   "source": [
    "dataLast=[]\n",
    "dataFrst=[]\n",
    "for animal in animalList:\n",
    "    dataLast.append(animal_learning_stats(root, animal, PerfParam[0], profile, sessionSlice))\n",
    "    dataFrst.append(animal_learning_stats(root, animal, PerfParam[1], profile, sessionSlice))\n",
    "    \n",
    "dataLast=np.array(dataLast)\n",
    "dataFrst=np.array(dataFrst)"
   ]
  },
  {
   "cell_type": "code",
   "execution_count": null,
   "metadata": {},
   "outputs": [],
   "source": [
    "plt.hist(np.nanmean(dataLast-dataFrst,axis=1),20);\n",
    "plt.xlim([-25,25]);"
   ]
  },
  {
   "cell_type": "markdown",
   "metadata": {},
   "source": [
    "lesioned animals"
   ]
  },
  {
   "cell_type": "code",
   "execution_count": null,
   "metadata": {},
   "outputs": [],
   "source": [
    "profile2={'Type':'Good',\n",
    "     'option': ['not used','AsymmetricLesion'],\n",
    "     'rewardType':'Progressive',\n",
    "     'initialSpeed':['10','0'],\n",
    "     'Speed':'10',\n",
    "     'Tag':['Early-Lesion_DS','Early-Lesion_DS-NoHab','Early-Lesion_DMS','Early-Lesion_DLS',\n",
    "           'Late-Lesion_DMS','Late-Lesion_DLS','Late-Lesion_DS',\n",
    "           'Late-Lesion_DMS-Sharp','Late-Lesion_DLS-Sharp','Late-Lesion_DS-Sharp']\n",
    "              }\n",
    "animalList2=batch_get_animal_list(root,profile2)\n",
    "PerfParam=[\"Forward Running Speed on Last 40\",\"Forward Running Speed on First 40\"]\n",
    "sessionSlice=slice(-5,None)"
   ]
  },
  {
   "cell_type": "code",
   "execution_count": null,
   "metadata": {},
   "outputs": [],
   "source": [
    "dataLast2=[]\n",
    "dataFrst2=[]\n",
    "for animal in animalList2:\n",
    "    dataLast2.append(animal_learning_stats(root, animal, PerfParam[0], profile2, sessionSlice))\n",
    "    dataFrst2.append(animal_learning_stats(root, animal, PerfParam[1], profile2, sessionSlice))\n",
    "    \n",
    "dataLast2=np.array(dataLast2)\n",
    "dataFrst2=np.array(dataFrst2)"
   ]
  },
  {
   "cell_type": "code",
   "execution_count": null,
   "metadata": {},
   "outputs": [],
   "source": [
    "plt.hist(np.nanmean(dataLast2-dataFrst2,axis=1),20);\n",
    "plt.xlim([-25,25]);"
   ]
  },
  {
   "cell_type": "code",
   "execution_count": null,
   "metadata": {},
   "outputs": [],
   "source": [
    "test=permtest(np.nanmean(dataLast-dataFrst,axis=1),\n",
    "              np.nanmean(dataLast2-dataFrst2,axis=1),\n",
    "              10000)\n",
    "test.pVal"
   ]
  },
  {
   "cell_type": "code",
   "execution_count": null,
   "metadata": {},
   "outputs": [],
   "source": [
    "CI1=bootstrap(np.nanmean(dataLast-dataFrst,axis=1),10000);\n",
    "CI2=bootstrap(np.nanmean(dataLast2-dataFrst2,axis=1),10000);\n",
    "\n",
    "print(np.nanpercentile(CI1,[5,95]),np.nanpercentile(CI2,[5,95]))"
   ]
  },
  {
   "cell_type": "code",
   "execution_count": null,
   "metadata": {},
   "outputs": [],
   "source": [
    "plt.boxplot(x=[np.nanmean(dataFrst,axis=1)[1:],np.nanmean(dataLast,axis=1)],whis=[5,95],\n",
    "                      positions=[0,1]);\n",
    "plt.ylim([20,100]);"
   ]
  },
  {
   "cell_type": "code",
   "execution_count": null,
   "metadata": {},
   "outputs": [],
   "source": [
    "plt.boxplot(x=[np.nanmean(dataFrst2,axis=1)[1:],np.nanmean(dataLast2,axis=1)],whis=[5,95],\n",
    "                      positions=[0,1]);\n",
    "plt.ylim([20,100]);"
   ]
  },
  {
   "cell_type": "code",
   "execution_count": null,
   "metadata": {},
   "outputs": [],
   "source": []
  },
  {
   "cell_type": "code",
   "execution_count": null,
   "metadata": {},
   "outputs": [],
   "source": []
  },
  {
   "cell_type": "markdown",
   "metadata": {},
   "source": [
    "#### ViewPoint intertrial analysis for Loco test"
   ]
  },
  {
   "cell_type": "markdown",
   "metadata": {},
   "source": [
    "check normal exploration"
   ]
  },
  {
   "cell_type": "code",
   "execution_count": null,
   "metadata": {},
   "outputs": [],
   "source": [
    "def find_persistent_movement_epochs(pos: np.array, TH: int, treadmillStep: float =0):\n",
    "    \"\"\"\n",
    "    this function finds epochs in the position of a single trial, pos, where the animal has moved\n",
    "    for a duration of at least, TH*cameraSamplingRate\n",
    "    pos: position as a np.array\n",
    "    TH: an integer like: TH=int(0.2*data.cameraSamplingRate)\n",
    "    treadmillStep: a float number to correct for treadmill movement, like:\n",
    "        treadmillStep=np.expand_dims(data.treadmillSpeed[trial]/data.cameraSamplingRate,1)\n",
    "    \"\"\"\n",
    "    \n",
    "    dp=np.append(np.diff(pos)-treadmillStep,0)\n",
    "    dp=dp>=0\n",
    "    dp=dp*1\n",
    "    dpcross=np.absolute( np.append(np.diff(dp),0)-np.append(0,np.diff(dp)) )\n",
    "    #any 1 in dpcross mean a zero-crossing in diff(pos)\n",
    "    crossindex=np.where(dpcross)[0]\n",
    "    movementepoch=np.where(np.diff(crossindex)>TH)[0]\n",
    "\n",
    "    posMoveIndex=np.empty(shape=(len(movementepoch),2))\n",
    "\n",
    "    for i,index in enumerate(movementepoch):\n",
    "        posMoveIndex[i,:]=(crossindex[index],crossindex[index+1])\n",
    "        \n",
    "    return posMoveIndex\n",
    "\n",
    "def run_distance(data,trial=None):\n",
    "    if trial is None:\n",
    "        trial=list(data.position.keys())\n",
    "    elif not hasattr(trial,'__iter__'):\n",
    "        trial=[trial]\n",
    "        \n",
    "    dis=[0]\n",
    "    for i in trial:\n",
    "        et=(data.entranceTime[i]+data.cameraToTreadmillDelay)*data.cameraSamplingRate\n",
    "        allTraj=data.position[i]\n",
    "    #     allTraj=scipy.ndimage.filters.gaussian_filter1d(allTraj, sigma=data.cameraSamplingRate/5, truncate=3.0)\n",
    "        if np.isnan(et):\n",
    "            th=(data.maxTrialDuration[i]+data.cameraToTreadmillDelay)*data.cameraSamplingRate\n",
    "            th=int(th)\n",
    "        else:\n",
    "            th=int(et)\n",
    "        allTraj[th-1:]=np.nan\n",
    "        treadmillStep=np.expand_dims(data.treadmillSpeed[i]/data.cameraSamplingRate,1)\n",
    "        posMoveIndex=find_persistent_movement_epochs(allTraj,\n",
    "                                                     TH=int(0.6*data.cameraSamplingRate),\n",
    "                                                     treadmillStep=treadmillStep)\n",
    "\n",
    "        for i,j in posMoveIndex:\n",
    "            epochPos=allTraj[int(i):int(j)]\n",
    "            dis[-1]+=np.nansum(np.absolute(np.diff(epochPos)-treadmillStep))\n",
    "        dis.append(0)\n",
    "\n",
    "    return np.array(dis[:-1])\n",
    "\n",
    "def intertrial_displacement(data,trial=None):\n",
    "    if trial is None:\n",
    "        trial=list(data.position.keys())\n",
    "    elif not hasattr(trial,'__iter__'):\n",
    "        trial=[trial]\n",
    "    \n",
    "    dis=[0]\n",
    "    for i in trial:\n",
    "        if data.dataType != 'ViewPoint':\n",
    "            allTraj= data.position[i][int((-data.interTrialDuration[i]+1)*data.cameraSamplingRate):]\n",
    "            TH=int(0.6*data.cameraSamplingRate)\n",
    "        else:\n",
    "            allTraj=data.rawIntertrialPosition[i]\n",
    "            TH=int(0.6*data.cameraSamplingRateInterTrial)\n",
    "\n",
    "        posMoveIndex=find_persistent_movement_epochs(allTraj,\n",
    "                                                     TH=TH,\n",
    "                                                     )\n",
    "\n",
    "        for i,j in posMoveIndex:\n",
    "            epochPos=allTraj[int(i):int(j)]\n",
    "            dis[-1]+=np.nansum(np.absolute(np.diff(epochPos)))\n",
    "        dis.append(0)\n",
    "\n",
    "    return np.array(dis[:-1])"
   ]
  },
  {
   "cell_type": "code",
   "execution_count": null,
   "metadata": {},
   "outputs": [],
   "source": [
    "animalList=['Rat325', 'Rat337', 'Rat341', 'Rat345']#, 'Rat329', 'Rat333']\n",
    "profile={'Type':'Good',\n",
    "         'rewardType':'Progressive',\n",
    "#          'initialSpeed':'10',\n",
    "#          'Speed':['10'],\n",
    "         'Tag':['Reverse-Late_DLS-EXP','Early-Lesion_DS']\n",
    "         }\n",
    "sessionList=batch_get_session_list(root,animalList,profile)['Sessions']\n",
    "\n",
    "dis={}\n",
    "disIT={}\n",
    "for session in sessionList:\n",
    "    animal=session[:6]\n",
    "    data=Data(root,session[:6],session,param=param,redoPreprocess=False, saveAsPickle=False);\n",
    "    dis[animal]  =(run_distance(data))\n",
    "    disIT[animal]=intertrial_displacement(data)\n"
   ]
  },
  {
   "cell_type": "code",
   "execution_count": null,
   "metadata": {},
   "outputs": [],
   "source": [
    "EffectData=np.empty((4,2))\n",
    "for i,session in enumerate(sessionList):\n",
    "    animal=session[:6]\n",
    "    EffectData[i,:]=( np.sum(disIT[animal][0:5]), np.sum(disIT[animal][30:35]) )\n",
    "#     EffectData: natural locomotion, locomotion after fast speed trial"
   ]
  },
  {
   "cell_type": "code",
   "execution_count": null,
   "metadata": {},
   "outputs": [],
   "source": [
    "EffectData/2 #division due to length of intertirla being 60 instead of 30"
   ]
  },
  {
   "cell_type": "code",
   "execution_count": null,
   "metadata": {},
   "outputs": [],
   "source": [
    "animal='Rat369'\n",
    "session='Rat369_2019_10_03_15_42'\n",
    "data=Data(root,session[:6],session,param=param,redoPreprocess=True, saveAsPickle=True);\n"
   ]
  },
  {
   "cell_type": "code",
   "execution_count": null,
   "metadata": {},
   "outputs": [],
   "source": []
  },
  {
   "cell_type": "code",
   "execution_count": null,
   "metadata": {},
   "outputs": [],
   "source": []
  },
  {
   "cell_type": "markdown",
   "metadata": {},
   "source": [
    "# copy the TimePaper data"
   ]
  },
  {
   "cell_type": "code",
   "execution_count": null,
   "metadata": {},
   "outputs": [],
   "source": [
    "animalList=[\n",
    "    'Rat077', 'Rat078', 'Rat084', 'Rat085', 'Rat088', 'Rat091', 'Rat095', 'Rat096', 'Rat098', 'Rat103',\n",
    "    'Rat104', 'Rat106', 'Rat110', 'Rat113', 'Rat120', 'Rat121', 'Rat122', 'Rat123', 'Rat124', 'Rat131',\n",
    "    'Rat132', 'Rat141', 'Rat142', 'Rat143', 'Rat144', 'Rat155', 'Rat156', 'Rat157', 'Rat158', 'Rat161',\n",
    "    'Rat162', 'Rat163', 'Rat164', 'Rat165', 'Rat166', 'Rat215', 'Rat217', 'Rat218', 'Rat219', 'Rat220',\n",
    "    'Rat221', 'Rat222', 'Rat223', 'Rat224', 'Rat225', 'Rat226', 'Rat227', 'Rat228', 'Rat229', 'Rat230',\n",
    "    'Rat231', 'Rat232', 'Rat246', 'Rat247', 'Rat248', 'Rat249', 'Rat250', 'Rat251', 'Rat252', 'Rat253',\n",
    "    'Rat254', 'Rat255', 'Rat256', 'Rat257', 'Rat258', 'Rat259', 'Rat260', 'Rat261', 'Rat262', 'Rat263',\n",
    "    'Rat264', 'Rat265', 'Rat280', 'Rat281', 'Rat282', 'Rat283', 'Rat284', 'Rat285', 'Rat286', 'Rat291',\n",
    "    'Rat297', 'Rat298', 'Rat299', 'Rat300', 'Rat301', 'Rat302', 'Rat303', 'Rat304', 'Rat305', 'Rat306',\n",
    "    'Rat307', 'Rat308', 'Rat334', 'Rat335', 'Rat336', 'Rat338', 'Rat339', 'Rat340', 'Rat342', 'Rat344',\n",
    "    'Rat346', 'Rat348', 'Rat349', 'Rat350', 'Rat352', 'Rat356', 'Rat357', 'Rat358', 'Rat359', 'Rat360',\n",
    "    'Rat361'\n",
    "    ]\n"
   ]
  },
  {
   "cell_type": "code",
   "execution_count": null,
   "metadata": {},
   "outputs": [],
   "source": [
    "if \"__file__\" not in dir():\n",
    "#     animalList=[\"Rat078\"]\n",
    "    PathToSourceDataFolder=\"/NAS02/\"\n",
    "    PathToDestinationDataFolder='/data/TimePaper2019/'\n",
    "    RsyncArgument=\"rsync -auvrR --max-size=50M \"\n",
    "    IncludeArgument=\"--exclude Histology --include '*/' --include '*.tag' --include '*/*.position' --include '*/*.mat' --include '*/*.entrancetimes' --include '*/*.lickbreaktime' --include '*/*.behav_param' --exclude '*/*.coder' --exclude '*/*.seq' --exclude '*/*.avi' --exclude '*.x*' \"\n",
    "    CWD=os.getcwd()                                    \n",
    "    os.chdir(PathToSourceDataFolder)\n",
    "    for animal in sorted(animalList):\n",
    "        print(animal+\" in progress...\")\n",
    "        os.system(RsyncArgument +  IncludeArgument + animal + \" \" + PathToDestinationDataFolder)\n",
    "        #sys.stdout.flush()\n",
    "    clear_output()             \n",
    "    os.chdir(CWD)\n",
    "    print(\"Done:\",animalList)"
   ]
  },
  {
   "cell_type": "code",
   "execution_count": null,
   "metadata": {},
   "outputs": [],
   "source": []
  },
  {
   "cell_type": "code",
   "execution_count": null,
   "metadata": {},
   "outputs": [],
   "source": []
  },
  {
   "cell_type": "code",
   "execution_count": null,
   "metadata": {},
   "outputs": [],
   "source": [
    "profile={'Type':'Good',\n",
    "         'rewardType':'Progressive',\n",
    "#          'initialSpeed':'10',\n",
    "#          'Speed':['10'],\n",
    "         'Tag':'Reverse'\n",
    "         }\n",
    "\n",
    "animalList=batch_get_animal_list(root,profile)\n",
    "print(animalList)"
   ]
  },
  {
   "cell_type": "code",
   "execution_count": null,
   "metadata": {},
   "outputs": [],
   "source": [
    "session='Rat217_2018_04_23_11_42'\n",
    "data=Data(root,session[:6],session,param=param,redoPreprocess=False, saveAsPickle=False);\n"
   ]
  },
  {
   "cell_type": "code",
   "execution_count": null,
   "metadata": {},
   "outputs": [],
   "source": [
    "i=20\n",
    "plt.plot(get_speed_treadmillON(data,i)[1],get_speed_treadmillON(data,i)[0],'r.')\n",
    "plt.plot(data.timeTreadmill[i],data.position[i],'g')\n",
    "plt.axhline(10)\n",
    "plt.axhline(-10)\n",
    "# plt.plot(data.timeBin,data.speedSmoothBin[i],'r')"
   ]
  },
  {
   "cell_type": "code",
   "execution_count": null,
   "metadata": {},
   "outputs": [],
   "source": [
    "speed,time=get_speed_treadmillON(data,i)"
   ]
  },
  {
   "cell_type": "code",
   "execution_count": null,
   "metadata": {},
   "outputs": [],
   "source": [
    "time[np.where(np.abs(speed)>10)[0][0]]"
   ]
  },
  {
   "cell_type": "code",
   "execution_count": null,
   "metadata": {},
   "outputs": [],
   "source": [
    "session='Rat264_2018_07_13_14_39'\n",
    "data=Data(root,session[:6],session,param=param,redoPreprocess=False, saveAsPickle=False);\n"
   ]
  },
  {
   "cell_type": "code",
   "execution_count": null,
   "metadata": {},
   "outputs": [],
   "source": [
    "seqTrials,_=sequential_trials(data)\n",
    "len(seqTrials)/data.nTrial"
   ]
  },
  {
   "cell_type": "code",
   "execution_count": null,
   "metadata": {},
   "outputs": [],
   "source": [
    "np.mean([min(data.speedSmoothBin[i]) for i in seqTrials])"
   ]
  },
  {
   "cell_type": "code",
   "execution_count": null,
   "metadata": {},
   "outputs": [],
   "source": [
    "def waiting_time(data, xFront=30, speedTolerance=10):\n",
    "    detect_trial_end(data,trials=data.position.keys())\n",
    "    cs=int(data.cameraSamplingRate)\n",
    "    trialStart=int(cs*data.cameraToTreadmillDelay)\n",
    "    \n",
    "    waitTrial=[]\n",
    "    waitTime=[]\n",
    "    for trial,pos in data.position.items():\n",
    "        \n",
    "        #starting from the front\n",
    "        if pos[trialStart]>xFront:\n",
    "            continue\n",
    "        #getting the instantaneous speed\n",
    "        speed,time=get_speed_treadmillON(data,trial)\n",
    "        \n",
    "        if len(np.where(np.abs(speed)>abs(speedTolerance))[0]) > 0: #first time speed is faster than speedTolerance\n",
    "            waitTime.append(time[np.where(np.abs(speed)>abs(speedTolerance))[0][0]])\n",
    "            waitTrial.append(trial)\n",
    "        \n",
    "        else: #always running at the speed of treadmill, so wait=0\n",
    "            waitTime.append(0)\n",
    "            waitTrial.append(trial)\n",
    "            \n",
    "    return np.array(waitTime),np.array(waitTrial)"
   ]
  },
  {
   "cell_type": "code",
   "execution_count": null,
   "metadata": {},
   "outputs": [],
   "source": [
    "waiting_time(data)"
   ]
  },
  {
   "cell_type": "code",
   "execution_count": null,
   "metadata": {},
   "outputs": [],
   "source": []
  },
  {
   "cell_type": "code",
   "execution_count": null,
   "metadata": {},
   "outputs": [],
   "source": []
  },
  {
   "cell_type": "code",
   "execution_count": null,
   "metadata": {},
   "outputs": [],
   "source": []
  },
  {
   "cell_type": "code",
   "execution_count": null,
   "metadata": {},
   "outputs": [],
   "source": []
  },
  {
   "cell_type": "markdown",
   "metadata": {},
   "source": [
    "sequential trials"
   ]
  },
  {
   "cell_type": "code",
   "execution_count": null,
   "metadata": {},
   "outputs": [],
   "source": [
    "def sequential_trials(data, xFront=30, xBackMin=50):\n",
    "    detect_trial_end(data,trials=data.position.keys())\n",
    "    cs=int(data.cameraSamplingRate)\n",
    "    beamOff=scipy.stats.mode(read_file(data,paramName=\"consider beam state after (s)\",valueType=float\n",
    "                                      )).mode[0]\n",
    "    beamStart=int(cs*beamOff)\n",
    "    trialStart=int(cs*data.cameraToTreadmillDelay)\n",
    "\n",
    "    seqTrial=[]\n",
    "    fireTime=[]\n",
    "    for trial,pos in data.position.items():\n",
    "        #starting from the front\n",
    "        if pos[trialStart]>xFront:\n",
    "            continue\n",
    "        \n",
    "        #not completing the trial\n",
    "        if np.isnan(data.entranceTime[trial]) or data.entranceTime[trial]==data.maxTrialDuration[trial]:\n",
    "            continue\n",
    "\n",
    "        trialPos=pos[trialStart:trialStart+int(cs*data.entranceTime[trial])]\n",
    "        \n",
    "        #moving a sufficiently backward!\n",
    "        if trialPos.max() < xBackMin:\n",
    "            continue\n",
    "        \n",
    "        #moving backward uninterrupted\n",
    "        backwardEpoch=trialPos[beamStart:trialPos.argmax()]\n",
    "        if np.any(np.diff(backwardEpoch)<0):\n",
    "            continue\n",
    "\n",
    "        #moving forward uninterrupted\n",
    "        forwardEpoch=trialPos[trialPos.argmax():]\n",
    "        if np.any(np.diff(forwardEpoch)>0):\n",
    "            continue\n",
    "\n",
    "        #The trial IS indeed sequential\n",
    "        seqTrial.append(trial)\n",
    "        fireTime.append((trialPos.argmax()/cs))\n",
    "\n",
    "    return np.array(seqTrial),np.array(fireTime)"
   ]
  },
  {
   "cell_type": "code",
   "execution_count": null,
   "metadata": {},
   "outputs": [],
   "source": [
    "session='Rat265_2018_07_13_14_39'\n",
    "data=Data(root,session[:6],session,param=param,redoPreprocess=False, saveAsPickle=False);\n",
    "a,b=sequential_trials(data, xFront=30, xBackMin=50)"
   ]
  },
  {
   "cell_type": "code",
   "execution_count": null,
   "metadata": {},
   "outputs": [],
   "source": [
    "plt.close('all')\n",
    "\n",
    "for trial in data.position:\n",
    "    if trial in a:\n",
    "        c='r'\n",
    "    else: continue\n",
    "    ax=plt.axes()\n",
    "    ax.cla()\n",
    "    ax.plot(data.position[trial],color=c)\n",
    "    ax.axvline((data.entranceTime[trial]+1)*25)\n",
    "    plt.show()    \n",
    "    plt.draw()\n",
    "    print(trial)\n",
    "    breakpoint()\n",
    "    clear_output()"
   ]
  },
  {
   "cell_type": "code",
   "execution_count": null,
   "metadata": {},
   "outputs": [],
   "source": [
    "ax=plt.axes()\n",
    "for trial in data.position:\n",
    "    if trial in a:\n",
    "        c='r'\n",
    "    else: c=[0,0,0,0]\n",
    "    ax.plot(data.position[trial],color=c,alpha=.1)"
   ]
  },
  {
   "cell_type": "code",
   "execution_count": null,
   "metadata": {},
   "outputs": [],
   "source": [
    "len(a)/data.nTrial"
   ]
  },
  {
   "cell_type": "code",
   "execution_count": null,
   "metadata": {},
   "outputs": [],
   "source": [
    "plt.hist(b,30)"
   ]
  },
  {
   "cell_type": "code",
   "execution_count": null,
   "metadata": {},
   "outputs": [],
   "source": [
    "np.mean(b),np.median(b)"
   ]
  },
  {
   "cell_type": "markdown",
   "metadata": {},
   "source": [
    "forward speed"
   ]
  },
  {
   "cell_type": "code",
   "execution_count": null,
   "metadata": {},
   "outputs": [],
   "source": [
    "class forwardRunningSpeed:\n",
    "    '''\n",
    "    This class detects the running forward portion of the \n",
    "    trials and returns the forward speed\n",
    "    \n",
    "    '''\n",
    "    def __init__(self,data,minXBack=60,minXFront=40):\n",
    "        assert isinstance(data,Data), 'input data is not an instance of Data class'\n",
    "        \n",
    "        data.position_correction()\n",
    "        self.cs          =data.cameraSamplingRate\n",
    "        self.posDict     =data.position\n",
    "        self.goodTrials  =data.goodTrials\n",
    "        self.treadmillSpd=data.treadmillSpeed\n",
    "        self.et          =data.entranceTime\n",
    "        self.timeEndTrial=detect_trial_end(data)\n",
    "        self.cameraDelay =data.cameraToTreadmillDelay\n",
    "        self.xBack       =minXBack\n",
    "        self.xFront      =minXFront\n",
    "        self.session     =data.sessionPath\n",
    "        self.forwardSpeed=None\n",
    "    \n",
    "    def compute(self):\n",
    "        forwardSpeed={}\n",
    "        for trial,pos in self.posDict.items():\n",
    "            back_P = (pos >self.xBack).astype(int)\n",
    "            _backCross=back_P-np.concatenate((np.array([False]),back_P[:-1]))\n",
    "            backCrosses=np.where(_backCross==-1)[0]\n",
    "            if len(backCrosses)==0:\n",
    "                continue\n",
    "            else:\n",
    "                backCross=backCrosses[0]\n",
    "\n",
    "            front_P= (pos >self.xFront).astype(int)\n",
    "            _frontCross=front_P-np.concatenate((np.array([False]),front_P[:-1]))\n",
    "            frontCrosses=np.where(_frontCross==-1)[0]\n",
    "            #detect first front cross after a back cross\n",
    "            frontCross=frontCrosses[frontCrosses>backCross]\n",
    "            if len(frontCross)==0:\n",
    "                continue\n",
    "            else:\n",
    "                frontCross=frontCross[0]\n",
    "                            \n",
    "            if frontCross/self.cs > self.timeEndTrial[trial]+self.cameraDelay:\n",
    "                # treadmill had already stopped, so discard\n",
    "                continue\n",
    "            \n",
    "            forwardSpeed[trial]=(\n",
    "                                 abs(\n",
    "                                     (pos[backCross]-pos[frontCross])/(frontCross-backCross)\n",
    "                                    )*self.cs + self.treadmillSpd[trial]\n",
    "                                 )\n",
    "        \n",
    "        self.forwardSpeed=forwardSpeed\n",
    "\n",
    "        return self.forwardSpeed\n",
    "                \n",
    "    def conditions(self, goodOnly=False, last_n=False, sharpOnly=False):\n",
    "        \"\"\"\n",
    "        Turn any of the input arguments, in order\n",
    "        to apply that condition. Applying conditions must precede \n",
    "        running the compute() method.\n",
    "        \"\"\"\n",
    "        assert self.forwardSpeed is None, \"conditions() must be run before compute()\"\n",
    "        \n",
    "        if goodOnly:\n",
    "            self._good_only()\n",
    "        if last_n:\n",
    "            self._last_n(last_n)\n",
    "        if sharpOnly:\n",
    "            self._sharp_only(sharpOnly)\n",
    "        \n",
    "    def _good_only(self):\n",
    "        self.posDict={trial:pos \n",
    "                      for trial,pos in self.posDict.items() \n",
    "                      if trial in self.goodTrials}\n",
    "        \n",
    "    def _last_n(self,last_n):\n",
    "        if not last_n or not isinstance(last_n,int):\n",
    "            return\n",
    "        nIndex=len(self.posDict)-last_n\n",
    "        self.posDict={trial:pos \n",
    "                      for trial,pos in self.posDict.items() \n",
    "                      if trial >= nIndex}\n",
    "    \n",
    "    def _sharp_only(self,sharpOnly: tuple):\n",
    "        \"\"\"\n",
    "        sharpOnly: a tuple (a,b) where only trials with  a<ET<b are considered\n",
    "        \"\"\"\n",
    "        if not sharpOnly or not isinstance(sharpOnly,tuple):\n",
    "            return\n",
    "        self.posDict={trial:pos \n",
    "                      for trial,pos in self.posDict.items() \n",
    "                      if self.et[trial] >= sharpOnly[0] and self.et[trial] <=sharpOnly[1]}\n",
    "        "
   ]
  },
  {
   "cell_type": "code",
   "execution_count": null,
   "metadata": {},
   "outputs": [],
   "source": [
    "session='Rat327_2019_02_28_09_14'\n",
    "data=Data(root,session[:6],session,param=param,redoPreprocess=False, saveAsPickle=False);"
   ]
  },
  {
   "cell_type": "code",
   "execution_count": null,
   "metadata": {},
   "outputs": [],
   "source": [
    "t=forwardRunningSpeed(data)\n",
    "\n",
    "spd=t.compute()"
   ]
  },
  {
   "cell_type": "code",
   "execution_count": null,
   "metadata": {},
   "outputs": [],
   "source": [
    "spd"
   ]
  },
  {
   "cell_type": "code",
   "execution_count": null,
   "metadata": {},
   "outputs": [],
   "source": [
    "session='Rat313_2018_11_27_13_49'\n",
    "data=Data('/data/Teresa_MS_StriatalLesion/',session[:6],session,param={},redoPreprocess=True, saveAsPickle=False);\n"
   ]
  },
  {
   "cell_type": "code",
   "execution_count": null,
   "metadata": {},
   "outputs": [],
   "source": [
    "data.position.keys()"
   ]
  },
  {
   "cell_type": "code",
   "execution_count": null,
   "metadata": {},
   "outputs": [],
   "source": []
  },
  {
   "cell_type": "code",
   "execution_count": null,
   "metadata": {},
   "outputs": [],
   "source": []
  },
  {
   "cell_type": "code",
   "execution_count": null,
   "metadata": {},
   "outputs": [],
   "source": []
  },
  {
   "cell_type": "code",
   "execution_count": null,
   "metadata": {},
   "outputs": [],
   "source": []
  },
  {
   "cell_type": "markdown",
   "metadata": {},
   "source": [
    "linear regression"
   ]
  },
  {
   "cell_type": "code",
   "execution_count": null,
   "metadata": {},
   "outputs": [],
   "source": [
    "import numpy as np\n",
    "from sklearn.linear_model import LinearRegression\n",
    "X = np.array([[1, 1], [1, 2], [2, 2], [2, 3]])\n",
    "# y = 1 * x_0 + 2 * x_1 + 3\n",
    "y = np.dot(X, np.array([1, 2])) + 3\n"
   ]
  },
  {
   "cell_type": "code",
   "execution_count": null,
   "metadata": {},
   "outputs": [],
   "source": [
    "reg = LinearRegression().fit(X, y)"
   ]
  },
  {
   "cell_type": "code",
   "execution_count": null,
   "metadata": {},
   "outputs": [],
   "source": [
    "reg.coef_"
   ]
  },
  {
   "cell_type": "markdown",
   "metadata": {},
   "source": [
    "lasso"
   ]
  },
  {
   "cell_type": "code",
   "execution_count": null,
   "metadata": {},
   "outputs": [],
   "source": [
    "from sklearn import linear_model\n",
    "reg = linear_model.Lasso(alpha=0.1)\n",
    "reg.fit(X,y)"
   ]
  },
  {
   "cell_type": "code",
   "execution_count": null,
   "metadata": {},
   "outputs": [],
   "source": [
    "reg.coef_"
   ]
  },
  {
   "cell_type": "markdown",
   "metadata": {},
   "source": [
    "linear regression on polynomial regressors"
   ]
  },
  {
   "cell_type": "code",
   "execution_count": null,
   "metadata": {},
   "outputs": [],
   "source": [
    "from sklearn.preprocessing import PolynomialFeatures\n",
    "from sklearn.linear_model import LinearRegression\n",
    "\n",
    "poly = PolynomialFeatures(degree=2)\n",
    "X_new= poly.fit_transform(X)\n",
    "y = np.dot(X, np.array([1, 2])) + 3\n"
   ]
  },
  {
   "cell_type": "code",
   "execution_count": null,
   "metadata": {},
   "outputs": [],
   "source": [
    "reg = LinearRegression().fit(X_new, y)"
   ]
  },
  {
   "cell_type": "code",
   "execution_count": null,
   "metadata": {},
   "outputs": [],
   "source": [
    "reg.coef_"
   ]
  },
  {
   "cell_type": "code",
   "execution_count": null,
   "metadata": {},
   "outputs": [],
   "source": [
    "X_new"
   ]
  },
  {
   "cell_type": "code",
   "execution_count": null,
   "metadata": {},
   "outputs": [],
   "source": []
  },
  {
   "cell_type": "code",
   "execution_count": null,
   "metadata": {},
   "outputs": [],
   "source": []
  },
  {
   "cell_type": "code",
   "execution_count": null,
   "metadata": {},
   "outputs": [],
   "source": [
    "sys.path.append('/home/david/MasoudRepo/masoud_treadmilltask')"
   ]
  },
  {
   "cell_type": "code",
   "execution_count": null,
   "metadata": {},
   "outputs": [],
   "source": [
    "import DataAcquisition"
   ]
  },
  {
   "cell_type": "code",
   "execution_count": null,
   "metadata": {},
   "outputs": [],
   "source": [
    "DataAcquisition.Animal_Tags.clear_output()"
   ]
  },
  {
   "cell_type": "code",
   "execution_count": null,
   "metadata": {},
   "outputs": [],
   "source": [
    "class test:\n",
    "    b=0\n",
    "    def __init__(self):\n",
    "        __class__.b=4\n",
    "    @classmethod\n",
    "    def met1(cls,a):\n",
    "        print('class var:',a,cls)\n",
    "        cls.a=a\n",
    "        print(cls.__dict__)\n",
    "    "
   ]
  },
  {
   "cell_type": "code",
   "execution_count": null,
   "metadata": {},
   "outputs": [],
   "source": [
    "a=test()\n",
    "\n",
    "a.met1(12)\n",
    "\n",
    "b=test()"
   ]
  },
  {
   "cell_type": "code",
   "execution_count": null,
   "metadata": {},
   "outputs": [],
   "source": [
    "class tst(dict):\n",
    "    b=2\n",
    "    def __init__(self):\n",
    "        self.a = 1 + self.b\n",
    "A=tst()\n",
    "with open('/home/david/tst.p','wb') as f:\n",
    "    pickle.dump(A,f)"
   ]
  },
  {
   "cell_type": "code",
   "execution_count": null,
   "metadata": {},
   "outputs": [],
   "source": [
    "seed=[2018,4,9]\n",
    "np.random.seed(seed=seed)\n",
    "names=['David','Teresa','Anass','Ayse','Mostafa','Ingrid','Maryam']\n",
    "\n",
    "np.random.shuffle(names)\n",
    "print(names)"
   ]
  },
  {
   "cell_type": "code",
   "execution_count": null,
   "metadata": {},
   "outputs": [],
   "source": [
    "session='Rat242_2018_06_25_11_29'\n",
    "data=Data(root,session[:6],session,param=param,redoPreprocess=False, saveAsPickle=False);\n",
    "data.position_correction();"
   ]
  },
  {
   "cell_type": "code",
   "execution_count": null,
   "metadata": {},
   "outputs": [],
   "source": [
    "data.entranceTime[i]+data.cameraToTreadmillDelay+data.interTrialDuration[i], data.rawTime[50][-1]"
   ]
  },
  {
   "cell_type": "code",
   "execution_count": null,
   "metadata": {},
   "outputs": [],
   "source": [
    "data.timeTreadmill[i][-1]"
   ]
  },
  {
   "cell_type": "code",
   "execution_count": null,
   "metadata": {},
   "outputs": [],
   "source": [
    "i=50\n",
    "ax=plt.figure().add_subplot(111)\n",
    "ax.plot(data.rawTime[i],data.position[i],lw=3)\n",
    "ax.plot(data.rawTime[i+1]+data.rawTime[i][-1],data.position[i+1],lw=3)\n",
    "# ax.vlines(data.entranceTime[i]+1,10,80)"
   ]
  },
  {
   "cell_type": "code",
   "execution_count": null,
   "metadata": {},
   "outputs": [],
   "source": [
    "profile1={'Type':'Good',\n",
    "         'rewardType':'Progressive',\n",
    "         'initialSpeed':'10',\n",
    "         'Speed':['10'],\n",
    "         'Tag':'Early-Lesion_DMS'\n",
    "         }\n",
    "\n",
    "sessions=batch_get_session_list(root,animalList=['Rat101'],profile=profile1)['Sessions']\n",
    "a=[]\n",
    "for session in sessions:\n",
    "    data=Data(root,session[:6],session,param=param,redoPreprocess=False, saveAsPickle=False);\n",
    "    a.append(np.sum((data.entranceTime-7)**2)/len(data.entranceTime))\n",
    "plt.plot(a)"
   ]
  },
  {
   "cell_type": "code",
   "execution_count": null,
   "metadata": {},
   "outputs": [],
   "source": [
    "a=np.array([1,2,3,4,5,6])"
   ]
  },
  {
   "cell_type": "code",
   "execution_count": null,
   "metadata": {},
   "outputs": [],
   "source": [
    "a.m"
   ]
  },
  {
   "cell_type": "code",
   "execution_count": null,
   "metadata": {},
   "outputs": [],
   "source": [
    "filename='/data/Rat172/Experiments/Rat172_2018_02_25_14_36/Rat172_2018_02_25_14_36.raw.kwd'\n",
    "\n",
    "with tb.open_file(filename,\"r\") as kwd:\n",
    "    print(\"\\n\\nopenning %s\"%(filename))\n",
    "    dataLen,nchannels=kwd.get_node(\"/recordings/0/data\").read().shape\n",
    "    sampling_rate=kwd.get_node(\"/recordings/0/\")._v_attrs.__getitem__('sample_rate')\n",
    "print(dataLen,nchannels,sampling_rate)"
   ]
  },
  {
   "cell_type": "code",
   "execution_count": null,
   "metadata": {},
   "outputs": [],
   "source": [
    "f = h5py.File(filename, 'r')\n",
    "\n",
    "data = {}\n",
    "data['info'] = {Rec: f['recordings'][Rec].attrs \n",
    "                for Rec in f['recordings'].keys()}\n",
    "\n",
    "R = list(f['recordings'])[0]\n",
    "if 'channel_bit_volts' in f['recordings'][R]\\\n",
    "                           ['application_data'].keys():\n",
    "    data['channel_bit_volts'] = {Rec: f['recordings'][Rec]\\\n",
    "                                       ['application_data']\\\n",
    "                                       ['channel_bit_volts']\n",
    "                                 for Rec in f['recordings'].keys()}\n",
    "data['info']['0']['sample_rate']"
   ]
  },
  {
   "cell_type": "code",
   "execution_count": null,
   "metadata": {},
   "outputs": [],
   "source": [
    "filename=\"/data/RatTST/Experiments/RatTST_2018_02_25_14_36/RatTST_2018_02_25_14_36.kwik\"\n",
    "f= h5py.File(filename, 'r')"
   ]
  },
  {
   "cell_type": "code",
   "execution_count": null,
   "metadata": {},
   "outputs": [],
   "source": [
    "f['channel_groups']['0']['spikes']['time_samples'][:100]"
   ]
  },
  {
   "cell_type": "code",
   "execution_count": null,
   "metadata": {},
   "outputs": [],
   "source": [
    "f['channel_groups']['0']['spikes']['time_samples'].shape"
   ]
  },
  {
   "cell_type": "code",
   "execution_count": null,
   "metadata": {},
   "outputs": [],
   "source": [
    "import os\n",
    "import h5py\n",
    "import tables as tb\n",
    "import numpy as np\n",
    "from matplotlib import pyplot as plt\n",
    "%matplotlib inline\n",
    "\n",
    "filetype='dat'\n",
    "#inputFile=\"/home/david/TEMP/TestData/testdata openephys/2016-11-04_11-49-24/experiment1_103.raw.kwd\"\n",
    "#inputFile=\"/data/SWI002/2/SWI002_2016_09_20_12_31/SWI002_2016_09_20_12_31.raw.kwd\"\n",
    "\n",
    "#sampling_rate=kwd['recordings']['0'].attrs['sample_rate']\n",
    "#f = h5py.File('inputFile','r')\n",
    "fnameout = inputFile[:-7] + filetype\n",
    "\n",
    "with tb.open_file(inputFile,\"r\") as f:\n",
    "    #data = f['recordings'][str(0)]['data'][:,:]\n",
    "    print((f.get_node(\"/recordings/0/data\").read().shape))\n",
    "    print((f.get_node('/recordings/0/')._v_attrs.__getitem__('sample_rate')))\n",
    "    print(f.root.recordings._v_nchildren)"
   ]
  },
  {
   "cell_type": "code",
   "execution_count": null,
   "metadata": {},
   "outputs": [],
   "source": [
    "f = h5py.File(\"/data/Rat105/Experiments/Rat105_2016_12_12_16_11/Rat105_2016_12_12_16_11.kwik\",'r')\n",
    "info=f['recordings']['1']['data'].shape\n",
    "print((info))"
   ]
  },
  {
   "cell_type": "code",
   "execution_count": null,
   "metadata": {},
   "outputs": [],
   "source": [
    "import KWIKphy\n",
    "from KWIKphy.session import Session\n",
    "f = \"/data/Rat105/Experiments/Rat105_2016_12_12_16_11/Rat105_2016_12_12_16_11.kwik\"\n",
    "session= Session(f)"
   ]
  },
  {
   "cell_type": "code",
   "execution_count": null,
   "metadata": {},
   "outputs": [],
   "source": [
    "print (session.model._metadata)\n",
    "for shank in session.model._channel_groups:\n",
    "    session.model._channel_group=shank\n",
    "    print(shank,session.model._channel_group)"
   ]
  },
  {
   "cell_type": "code",
   "execution_count": null,
   "metadata": {},
   "outputs": [],
   "source": [
    "session.model.__dict__.keys()"
   ]
  },
  {
   "cell_type": "code",
   "execution_count": null,
   "metadata": {},
   "outputs": [],
   "source": [
    "#To read a kwik file using KWIKphy\n",
    "from KWIKphy.session import Session\n",
    "inputFile=\"/data/SWI002/2/SWI002_2016_09_20_12_52/SWI002_2016_09_20_12_52.kwik\"\n",
    "session= Session(inputFile)\n"
   ]
  },
  {
   "cell_type": "code",
   "execution_count": null,
   "metadata": {},
   "outputs": [],
   "source": [
    "prmFile='/data/Rat107/Experiments/Rat107_2017_03_20_10_38/Rat107_2017_03_20_10_38.prm'\n",
    "def a():\n",
    "    x=1\n",
    "    def b():\n",
    "        CWD=os.getcwd()\n",
    "        os.chdir('/data/Rat107/Experiments/Rat107_2017_03_20_10_38')\n",
    "        prmName=os.path.basename(prmFile)\n",
    "        %run -i $prmName\n",
    "        os.chdir(CWD)\n",
    "        return locals()\n",
    "    return b()\n"
   ]
  },
  {
   "cell_type": "code",
   "execution_count": null,
   "metadata": {},
   "outputs": [],
   "source": [
    "data=pd.read_csv(\"/data/Rat082/Rat082.tag\",delim_whitespace=True,skiprows=range(5))\n",
    "data"
   ]
  },
  {
   "cell_type": "code",
   "execution_count": null,
   "metadata": {},
   "outputs": [],
   "source": [
    "a=[1,2,3,4,5,6]\n",
    "try:\n",
    "    a.remove('3')\n",
    "except:pass\n",
    "a"
   ]
  },
  {
   "cell_type": "code",
   "execution_count": null,
   "metadata": {
    "scrolled": true
   },
   "outputs": [],
   "source": [
    "profile1={'Type':'Good',\n",
    "         #'rewardType':'Progressive',\n",
    "         #'initialSpeed':'10',\n",
    "         #'Speed':['10'],\n",
    "         'Tag':'Early-Lesion_M1-Late-Lesion_DLS'\n",
    "         }\n",
    "\n",
    "\n",
    "animalList=batch_get_animal_list(root,profile1)\n",
    "sessionProfile=batch_get_session_list('/data',animalList,profile1)\n",
    "print (animalList)\n",
    "#print(pd.DataFrame(sessionProfile))"
   ]
  },
  {
   "cell_type": "code",
   "execution_count": null,
   "metadata": {},
   "outputs": [],
   "source": [
    "picklePath='/data/Rat084/Experiments/Rat084_2016_10_06_11_28/Analysis/preprocesseddata_binsize250ms_.p'\n",
    "with open(picklePath,'rb') as f:\n",
    "    data=pickle.load(f)\n",
    "data.keys()"
   ]
  },
  {
   "cell_type": "code",
   "execution_count": null,
   "metadata": {},
   "outputs": [],
   "source": [
    "import math\n",
    "(math.factorial(23)/(math.factorial(9)*math.factorial(14)))"
   ]
  },
  {
   "cell_type": "code",
   "execution_count": null,
   "metadata": {},
   "outputs": [],
   "source": [
    "profile={'Type':'Good',\n",
    "         'rewardType':'Progressive',\n",
    "         'initialSpeed':'10',\n",
    "         'Speed':'10',\n",
    "         'Tag':['Early-Lesion_DLS-BackTo10','Early-Lesion_DLS-Late-var']\n",
    "        }\n",
    "\n",
    "a=batch_get_animal_list(root,profile)\n",
    "a"
   ]
  },
  {
   "cell_type": "code",
   "execution_count": null,
   "metadata": {},
   "outputs": [],
   "source": [
    "a=[[]]*3\n",
    "a"
   ]
  },
  {
   "cell_type": "code",
   "execution_count": null,
   "metadata": {},
   "outputs": [],
   "source": []
  },
  {
   "cell_type": "code",
   "execution_count": null,
   "metadata": {},
   "outputs": [],
   "source": [
    "x=np.arange(0,10,0.01)\n",
    "y=np.sin(x)\n",
    "f=plt.figure()\n",
    "ax=plt.subplot(1,1,1)\n",
    "plt.plot(x,y)\n",
    "ax.set_xticks(range(2,8))\n",
    "ax.set_xticklabels(['a','b','c','d','e','f'])\n",
    "plt.show()"
   ]
  },
  {
   "cell_type": "code",
   "execution_count": null,
   "metadata": {},
   "outputs": [],
   "source": [
    "[ax.get_xticklabels()[i].get_text() for i in range(6)]"
   ]
  },
  {
   "cell_type": "code",
   "execution_count": null,
   "metadata": {},
   "outputs": [],
   "source": [
    "def f1 (a):\n",
    "    print(a)\n",
    "    return 1\n",
    "def f2 (a,b):\n",
    "    c=a(b)\n",
    "    print(c)\n",
    "    return c\n",
    "f2(f1,5)"
   ]
  },
  {
   "cell_type": "code",
   "execution_count": null,
   "metadata": {},
   "outputs": [],
   "source": [
    "def f(a,b=1):\n",
    "    print(type(b))\n",
    "    print(b)\n",
    "f(a=1,b=np.ones(5))"
   ]
  },
  {
   "cell_type": "code",
   "execution_count": null,
   "metadata": {},
   "outputs": [],
   "source": [
    "import inspect\n",
    "inspect.getargspec(f)"
   ]
  },
  {
   "cell_type": "code",
   "execution_count": null,
   "metadata": {},
   "outputs": [],
   "source": [
    "inspect.getargspec(update_animal_table_file)[0]"
   ]
  },
  {
   "cell_type": "code",
   "execution_count": null,
   "metadata": {},
   "outputs": [],
   "source": [
    "dic={'a':1,'b':[]}\n",
    "f(**dic)"
   ]
  },
  {
   "cell_type": "code",
   "execution_count": null,
   "metadata": {},
   "outputs": [],
   "source": [
    "import time\n",
    "print(time.perf_counter())"
   ]
  },
  {
   "cell_type": "code",
   "execution_count": null,
   "metadata": {},
   "outputs": [],
   "source": [
    "import pims"
   ]
  },
  {
   "cell_type": "code",
   "execution_count": null,
   "metadata": {},
   "outputs": [],
   "source": [
    "a=pims.NorpixSeq(\"/data/Rat106/Experiments/Rat106_2017_03_31_10_56/Rat106_2017_03_31_10_56.seq\").header_dict['compression_format']"
   ]
  }
 ],
 "metadata": {
  "anaconda-cloud": {},
  "kernelspec": {
   "display_name": "Python 3",
   "language": "python",
   "name": "python3"
  },
  "language_info": {
   "codemirror_mode": {
    "name": "ipython",
    "version": 3
   },
   "file_extension": ".py",
   "mimetype": "text/x-python",
   "name": "python",
   "nbconvert_exporter": "python",
   "pygments_lexer": "ipython3",
   "version": "3.7.4"
  }
 },
 "nbformat": 4,
 "nbformat_minor": 4
}
