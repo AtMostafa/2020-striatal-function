{
 "cells": [
  {
   "cell_type": "markdown",
   "metadata": {},
   "source": [
    "# This notebooks only contains the experimental codes for var-speed condition"
   ]
  },
  {
   "cell_type": "code",
   "execution_count": 51,
   "metadata": {},
   "outputs": [
    {
     "data": {
      "text/html": [
       "<style>.container { width:90% !important; }</style>"
      ],
      "text/plain": [
       "<IPython.core.display.HTML object>"
      ]
     },
     "metadata": {},
     "output_type": "display_data"
    }
   ],
   "source": [
    "import os\n",
    "import glob\n",
    "import numpy as np\n",
    "from platform import system as OS\n",
    "import pandas as pd\n",
    "import scipy.stats\n",
    "import math\n",
    "import datetime\n",
    "from copy import deepcopy\n",
    "from IPython.display import clear_output, display, HTML, Image\n",
    "import matplotlib.cm as cm\n",
    "import warnings\n",
    "warnings.filterwarnings(\"ignore\")\n",
    "import sys\n",
    "import pickle\n",
    "import matplotlib.pyplot as plt\n",
    "from scipy import stats\n",
    "import matplotlib\n",
    "from mpl_toolkits.mplot3d import Axes3D\n",
    "\n",
    "ThisNoteBookPath=os.path.dirname(os.path.realpath(\"__file__\"))\n",
    "CommonNoteBookesPath=os.path.join(os.path.split(ThisNoteBookPath)[0],\"load_preprocess_rat\")\n",
    "CWD=os.getcwd()\n",
    "os.chdir(CommonNoteBookesPath)\n",
    "root='/data'\n",
    "%run Animal_Tags.ipynb\n",
    "%run BatchRatBehavior.ipynb\n",
    "%run plotRat_documentation_3_KinematicsInvestigation.ipynb\n",
    "%run plotRat_documentation_1_GeneralBehavior.ipynb\n",
    "%run loadRat_documentation.ipynb\n",
    "%run RunBatchRat_3_CompareGroups.ipynb\n",
    "%run UtilityTools.ipynb\n",
    "os.chdir(CWD)\n",
    "\n",
    "defaultParam={\n",
    "    \"binSize\":0.25,\n",
    "    \"trialOffset\":20., #max end of trial, in seconds (position will be cutted)\n",
    "    \"sigmaSmoothPosition\":0.1,  #smooth the position\n",
    "    #\"sigmaSmoothPosition\":0.33 for pavel dataType\n",
    "    \"sigmaSmoothSpeed\":0.3, #smooth the speed\n",
    "    \"positionDiffRange\": [2.,5.], #min and max differences allowed between two consecutive positions\n",
    "                                  #min to correct start, max to correct jumps\n",
    "    \"pawFrequencyRange\":[2.,10.],\n",
    "    \"startAnalysisParams\":[10,0.2,0.5],\n",
    "    \"cameraToTreadmillDelay\":2., #seconds, usual time between camera start and treadmill start\n",
    "    \"nbJumpMax\" : 100., #if jumps>nbJumpMax, trial is badly tracked\n",
    "    \n",
    "    #parameter to detect end of trial (first position minima)\n",
    "    \"endTrial_backPos\":55,  # minima is after the animal went once to the back (after first time position>backPos)\n",
    "    \"endTrial_frontPos\":30, # minima's position is in front of treadmill (position[end]<frontPos)\n",
    "    \"endTrial_minTimeSec\":4, # minima is after minTimeSec seconds (time[end]>minTimeSec)\n",
    "    }\n",
    "param=defaultParam"
   ]
  },
  {
   "cell_type": "markdown",
   "metadata": {},
   "source": [
    "### trimmed mean function\n",
    "averaging after removing outliers (-+3 SDs)"
   ]
  },
  {
   "cell_type": "code",
   "execution_count": 2,
   "metadata": {
    "collapsed": true,
    "jupyter": {
     "outputs_hidden": true
    }
   },
   "outputs": [],
   "source": [
    "def trimmed_mean(x):\n",
    "    if len(x)<50:\n",
    "        return np.nanmean(x)\n",
    "    SD=np.nanstd(x)\n",
    "    MEAN=np.nanmean(x)\n",
    "    out=scipy.stats.tmean(x, limits=(MEAN-3*SD,MEAN+3*SD), inclusive=(False, False), axis=None)\n",
    "    return out"
   ]
  },
  {
   "cell_type": "markdown",
   "metadata": {},
   "source": [
    "# stuff"
   ]
  },
  {
   "cell_type": "code",
   "execution_count": 36,
   "metadata": {},
   "outputs": [],
   "source": [
    "AnimalProfile={'Type':'Good',\n",
    "     'rewardType':'Progressive',\n",
    "     'initialSpeed':['10','var'],\n",
    "     'Speed':['var'],\n",
    "     'Tag':'Control-Late-var'\n",
    "              }\n",
    "animalList=batch_get_animal_list(root,AnimalProfile)"
   ]
  },
  {
   "cell_type": "code",
   "execution_count": 39,
   "metadata": {},
   "outputs": [
    {
     "data": {
      "text/plain": [
       "['Rat077',\n",
       " 'Rat078',\n",
       " 'Rat084',\n",
       " 'Rat085',\n",
       " 'Rat088',\n",
       " 'Rat091',\n",
       " 'Rat095',\n",
       " 'Rat096',\n",
       " 'Rat098',\n",
       " 'Rat103',\n",
       " 'Rat104',\n",
       " 'Rat110',\n",
       " 'Rat113',\n",
       " 'Rat120']"
      ]
     },
     "execution_count": 39,
     "metadata": {},
     "output_type": "execute_result"
    }
   ],
   "source": [
    "animalList"
   ]
  },
  {
   "cell_type": "markdown",
   "metadata": {},
   "source": [
    "# **effect of HiPenalty Condition**"
   ]
  },
  {
   "cell_type": "code",
   "execution_count": 116,
   "metadata": {},
   "outputs": [],
   "source": [
    "def plot_goal_time_change(root, Profiles, N, GT, badAnimals, TaskParamToPlot, wspace, gs, fig):\n",
    "    \"\"\"\n",
    "    gs could be either gridSpec or a list of axes with \n",
    "    \"\"\"\n",
    "    if isinstance(gs,matplotlib.gridspec.SubplotSpec):\n",
    "        gssub = gs.subgridspec(1, len(Profiles)-1,wspace=wspace)\n",
    "        axes=[]\n",
    "    else:\n",
    "        gssub=False\n",
    "        axes=gs\n",
    "    for eventN in range(len(N)-1):\n",
    "        #getting the data\n",
    "        _,SessionDict=event_detect(root, Profiles[eventN], Profiles[eventN+1], badAnimals=badAnimals)\n",
    "\n",
    "        Results,nSessionPre,nSessionPost=event_statistic(root,\n",
    "                                                         SessionDict,\n",
    "                                                         parameter=param,\n",
    "                                                         redo=False,\n",
    "                                                         TaskParamToPlot=[TaskParamToPlot])\n",
    "        \n",
    "        assert N[eventN]<nSessionPre and N[eventN+1]<nSessionPost,\\\n",
    "               f\"fewer sessions available than requested:{Profiles[eventN]['Tag']}\"\n",
    "\n",
    "        data=np.array(list(Results[TaskParamToPlot].values()))\n",
    "        data=data[:,\n",
    "                  nSessionPre-N[eventN] : nSessionPre+N[eventN+1]\n",
    "                 ]\n",
    "\n",
    "        y=np.nanpercentile(data,50,axis=0)\n",
    "        yerr=np.nanpercentile(data,(25,75),axis=0)\n",
    "\n",
    "        #getting the axes\n",
    "        if gssub:\n",
    "            ax=fig.add_subplot(gssub[0, eventN])\n",
    "        else:\n",
    "            ax=axes[eventN]\n",
    "\n",
    "        #plotting\n",
    "        xLabel=list(range(-N[eventN],N[eventN+1]+1))\n",
    "        xLabel.remove(0)\n",
    "        ax.errorbar(xLabel,y,yerr=abs(yerr-y), ecolor='k', fmt='k-o',\n",
    "                    markersize=2, elinewidth=1, linewidth=1, markerfacecolor='w',zorder=1)\n",
    "#         ax.plot([xLabel[0],-1,1,xLabel[-1]],[GT[eventN],GT[eventN],GT[eventN+1],GT[eventN+1]],\n",
    "#                 'm--',lw=1, zorder=-5)\n",
    "\n",
    "\n",
    "\n",
    "        if xLabel[0]<=-10 or xLabel[-1]>=10:\n",
    "            newLabel=[label for label in xLabel if label%10==0]\n",
    "#             newLabel.extend([1,-1])\n",
    "#             newLabel.extend([xLabel[0],xLabel[-1]])\n",
    "            newLabel=list(set(newLabel))\n",
    "            newLabel.sort()\n",
    "\n",
    "        ax.set_xlim([xLabel[0]-1,xLabel[-1]+1])\n",
    "        ax.set_xticks(newLabel)\n",
    "#         ax.spines['bottom'].set_bounds(xLabel[0],xLabel[-1])\n",
    "        ax.spines['top'].set_visible(False)\n",
    "        ax.spines['right'].set_visible(False)\n",
    "\n",
    "        ax.set_ylabel(TaskParamToPlot)\n",
    "#         ax.set_ylim([0,10])\n",
    "#         ax.set_yticks(list(set(GT)))\n",
    "        ax.vlines(x=0, ymin=ax.get_ylim()[0], ymax=ax.get_ylim()[1]*.9, color='k',linestyles='--',lw=.8)\n",
    "\n",
    "        if gssub:\n",
    "            axes.append(ax)\n",
    "#     axes[1].set_xlabel('Session relative to goal time change')\n",
    "#     axes[0].spines['left'].set_position(('axes',-.05))\n",
    "    for ax in axes[1:]:\n",
    "        ax.yaxis.set_visible(False)\n",
    "        ax.spines['left'].set_visible(False)\n",
    "\n",
    "    return tuple(axes)"
   ]
  },
  {
   "cell_type": "code",
   "execution_count": 118,
   "metadata": {},
   "outputs": [
    {
     "data": {
      "image/png": "[encoded data removed]",
      "text/plain": [
       "<Figure size 360x288 with 1 Axes>"
      ]
     },
     "metadata": {
      "needs_background": "light"
     },
     "output_type": "display_data"
    }
   ],
   "source": [
    "if \"__file__\" not in dir():\n",
    "\n",
    "    profile1={'Type':'Good',\n",
    "              'rewardType':'Progressive',\n",
    "              'initialSpeed':'10',\n",
    "              'Speed':'10',\n",
    "              'Tag':['Control-BackTo10']\n",
    "              }\n",
    "    profile2={'Type':'Good',\n",
    "              'rewardType':'Progressive',\n",
    "              'initialSpeed':'10',\n",
    "              'Speed':'var',\n",
    "              'Tag':['Control-Late-var']\n",
    "              }\n",
    "\n",
    "    #number of sessions to plot\n",
    "    N=[1,14]\n",
    "    #goal times\n",
    "    GT=[7,7]\n",
    "    badAnimals=['RatBAD']\n",
    "    TaskParamToPlot=\"percentile entrance time\"\n",
    "    wspace=0.05\n",
    "    \n",
    "    \n",
    "    Profiles=(profile1,profile2,)\n",
    "    plt.close('all')\n",
    "    fig=plt.figure(figsize=(5,4))\n",
    "    gs=fig.add_gridspec(1,1)[0]\n",
    "    \n",
    "    axes=plot_goal_time_change(root, Profiles, N, GT, badAnimals, TaskParamToPlot, wspace, gs, fig)\n",
    "#     axes=plot_goal_time_change(root, Profiles, N, GT, badAnimals,\n",
    "#                                TaskParamToPlot='standard deviation of entrance time', wspace=wspace, gs=axes, fig=fig)\n",
    "    \n",
    "#     axes[0].set_ylabel('Entrance Times (s)')"
   ]
  },
  {
   "cell_type": "markdown",
   "metadata": {},
   "source": [
    "---\n",
    "\n",
    "**Plot probability of correct trial given Treadmill Speeds**"
   ]
  },
  {
   "cell_type": "code",
   "execution_count": 150,
   "metadata": {},
   "outputs": [],
   "source": [
    "def prob_correct_given_distance(animalList, profile, SessionRange, GT, spdBins):\n",
    "    def entrance_time(data):\n",
    "        data.entranceTime[data.entranceTime==data.maxTrialDuration]=0\n",
    "        return data.entranceTime\n",
    "    def treadmill_speed(data):\n",
    "        return data.treadmillSpeed\n",
    "\n",
    "    param=[treadmill_speed,entrance_time]\n",
    "\n",
    "    et=[]\n",
    "    spd=[]\n",
    "    for animal in animalList:\n",
    "        data=data_fetch(root,animal,profile, param, NbSession=100)\n",
    "        spd.append(data[param[0].__name__][SessionRange[0]:SessionRange[-1]])\n",
    "        et.append(data[param[1].__name__][SessionRange[0]:SessionRange[-1]])\n",
    "        \n",
    "\n",
    "    corrData=dict.fromkeys(animalList,None)\n",
    "    spdData=dict.fromkeys(animalList,None)\n",
    "    for i,animal in enumerate(animalList):\n",
    "        corrData[animal]=[]\n",
    "        spdData[animal] =[]\n",
    "        for j in range(len(et[i])):\n",
    "            if len(et[i][j])==len(spd[i][j]):\n",
    "                corrData[animal].extend(np.logical_and(et[i][j]>min(GT),et[i][j]<max(GT)))\n",
    "                spdData[animal].extend(spd[i][j])\n",
    "\n",
    "    Panimal=np.ones((len(spdBins)-1,len(animalList)))*np.nan\n",
    "    for col,animal in enumerate(animalList):\n",
    "        correct =np.array(corrData[animal])\n",
    "        speed=np.array(spdData[animal])\n",
    "        for i,(loBin,hiBin) in enumerate(zip(spdBins[:-1],spdBins[1:])):\n",
    "            signal=correct[np.logical_and(speed>=loBin,speed<hiBin)]\n",
    "            if len(signal)> 10:\n",
    "                Panimal[i,col]= sum(signal)/len(signal)\n",
    "\n",
    "    Ptotal=np.ones((len(spdBins)-1,))*np.nan\n",
    "    correct=[]\n",
    "    speed=[]\n",
    "    for col,animal in enumerate(animalList):\n",
    "        correct.extend(corrData[animal])\n",
    "        speed.extend(spdData[animal])\n",
    "    correct=np.array(correct)\n",
    "    speed=np.array(speed)\n",
    "    for i,(loBin,hiBin) in enumerate(zip(spdBins[:-1],spdBins[1:])):\n",
    "        signal=correct[np.logical_and(speed>=loBin,speed<hiBin)]\n",
    "        if len(signal)> 10:\n",
    "            Ptotal[i]= sum(signal)/len(signal)\n",
    "    \n",
    "    return Ptotal, Panimal\n",
    "\n",
    "\n",
    "def plot_cond_prob_correct(ax, animalList, profile, SessionRange, GT, spdBins, **kwargs):\n",
    "    Ptotal, _=prob_correct_given_distance(animalList,\n",
    "                                                profile,\n",
    "                                                SessionRange,\n",
    "                                                GT,\n",
    "                                                spdBins)\n",
    "    \n",
    "    binSize=spdBins[1]-spdBins[0]    \n",
    "    \n",
    "    ax.plot(np.array(spdBins[:-1])+binSize/2, Ptotal, **kwargs)\n",
    "\n",
    "    \n",
    "    spd,data=np.array(spdBins[:-1])+binSize/2, Ptotal\n",
    "    ax.vlines(spd[data.argmax()], -10,data.max(),alpha=.25,linewidth=.5,color='k')\n",
    "    ax.set_xticks([spdBins[0],spd[data.argmax()],spdBins[-1]])\n",
    "\n",
    "    ax.xaxis.set_major_formatter(FormatStrFormatter('%g'))\n",
    "    ax.yaxis.set_major_formatter(FormatStrFormatter('%g'))\n",
    "    ax.spines['top'].set_visible(False)\n",
    "    ax.spines['right'].set_visible(False)\n",
    "    ax.spines['bottom'].set_bounds(spdBins[0],spdBins[-1])\n",
    "    ax.spines['left'].set_bounds(0,1)\n",
    "    ax.set_ylim([-.02,1])\n",
    "    ax.set_yticks([0,.5,1])\n",
    "    ax.set_yticklabels([0,'',1])\n",
    "    ax.set_xlim([spdBins[0]-1,spdBins[-1]])\n",
    "    ax.set_xticks([spdBins[0],spd[data.argmax()],spdBins[-1]])\n",
    "    ax.set_xlabel('Speed ($cm.s^{-1}$)')\n",
    "    ax.set_ylabel(f\"Probability\")\n",
    "    ax.yaxis.set_label_coords(-0.04,0.5)\n",
    "    \n",
    "    return Ptotal\n",
    "\n",
    "def add_legend_to_cond_prob_plot(ax, colors, labels):\n",
    "    lines=[]\n",
    "    for color, label in zip(colors,labels):\n",
    "        lines.append(matplotlib.lines.Line2D([], [], color=color,label=label))\n",
    "    \n",
    "    leg=ax.legend(handles=lines, title=\"\",title_fontsize=6, handletextpad=.6,\n",
    "                  bbox_to_anchor=(0, 1),loc=2, ncol=1, fontsize='xx-small', frameon=False)\n",
    "    "
   ]
  },
  {
   "cell_type": "code",
   "execution_count": 152,
   "metadata": {},
   "outputs": [
    {
     "data": {
      "text/plain": [
       "array([0.51648352, 0.64423077, 0.8       , 0.67924528, 0.69879518,\n",
       "       0.66233766, 0.53191489, 0.47916667, 0.42696629, 0.35869565,\n",
       "       0.26315789, 0.25806452, 0.21111111, 0.24137931, 0.18390805,\n",
       "       0.17857143, 0.14141414, 0.1627907 , 0.12765957, 0.17333333,\n",
       "       0.08571429, 0.03571429, 0.2       , 0.10344828, 0.03571429])"
      ]
     },
     "execution_count": 152,
     "metadata": {},
     "output_type": "execute_result"
    },
    {
     "data": {
      "image/png": "[encoded data removed]",
      "text/plain": [
       "<Figure size 200x200 with 1 Axes>"
      ]
     },
     "metadata": {
      "needs_background": "light"
     },
     "output_type": "display_data"
    }
   ],
   "source": [
    "if \"__file__\" not in dir():\n",
    "    AnimalProfile={'Type':'Good',\n",
    "         'rewardType':'Progressive',\n",
    "         'initialSpeed':['10','var'],\n",
    "         'Speed':['var'],\n",
    "         'Tag':'Control-Late-var'\n",
    "                  }\n",
    "    animalList=batch_get_animal_list(root,AnimalProfile)\n",
    "\n",
    "    Y1,Y2=[0,90]\n",
    "    SessionRange=[0,1]\n",
    "    spdBins=range(5,31,1)\n",
    "    GTrange=(7,15)\n",
    "    labels=[f'$ P ({GTrange[0]} < ET < {GTrange[1]})$']\n",
    "    plt.close('all')\n",
    "    fig=plt.figure(figsize=(2,2),dpi=100)\n",
    "    ax=fig.add_subplot(111)\n",
    "\n",
    "    \n",
    "    plot_cond_prob_correct(ax, animalList, AnimalProfile, SessionRange, GTrange, spdBins, color='k',label=labels[0])\n",
    "    plt.show()\n"
   ]
  },
  {
   "cell_type": "code",
   "execution_count": null,
   "metadata": {},
   "outputs": [],
   "source": []
  },
  {
   "cell_type": "code",
   "execution_count": null,
   "metadata": {},
   "outputs": [],
   "source": []
  },
  {
   "cell_type": "code",
   "execution_count": null,
   "metadata": {},
   "outputs": [],
   "source": []
  },
  {
   "cell_type": "markdown",
   "metadata": {},
   "source": [
    "### Get the mean speed for variable speed sessions"
   ]
  },
  {
   "cell_type": "code",
   "execution_count": null,
   "metadata": {
    "collapsed": true,
    "jupyter": {
     "outputs_hidden": true
    }
   },
   "outputs": [],
   "source": [
    "AnimalProfile={'Type':'Good',\n",
    "     'rewardType':'Progressive',\n",
    "     'initialSpeed':['10','var'],\n",
    "     'Speed':['var'],\n",
    "     'Tag':'Control'\n",
    "              }\n",
    "SESSION_LIMIT=100\n"
   ]
  },
  {
   "cell_type": "code",
   "execution_count": null,
   "metadata": {
    "collapsed": true,
    "jupyter": {
     "outputs_hidden": true
    }
   },
   "outputs": [],
   "source": [
    "animalList=batch_get_animal_list(root,AnimalProfile)\n",
    "try:\n",
    "    animalList.remove('Rat106')\n",
    "except:pass\n",
    "data=[]\n",
    "sessionN=0\n",
    "for animal in  animalList:\n",
    "    sessionDict=batch_get_session_list(root,[animal],profile=AnimalProfile)\n",
    "    if SESSION_LIMIT >0:\n",
    "        tmp=sorted(sessionDict['Sessions'])[:SESSION_LIMIT]\n",
    "    else:\n",
    "        tmp=sorted(sessionDict['Sessions'])[SESSION_LIMIT:]\n",
    "    for session in tmp:\n",
    "        filePath=os.path.join(root,animal,'Experiments',session,session)\n",
    "        varSpd=read_in_file(filePath,paramName=' ',extension='.variablespeed',valueType=float)\n",
    "        if isinstance(varSpd,np.ndarray):\n",
    "            if max(varSpd)>40:print(session)\n",
    "            data.extend(varSpd.tolist())\n",
    "            sessionN+=1\n",
    "\n",
    "print('good sessions:',sessionN)\n",
    "print('session limit:',SESSION_LIMIT)\n",
    "print('# of trials:',len(data))\n",
    "data=np.array(data)\n",
    "plt.boxplot(data)\n",
    "plt.ylabel('Speed (cm/s)')\n",
    "plt.title('variable speeds')\n",
    "plt.figure();\n",
    "plt.hist(data,bins=[0,5,10,15,20,25,30,max(data)],width=4.8)\n",
    "plt.show()"
   ]
  },
  {
   "cell_type": "markdown",
   "metadata": {},
   "source": [
    "### P(correct trial | slow/fast speed trial) in var speed condition"
   ]
  },
  {
   "cell_type": "code",
   "execution_count": 119,
   "metadata": {
    "collapsed": true,
    "jupyter": {
     "outputs_hidden": true
    }
   },
   "outputs": [
    {
     "name": "stdout",
     "output_type": "stream",
     "text": [
      "+trial: 1369\n",
      "-trial: 0\n"
     ]
    },
    {
     "data": {
      "image/png": "[encoded data removed]",
      "text/plain": [
       "<Figure size 1080x360 with 1 Axes>"
      ]
     },
     "metadata": {
      "needs_background": "light"
     },
     "output_type": "display_data"
    }
   ],
   "source": [
    "def P_correct_given_speed(root,AnimalProfile,SESSION_LIMIT,SPEED_RANGE):\n",
    "    animalList=batch_get_animal_list(root,AnimalProfile)\n",
    "    N=0\n",
    "    goodN=0\n",
    "    countN=0\n",
    "    countP=0\n",
    "    for animal in  animalList:\n",
    "        sessionDict=batch_get_session_list(root,[animal],profile=AnimalProfile)\n",
    "        if SESSION_LIMIT >0:\n",
    "            tmp=sorted(sessionDict['Sessions'])[:SESSION_LIMIT]\n",
    "        else:\n",
    "            tmp=sorted(sessionDict['Sessions'])[SESSION_LIMIT:]\n",
    "            tmp=[tmp[-1]]\n",
    "        for session in tmp:\n",
    "            picklePath=os.path.join(root,animal,'Experiments',session,'Analysis','preprocesseddata_binsize250ms_.p')\n",
    "            filePath=os.path.join(root,animal,'Experiments',session,session)\n",
    "            with open(picklePath,'rb') as f:\n",
    "                data=pickle.load(f)\n",
    "            try:\n",
    "                spd0=read_in_file(filePath,paramName=' ',extension='.variablespeed',valueType=float)\n",
    "                ET0=np.array(data['entranceTime'])\n",
    "            except:\n",
    "                spd0=[]\n",
    "                ET0=[0,0]\n",
    "            if len(ET0)==len(spd0):\n",
    "                goodTrial=np.logical_and(spd0 >= SPEED_RANGE[0], spd0 <SPEED_RANGE[-1])\n",
    "                N+=np.sum(goodTrial)\n",
    "                goodN+=np.sum(np.logical_and(ET0[goodTrial]>=7, ET0[goodTrial]<15))\n",
    "                countP+=len(goodTrial)\n",
    "            else:\n",
    "                countN+=1\n",
    "    print('+trial:',countP)\n",
    "    print('-trial:',countN)\n",
    "    return goodN,N    \n",
    "\n",
    "\n",
    "#%%%%%%%%%%%%%%%%%%%%%%%%%%%%%%\n",
    "\n",
    "AnimalProfile={'Type':'Good',\n",
    "     'rewardType':'Progressive',\n",
    "     #'initialSpeed':['var'],\n",
    "#      'Speed':['var'],\n",
    "     'Tag':'Control-Early-var'\n",
    "              }\n",
    "\n",
    "\n",
    "SESSION_LIMIT=10\n",
    "SPEED_RANGE        =[[7.5,12.5],[25,30]]\n",
    "plt.figure(figsize=[15,5])\n",
    "goodN0S,N0S=P_correct_given_speed(root,AnimalProfile,SESSION_LIMIT,SPEED_RANGE[0])\n",
    "goodN0F,N0F=P_correct_given_speed(root,AnimalProfile,SESSION_LIMIT,SPEED_RANGE[1])\n",
    "SESSION_LIMIT=-SESSION_LIMIT\n",
    "goodN1S,N1S=P_correct_given_speed(root,AnimalProfile,SESSION_LIMIT,SPEED_RANGE[0])\n",
    "goodN1F,N1F=P_correct_given_speed(root,AnimalProfile,SESSION_LIMIT,SPEED_RANGE[1])\n",
    "SESSION_LIMIT=-SESSION_LIMIT\n",
    "\n",
    "plt.bar([0,1],[goodN0S/N0S,goodN0F/N0F],color='b',label='Naive')\n",
    "plt.bar([3,4],[goodN1S/N1S,goodN1F/N1F],color='r',label='Trained')\n",
    "plt.xticks([0,1,3,4],['slow','fast','slow','fast'])\n",
    "plt.legend();\n",
    "plt.title('P(correct trials|slow/fast trial)');\n",
    "plt.ylabel('Probablity of correct trial');"
   ]
  },
  {
   "cell_type": "markdown",
   "metadata": {},
   "source": [
    "### DLS lesion effect on variable speed"
   ]
  },
  {
   "cell_type": "code",
   "execution_count": null,
   "metadata": {
    "collapsed": true,
    "jupyter": {
     "outputs_hidden": true
    }
   },
   "outputs": [],
   "source": [
    "profile1={'Type':'Good',\n",
    "         'rewardType':'Progressive',\n",
    "         'initialSpeed':'10',\n",
    "         'Speed':'10',\n",
    "         'Tag':'Control'\n",
    "         }\n",
    "profile2={'Type':'Good',\n",
    "         'rewardType':'Progressive',\n",
    "         'initialSpeed':'10',\n",
    "         'Speed':['10'],\n",
    "         'Tag':['Early-Lesion_DLS']\n",
    "         }\n",
    "animalList1=batch_get_animal_list(root,profile1)\n",
    "animalList2=batch_get_animal_list(root,profile2)\n",
    "#del animalList2[animalList2.index('Rat081')]\n",
    "#animalList2=['Rat118', 'Rat119', 'Rat133', 'Rat134']\n",
    "animalList2= [ 'Rat097', 'Rat099', 'Rat100', 'Rat114', 'Rat116']\n",
    "groups={\n",
    "    \"group1\":(cm.Greys,\"black\",animalList1,profile1),\n",
    "    \"group2\":(cm.Reds ,\"red\"  ,animalList2,profile2),\n",
    "    }\n",
    "TaskParamToPlot=[\"% good trials\",'% good trials on last 40',\"percentile entrance time\",\n",
    "            \"Forward Speed Vs TreadmillSpeed\",\"Tortuosity\",\"standard deviation of entrance time\",\"Trajectory Correlation\"]\n",
    "TaskParamToPlot=[\"Entropy\",\"Mean Pairwise RMSE\"]\n",
    "stop_dayPlot =10\n",
    "fullLegend=False\n",
    "print(animalList1,animalList2)\n",
    "\n",
    "allResults,colors,colorGroup=plot_mean_subgroup_animal(root,groups,redo=False,stop_dayPlot=stop_dayPlot,TaskParamToPlot=TaskParamToPlot,fullLegend=fullLegend)\n"
   ]
  },
  {
   "cell_type": "code",
   "execution_count": null,
   "metadata": {
    "collapsed": true,
    "jupyter": {
     "outputs_hidden": true
    }
   },
   "outputs": [],
   "source": [
    "TaskParam=\"Mean Pairwise RMSE\"\n",
    "Days=[0,1,2,3,4]\n",
    "X=[1,1.5]\n",
    "#======================================\n",
    "fig=plt.figure()\n",
    "plt.ylabel(TaskParam)\n",
    "for i,Day in enumerate(Days):\n",
    "    ax = plt.subplot(1,len(Days),i+1)\n",
    "    ax.set_yticks([])\n",
    "    if i==0:\n",
    "        ax.set_ylabel(TaskParam)\n",
    "        ax.set_yticks([0,50,100])\n",
    "        \n",
    "    G1=[]\n",
    "    G2=[]\n",
    "    for animal in allResults[TaskParam]['group1'].keys():\n",
    "        G1.append(allResults[TaskParam]['group1'][animal][Day])\n",
    "    for animal in allResults[TaskParam]['group2'].keys():\n",
    "        G2.append(allResults[TaskParam]['group2'][animal][Day])\n",
    "\n",
    "    G1=np.array(G1)\n",
    "    G2=np.array(G2)\n",
    "    res=permtest(G2,G1, iterN=10000)\n",
    "    ax.boxplot([G1[~np.isnan(G1)],G2[~np.isnan(G2)]],sym='',positions=X)\n",
    "    xdist1=np.random.normal(loc=X[0],scale=.03,size=len(G1))\n",
    "    ax.scatter(xdist1,G1,c='b',marker='o',alpha=0.4,label=profile1['Tag'][0],s=10)\n",
    "    xdist2=np.random.normal(loc=X[1],scale=.03,size=len(G2))\n",
    "    ax.scatter(xdist2,G2,c='r',marker='o',alpha=0.4,label=profile2['Tag'][0],s=10)\n",
    "    ax.title.set_text('p='+str(res.p_val[0])[:6])\n",
    "    ax.set_xticks([np.mean(X)])\n",
    "    ax.set_xticklabels(['Day'+str(i+1)])\n",
    "    ax.set_ylim([0,1])\n",
    "\n",
    "plt.legend(bbox_to_anchor=(1.05, 1), loc=2, borderaxespad=0.)\n",
    "\n",
    "#plt.savefig(filename='/home/david/Downloads/AA.pdf',format='pdf',dpi=600,transparent=True,bbox_inches='tight')\n",
    "plt.show()"
   ]
  },
  {
   "cell_type": "markdown",
   "metadata": {},
   "source": [
    "### Separating trajectories baed on speed"
   ]
  },
  {
   "cell_type": "code",
   "execution_count": null,
   "metadata": {},
   "outputs": [],
   "source": [
    "session='Rat159_2017_09_20_14_41'\n",
    "data=Data(root,session[:6],session,redoPreprocess=False)\n",
    "a=read_in_file(data,'',extension=\".variablespeed\",exclude=None,valueType=float)\n"
   ]
  },
  {
   "cell_type": "markdown",
   "metadata": {},
   "source": [
    "### forward speed vs treadmill speed"
   ]
  },
  {
   "cell_type": "code",
   "execution_count": null,
   "metadata": {
    "collapsed": true,
    "jupyter": {
     "outputs_hidden": true
    }
   },
   "outputs": [],
   "source": [
    "def mean_forwardSpeed(data,smoothSpeed=0.3):\n",
    "    '''\n",
    "    plot mean forwardSpeed \n",
    "    '''\n",
    "    ValuesSessionRatio=[]\n",
    "    treadmillSpeed =read_in_file(data,'',extension=\".variablespeed\",exclude=None,valueType=float)\n",
    "    cs=data.cameraSamplingRate\n",
    "    ValuesSessionRatio=[]\n",
    "    for trial in data.trials:\n",
    "        tr=treadmillSpeed[trial]\n",
    "        position,_ =get_position_treadmillOn(data,trial)\n",
    "        speed= tr - np.diff(position)*cs \n",
    "        speed[speed<(-tr)]=-tr\n",
    "        speed=smooth(speed,smoothSpeed*cs)\n",
    "        MeanSpeed=np.nanmean(speed[speed>tr])\n",
    "        ValuesSessionRatio.append(MeanSpeed)\n",
    "        \n",
    "    return ValuesSessionRatio,treadmillSpeed\n",
    "\n",
    "def plot_speed_correlation(root,animalList,SESSION_LIMIT):\n",
    "    ForwardSpd=[]\n",
    "    TreadmillSpd=[]\n",
    "    for animal in  animalList:\n",
    "        sessionDict=batch_get_session_list(root,[animal],profile=AnimalProfile)\n",
    "        if SESSION_LIMIT >0:\n",
    "            tmp=sorted(sessionDict['Sessions'])[:SESSION_LIMIT]\n",
    "        else:\n",
    "            tmp=sorted(sessionDict['Sessions'])[SESSION_LIMIT:]\n",
    "\n",
    "        for session in tmp:\n",
    "            data=Data(root,session[:6],session,redoPreprocess=False)\n",
    "            forSpd,tSpd=mean_forwardSpeed(data,smoothSpeed=0.3)\n",
    "            ForwardSpd.extend(forSpd)\n",
    "            TreadmillSpd.extend(tSpd)\n",
    "    ForwardSpd=np.array(ForwardSpd)\n",
    "    TreadmillSpd=np.array(TreadmillSpd)\n",
    "    #plotting\n",
    "    plt.scatter(TreadmillSpd,ForwardSpd)\n",
    "    plt.xlabel(\"Treadmill Speed\")\n",
    "    plt.ylabel(\"Forward Overspeed\")\n",
    "    \n",
    "    binSig=np.logical_or(np.isnan(TreadmillSpd),np.isnan(ForwardSpd))\n",
    "    binSig=np.logical_not(binSig)\n",
    "#     r=np.corrcoef(TreadmillSpd[binSig],ForwardSpd[binSig])[0,1]\n",
    "#     p=scipy.stats.pearsonr(TreadmillSpd[binSig],ForwardSpd[binSig])[1]\n",
    "    plt.title('r='+str(r)+' p='+str(p))\n",
    "    return TreadmillSpd,ForwardSpd"
   ]
  },
  {
   "cell_type": "code",
   "execution_count": null,
   "metadata": {},
   "outputs": [],
   "source": [
    "AnimalProfile={'Type':'Good',\n",
    "     'rewardType':'Progressive',\n",
    "     #'initialSpeed':['10'],\n",
    "     #'Speed':['10'],\n",
    "     'Tag':'Early-Lesion_DLS-Early-var'\n",
    "              }\n",
    "animalList=batch_get_animal_list(root,AnimalProfile)\n",
    "#animalList=['Rat145']\n",
    "SESSION_LIMIT=-5\n",
    "plt.figure(figsize=(10,10))\n",
    "\n",
    "TreadmillSpd,ForwardSpd=plot_speed_correlation(root,animalList,SESSION_LIMIT);"
   ]
  },
  {
   "cell_type": "code",
   "execution_count": null,
   "metadata": {},
   "outputs": [],
   "source": [
    "session='Rat147_2017_11_06_11_08'\n",
    "data=Data(root,session[:6],session,redoPreprocess=False)\n",
    "# treadmillSpeed =read_in_file(data,' ',extension=\".variablespeed\",exclude=None,valueType=float)\n",
    "# treadmillSpeed"
   ]
  },
  {
   "cell_type": "code",
   "execution_count": null,
   "metadata": {},
   "outputs": [],
   "source": [
    "i=80\n",
    "\n",
    "plt.plot(data.timeTreadmill[i],data.position[i])\n",
    "plt.plot(data.entranceTime[i]-1,data.position[i][int(data.entranceTime[i]*25)],'r*')\n",
    "print(data.entranceTime[i])"
   ]
  }
 ],
 "metadata": {
  "kernelspec": {
   "display_name": "Python 3",
   "language": "python",
   "name": "python3"
  },
  "language_info": {
   "codemirror_mode": {
    "name": "ipython",
    "version": 3
   },
   "file_extension": ".py",
   "mimetype": "text/x-python",
   "name": "python",
   "nbconvert_exporter": "python",
   "pygments_lexer": "ipython3",
   "version": "3.7.4"
  }
 },
 "nbformat": 4,
 "nbformat_minor": 4
}
