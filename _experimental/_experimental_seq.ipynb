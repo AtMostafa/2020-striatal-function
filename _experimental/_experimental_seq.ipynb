{
 "cells": [
  {
   "cell_type": "markdown",
   "metadata": {},
   "source": [
    "# THIS NOTEBOOK IS DEDICATED TO THE ANALYSIS OF \n",
    "\n",
    "# *SEQ SCORE / WAITING TIME*\n"
   ]
  },
  {
   "cell_type": "code",
   "execution_count": 49,
   "metadata": {},
   "outputs": [
    {
     "data": {
      "text/html": [
       "<style>.container { width:90% !important; }</style>"
      ],
      "text/plain": [
       "<IPython.core.display.HTML object>"
      ]
     },
     "metadata": {},
     "output_type": "display_data"
    },
    {
     "name": "stdout",
     "output_type": "stream",
     "text": [
      "Done\n"
     ]
    }
   ],
   "source": [
    "import os\n",
    "import glob\n",
    "import numpy as np\n",
    "from platform import system as OS\n",
    "import pandas as pd\n",
    "import scipy.stats\n",
    "import math\n",
    "import datetime\n",
    "from copy import deepcopy\n",
    "from IPython.display import clear_output, display, HTML, Image\n",
    "import matplotlib.cm as cm\n",
    "import warnings\n",
    "import types\n",
    "warnings.filterwarnings(\"ignore\")\n",
    "import sys, time\n",
    "import pickle\n",
    "import matplotlib.pyplot as plt\n",
    "from scipy import stats\n",
    "from matplotlib import mlab\n",
    "from mpl_toolkits.mplot3d import Axes3D\n",
    "import matplotlib.animation as animation\n",
    "from pylab import *\n",
    "import matplotlib.backends.backend_pdf\n",
    "from sklearn.decomposition import KernelPCA\n",
    "\n",
    "ThisNoteBookPath=os.path.dirname(os.path.realpath(\"__file__\"))\n",
    "CommonNoteBookesPath=os.path.join(os.path.split(ThisNoteBookPath)[0],\"load_preprocess_rat\")\n",
    "CWD=os.getcwd()\n",
    "os.chdir(CommonNoteBookesPath)\n",
    "root='/data'\n",
    "%run UtilityTools.ipynb\n",
    "%run Animal_Tags.ipynb\n",
    "%run Lesion_Size.ipynb\n",
    "%run BatchRatBehavior.ipynb\n",
    "%run plotRat_documentation_3_KinematicsInvestigation.ipynb\n",
    "%run plotRat_documentation_1_GeneralBehavior.ipynb\n",
    "%run loadRat_documentation.ipynb\n",
    "%run RunBatchRat_3_CompareGroups.ipynb\n",
    "os.chdir(CWD)\n",
    "\n",
    "# logging.getLogger().setLevel(logging.WARNING)\n",
    "param={\n",
    "    \"binSize\":0.25,\n",
    "    \"trialOffset\":20., #max end of trial, in seconds (position will be cutted)\n",
    "    \"sigmaSmoothPosition\":0.1,  #smooth the position\n",
    "    #\"sigmaSmoothPosition\":0.33 for pavel dataType\n",
    "    \"sigmaSmoothSpeed\":0.3, #smooth the speed\n",
    "    \"positionDiffRange\": [2.,5.], #min and max differences allowed between two consecutive positions\n",
    "                                  #min to correct start, max to correct jumps\n",
    "    \"pawFrequencyRange\":[2.,10.],\n",
    "    \"startAnalysisParams\":[10,0.2,0.5],\n",
    "    \"cameraToTreadmillDelay\":2., #seconds, usual time between camera start and treadmill start\n",
    "    \"nbJumpMax\" : 100., #if jumps>nbJumpMax, trial is badly tracked\n",
    "    \n",
    "    \n",
    "    #parameter to detect end of trial (first position minima)\n",
    "    \"endTrial_backPos\":55,  # minima is after the animal went once to the back (after first time position>backPos)\n",
    "    \"endTrial_frontPos\":30, # minima's position is in front of treadmill (position[end]<frontPos)\n",
    "    \"endTrial_minTimeSec\":4, # minima is after minTimeSec seconds (time[end]>minTimeSec)\n",
    "    }\n",
    "Y1,Y2=(0,90)\n",
    "BadLateRats=('Rat223','Rat231')\n",
    "print('Done')"
   ]
  },
  {
   "cell_type": "code",
   "execution_count": 50,
   "metadata": {},
   "outputs": [],
   "source": [
    "def plot_event_1on1(root, SessionDict, TaskParamToPlot,\n",
    "                    ax=None, preSlice=slice(-5,None), postSlice=slice(0,5)):\n",
    "    \n",
    "    Plot = True\n",
    "    if ax is None:\n",
    "        Plot=False\n",
    "    \n",
    "    \n",
    "    Results,nSessionPre,nSessionPost=event_statistic2(root,\n",
    "                                                     SessionDict,\n",
    "                                                     parameter=param,\n",
    "                                                     redo=False,\n",
    "                                                     TaskParamToPlot=[TaskParamToPlot])\n",
    "\n",
    "    data=np.array(list(Results[TaskParamToPlot].values()))\n",
    "    slicedPreData  = np.ones((data.shape))*np.nan\n",
    "    slicedPostData = np.ones((data.shape))*np.nan\n",
    "    \n",
    "    for row,Dnan in enumerate(data):\n",
    "        Dpre= Dnan[:nSessionPre][~ np.isnan(Dnan[:nSessionPre])]\n",
    "        Dpost=Dnan[nSessionPre:][~ np.isnan(Dnan[nSessionPre:])]\n",
    "        preData =Dpre[preSlice]\n",
    "        postData=Dpost[postSlice]\n",
    "\n",
    "        slicedPreData[row,:len(preData)]=preData\n",
    "        slicedPostData[row,:len(postData)]=postData\n",
    "    \n",
    "    y0=np.nanmedian(slicedPreData,axis=1)\n",
    "    y1=np.nanmean(slicedPostData,axis=1)\n",
    "    \n",
    "    y=np.array([y0,y1]).T\n",
    "    \n",
    "    if Plot:\n",
    "        #plotting the errorbar\n",
    "        props={'color':'k','linewidth':1}\n",
    "        ax.boxplot(x=y,whis=[5,95],\n",
    "                      positions=[-.5,.5], widths=.3,\n",
    "                      showcaps=False, showfliers=False,\n",
    "                      medianprops=props, boxprops=props, whiskerprops=props,\n",
    "                      zorder=2)\n",
    "\n",
    "        #plotting single animals\n",
    "        for before,after in y:\n",
    "            ax.plot([-.5,.5],[before,after],lw=.5,alpha=1,zorder=1)\n",
    "        \n",
    "    return y, slicedPreData, slicedPostData"
   ]
  },
  {
   "cell_type": "markdown",
   "metadata": {},
   "source": [
    "## motor seq score"
   ]
  },
  {
   "cell_type": "code",
   "execution_count": 52,
   "metadata": {},
   "outputs": [],
   "source": [
    "profile1={'Type':'Good',\n",
    "         'rewardType':'Progressive',\n",
    "         'initialSpeed':['0','10'],\n",
    "         'Speed':'10',\n",
    "         'Tag':['Control', 'Control-AfterBreak', 'Control-Late-NoTimeout-BackToTimeout',\n",
    "          'Control-NoTimeout-Control','Control-Sharp','IncReward-Late-Sharp',\n",
    "          'Control-Sharp-AfterBreak','ImmobileTreadmill-Control']\n",
    "         }\n",
    "profile2={'Type':'Good',\n",
    "         'rewardType':'Progressive',\n",
    "         'initialSpeed':['0','10'],\n",
    "         'Speed':'10',\n",
    "         'Tag':['Late-Lesion_DLS','Late-Lesion_DMS','Late-Lesion_DS',\n",
    "                'Late-Lesion_DS-Sharp','Late-Lesion_DMS-Sharp']\n",
    "         }\n",
    "\n",
    "# profile1={'Type':'Good',\n",
    "#           'rewardType':'Progressive',\n",
    "#           'initialSpeed':'10',\n",
    "#           'Speed':'10',\n",
    "#           'Tag':['Control','Control-BackTo10','Control-Late-BackTo10']\n",
    "#           }\n",
    "# profile2={'Type':'Good',\n",
    "#           'rewardType':'Progressive',\n",
    "#           'initialSpeed':'10',\n",
    "#           'Speed':'10',\n",
    "#           'Tag':['Control-AfterBreak']\n",
    "#           }  \n",
    "\n",
    "\n",
    "Profiles=(profile1,profile2)\n",
    "TaskParamToPlot=[\"Motor Sequence Score\",\"Maximum Position\"]\n",
    "preSlice=slice(-5,None)\n",
    "postSlice=slice(0,5)"
   ]
  },
  {
   "cell_type": "code",
   "execution_count": 53,
   "metadata": {},
   "outputs": [
    {
     "data": {
      "image/png": "[encoded data removed]",
      "text/plain": [
       "<Figure size 432x288 with 1 Axes>"
      ]
     },
     "metadata": {
      "needs_background": "light"
     },
     "output_type": "display_data"
    }
   ],
   "source": [
    "badAnimalList=BadLateRats\n",
    "\n",
    "F=plt.figure(1)\n",
    "ax=F.add_subplot(111)\n",
    "\n",
    "_,SessionDict=event_detect(root, Profiles[0], Profiles[1],badAnimals=badAnimalList)\n",
    "y, nSessionPre, slicedPostData=plot_event_1on1(root,SessionDict, TaskParamToPlot=TaskParamToPlot[0],\n",
    "                                               ax=ax, preSlice=preSlice, postSlice=postSlice);"
   ]
  },
  {
   "cell_type": "code",
   "execution_count": null,
   "metadata": {},
   "outputs": [],
   "source": [
    "x=y[:,1]-y[:,0]\n",
    "# x[y[:,0]<3.5]=np.nan\n",
    "x=x[~ np.isnan(x)]\n",
    "x_strapped=bootstrap(x,10000)\n",
    "x_CI=np.percentile(x_strapped,[1,99])\n",
    "print(x_CI)\n",
    "print(stats.ttest_rel(y[:,1],y[:,0]))"
   ]
  },
  {
   "cell_type": "code",
   "execution_count": null,
   "metadata": {},
   "outputs": [],
   "source": [
    "for i,animal in enumerate(SessionDict.keys()):\n",
    "    print(i, animal,y[i,0],y[i,1],y[i,1]-y[i,0] ,sep='\\t')\n",
    "#     if y[i,1] < 0.4:\n",
    "#         print(i, animal, y[i,0],y[i,1], sep='\\t')\n"
   ]
  },
  {
   "cell_type": "markdown",
   "metadata": {},
   "source": [
    "### maximum position"
   ]
  },
  {
   "cell_type": "code",
   "execution_count": 54,
   "metadata": {},
   "outputs": [
    {
     "data": {
      "image/png": "[encoded data removed]",
      "text/plain": [
       "<Figure size 432x288 with 1 Axes>"
      ]
     },
     "metadata": {
      "needs_background": "light"
     },
     "output_type": "display_data"
    }
   ],
   "source": [
    "badAnimalList=[]\n",
    "# badAnimalList=[*BadLateRats]\n",
    "# for i,animal in enumerate(SessionDict.keys()):\n",
    "#     if y[i,0] < 0.4:\n",
    "#         badAnimalList.append(animal)\n",
    "\n",
    "F=plt.figure(2)\n",
    "ax=F.add_subplot(111)\n",
    "\n",
    "_,SessionDict1=event_detect(root, Profiles[0], Profiles[1],badAnimals=badAnimalList)\n",
    "y1, nSessionPre1, slicedPostData1=plot_event_1on1(root,SessionDict1, TaskParamToPlot=TaskParamToPlot[1],ax=ax,\n",
    "                                                  preSlice=preSlice, postSlice=postSlice);"
   ]
  },
  {
   "cell_type": "code",
   "execution_count": 47,
   "metadata": {},
   "outputs": [
    {
     "name": "stdout",
     "output_type": "stream",
     "text": [
      "[-5.48612123  0.48902648]\n",
      "Ttest_relResult(statistic=-3.5784287244030764, pvalue=0.0007222202278900597)\n"
     ]
    }
   ],
   "source": [
    "x=y1[:,1]-y1[:,0]\n",
    "# x[y[:,0]<3.5]=np.nan\n",
    "x=x[~ np.isnan(x)]\n",
    "x_strapped=bootstrap(x,10000, user_statistic=lambda x:np.median(x,axis=1))\n",
    "x_CI=np.percentile(x_strapped,[1,99])\n",
    "print(x_CI)\n",
    "print(stats.ttest_rel(y1[:,1],y1[:,0]))"
   ]
  },
  {
   "cell_type": "code",
   "execution_count": 28,
   "metadata": {},
   "outputs": [
    {
     "name": "stdout",
     "output_type": "stream",
     "text": [
      "0\tRat230\t78.73528742822634\t79.66923278955741\t0.9339453613310695\n",
      "1\tRat222\t78.2854886206698\t83.87992262800279\t5.594434007332993\n",
      "2\tRat224\t65.76107774599743\t72.09412414646012\t6.333046400462692\n",
      "3\tRat096\t73.07366163592538\t75.31431940355668\t2.240657767631305\n",
      "4\tRat162\t85.2332724711813\t80.1176252426765\t-5.115647228504798\n",
      "5\tRat251\t83.5772048625272\t70.13560940542398\t-13.441595457103219\n",
      "6\tRat299\t82.09694776236168\t81.66240554579483\t-0.43454221656685377\n",
      "7\tRat095\t77.06679649916614\t80.11801546950414\t3.051218970337999\n",
      "8\tRat229\t74.6977335215324\t76.71518394381529\t2.0174504222828915\n",
      "9\tRat304\t75.55953088000706\t70.93289951287278\t-4.62663136713428\n",
      "10\tRat131\t75.78869768179455\t79.55046735083204\t3.7617696690374913\n",
      "11\tRat308\t76.73577304603945\t77.5373968692301\t0.8016238231906385\n",
      "12\tRat263\t81.91497517344804\t76.1458622635645\t-5.769112909883546\n",
      "13\tRat137\t75.47489592646922\t78.24935201131991\t2.774456084850698\n",
      "14\tRat163\t80.58108404573139\t82.78405094851482\t2.20296690278343\n",
      "15\tRat144\t79.41512801000529\t79.49672239123105\t0.0815943812257558\n",
      "16\tRat302\t77.81224335568271\t59.37174642130459\t-18.440496934378118\n",
      "17\tRat221\t85.50582230368633\t75.90200702152345\t-9.603815282162884\n",
      "18\tRat231\t85.16483961591076\t48.79716272281068\t-36.36767689310008\n",
      "19\tRat085\t76.56147851934179\t76.17203389143107\t-0.38944462791072\n",
      "20\tRat132\t78.30389226043019\t81.19016088103713\t2.8862686206069412\n",
      "21\tRat264\t82.71955356589746\t68.87238106358964\t-13.847172502307814\n",
      "22\tRat124\t81.87598209443343\t85.9884792089914\t4.112497114557968\n",
      "23\tRat252\t88.79939747477873\t79.49056187860536\t-9.308835596173367\n",
      "24\tRat106\t75.54022342960033\t82.17119631751991\t6.630972887919583\n",
      "25\tRat254\t80.54122326164088\t72.95854130037851\t-7.582681961262367\n",
      "26\tRat284\t77.27340463613095\t76.6575416765207\t-0.6158629596102543\n",
      "27\tRat220\t67.45261047036375\t72.72915915516293\t5.276548684799181\n",
      "28\tRat255\t80.67736114730764\t72.92844136281748\t-7.748919784490155\n",
      "29\tRat141\t78.30605496572329\t79.53531463732722\t1.229259671603927\n",
      "30\tRat091\t76.37924165819875\t73.84067884354752\t-2.538562814651229\n",
      "31\tRat121\t79.14460895582376\t80.95954823450214\t1.8149392786783807\n",
      "32\tRat161\t81.84715261277373\t80.48886780482414\t-1.3582848079495875\n",
      "33\tRat139\t75.01645937092096\t79.70923798225809\t4.692778611337133\n",
      "34\tRat260\t77.91962119666644\t54.55661482199518\t-23.363006374671258\n",
      "35\tRat256\t78.46217127956193\t72.75390437086614\t-5.708266908695791\n",
      "36\tRat232\t86.26355173063814\t84.05792656165434\t-2.2056251689838007\n",
      "37\tRat301\t72.12181983474284\t76.86311337703853\t4.741293542295693\n",
      "38\tRat305\t78.02564244014073\t75.56804165744555\t-2.457600782695181\n",
      "39\tRat219\t80.28479526616923\t82.27898118424545\t1.9941859180762265\n",
      "40\tRat218\t85.21717990595305\t64.93914230581721\t-20.278037600135832\n",
      "41\tRat138\t70.41077477543581\t77.11246177086156\t6.701686995425746\n",
      "42\tRat217\t80.06850461304018\t67.71511113410098\t-12.353393478939196\n",
      "43\tRat227\t76.28268559515487\t83.44302621530147\t7.160340620146599\n",
      "44\tRat215\t78.36922672239302\t68.52098969475698\t-9.848237027636046\n",
      "45\tRat140\t74.63132483238985\t75.8547679115147\t1.2234430791248485\n",
      "46\tRat226\t74.16872193381195\t81.96003040776384\t7.7913084739518865\n",
      "47\tRat225\t83.23714036766012\t80.2722007193614\t-2.9649396482987243\n",
      "48\tRat113\t80.67308515063314\t84.26598806418444\t3.592902913551299\n",
      "49\tRat123\t83.75989755634126\t77.55620446887954\t-6.2036930874617155\n",
      "50\tRat249\t84.06038303595226\t80.33005994307631\t-3.730323092875949\n",
      "51\tRat120\t75.91771394439601\t78.71213356160152\t2.794419617205506\n",
      "52\tRat223\t81.81548001889603\t61.25028852890996\t-20.565191489986063\n",
      "53\tRat122\t76.95381079286403\t75.70897274609231\t-1.2448380467717186\n",
      "54\tRat250\t77.74427013449976\t74.86025665057302\t-2.8840134839267364\n",
      "55\tRat300\t78.88653401024057\t81.85304598521967\t2.966511974979099\n",
      "56\tRat164\t79.88454054617075\t80.01543240480876\t0.13089185863800878\n"
     ]
    }
   ],
   "source": [
    "for i,animal in enumerate(SessionDict1.keys()):\n",
    "    print(i, animal,y1[i,0],y1[i,1],y1[i,1]-y1[i,0] ,sep='\\t')\n",
    "#     if y[i,1] < 0.4:\n",
    "#         print(i, animal, y[i,0],y[i,1], sep='\\t')\n"
   ]
  },
  {
   "cell_type": "markdown",
   "metadata": {},
   "source": [
    "## correlation with lesion size"
   ]
  },
  {
   "cell_type": "code",
   "execution_count": 55,
   "metadata": {},
   "outputs": [],
   "source": [
    "def late_lesion_correlation_with_size(root: str, SessionDict:dict, TaskParamToPlot:str,\n",
    "                                      preSlice=slice(-5,None), postSlice=slice(0,5)):\n",
    "    \"\"\"\n",
    "    SessionDict is the output of the function `event_detect`\n",
    "    \"\"\"\n",
    "    \n",
    "    Results,nSessionPre,nSessionPost=event_statistic2(root,\n",
    "                                                 SessionDict,\n",
    "                                                 parameter=param,\n",
    "                                                 redo=False,\n",
    "                                                 TaskParamToPlot=[TaskParamToPlot])\n",
    "\n",
    "    data=np.array(list(Results[TaskParamToPlot].values()))\n",
    "    slicedPreData  = np.ones((data.shape))*np.nan\n",
    "    slicedPostData = np.ones((data.shape))*np.nan\n",
    "    \n",
    "    for row,Dnan in enumerate(data):\n",
    "        Dpre= Dnan[:nSessionPre][~ np.isnan(Dnan[:nSessionPre])]\n",
    "        Dpost=Dnan[nSessionPre:][~ np.isnan(Dnan[nSessionPre:])]\n",
    "        preData =Dpre[preSlice]\n",
    "        postData=Dpost[postSlice]\n",
    "\n",
    "        slicedPreData[row,:len(preData)]=preData\n",
    "        slicedPostData[row,:len(postData)]=postData\n",
    "    \n",
    "    yPre =np.nanmean(slicedPreData ,axis=1)\n",
    "    yPost=np.nanmean(slicedPostData,axis=1)\n",
    "\n",
    "    size=[]\n",
    "    behav=[]\n",
    "    animals=[]\n",
    "    for i,animal in enumerate(Results[TaskParamToPlot].keys()):\n",
    "        try:\n",
    "            Hist=HistologyExcel('/NAS02',animal)\n",
    "        except Exception as e:\n",
    "            logging.error(f'{animal}: {repr(e)}')\n",
    "            continue\n",
    "        \n",
    "        behav.append(yPost[i]-yPre[i])\n",
    "        size.append(Hist.lesion_size())\n",
    "        animals.append(animal)\n",
    "    \n",
    "    return behav, size, animals"
   ]
  },
  {
   "cell_type": "code",
   "execution_count": 58,
   "metadata": {},
   "outputs": [
    {
     "name": "stderr",
     "output_type": "stream",
     "text": [
      "ERROR:root:Rat124: AssertionError('No Excel files/NAS02/Rat124/Rat124*.xls*')\n",
      "ERROR:root:Rat121: AssertionError('No Excel files/NAS02/Rat121/Rat121*.xls*')\n",
      "ERROR:root:Rat123: AssertionError('No Excel files/NAS02/Rat123/Rat123*.xls*')\n",
      "ERROR:root:Rat122: AssertionError('No Excel files/NAS02/Rat122/Rat122*.xls*')\n"
     ]
    }
   ],
   "source": [
    "if \"__file__\" not in dir():\n",
    "\n",
    "    profile1={'Type':'Good',\n",
    "             'rewardType':'Progressive',\n",
    "             'initialSpeed':['0','10'],\n",
    "             'Speed':'10',\n",
    "             'Tag':['Control', 'Control-AfterBreak', 'Control-Late-NoTimeout-BackToTimeout',\n",
    "              'Control-NoTimeout-Control','Control-Sharp','IncReward-Late-Sharp',\n",
    "              'Control-Sharp-AfterBreak','ImmobileTreadmill-Control']\n",
    "             }\n",
    "    profile2={'Type':'Good',\n",
    "             'rewardType':'Progressive',\n",
    "             'initialSpeed':['0','10'],\n",
    "             'Speed':'10',\n",
    "             'Tag':['Late-Lesion_DLS','Late-Lesion_DMS','Late-Lesion_DS',\n",
    "                    'Late-Lesion_DS-Sharp','Late-Lesion_DMS-Sharp']\n",
    "             }\n",
    "\n",
    "    Profiles=(profile1,profile2)\n",
    "    TaskParamToPlot=[\"Motor Sequence Score\",\"Maximum Position\"]\n",
    "    preSlice=slice(-5,None)\n",
    "    postSlice=slice(0,5)\n",
    "    badAnimalList3=badAnimalList\n",
    "    _,SessionDict=event_detect(root, Profiles[0], Profiles[1],badAnimals=badAnimalList3)\n",
    "\n",
    "    Behav, Size, Animals=late_lesion_correlation_with_size(root, SessionDict, TaskParamToPlot=TaskParamToPlot[1],\n",
    "                                                           preSlice=preSlice, postSlice=postSlice)"
   ]
  },
  {
   "cell_type": "code",
   "execution_count": 59,
   "metadata": {},
   "outputs": [
    {
     "data": {
      "image/png": "[encoded data removed]",
      "text/plain": [
       "<Figure size 432x288 with 1 Axes>"
      ]
     },
     "metadata": {
      "needs_background": "light"
     },
     "output_type": "display_data"
    }
   ],
   "source": [
    "if \"__file__\" not in dir():\n",
    "    color={'DS':'r','DMS':'g', 'DLS':'b', 'Control':'k'}\n",
    "    \n",
    "    ax=plt.subplot(111)\n",
    "    for i,animal in enumerate(Animals):\n",
    "        _,tag=lesion_type(root,animal)\n",
    "        ax.scatter(Size[i], Behav[i], c=color[tag], label=tag);\n",
    "        plt.annotate(animal[-3:], (Size[i],Behav[i]))\n",
    "    ax.set_ylabel(TaskParamToPlot[1]);\n",
    "    ax.set_xlabel('Lesion Size');\n",
    "    handles = ax.get_legend_handles_labels()\n",
    "    handles = [handles[0][-2], handles[0][-1], handles[0][-3],handles[0][-4]]\n",
    "    ax.legend(handles, color.keys());\n",
    "    leg = ax.get_legend()\n",
    "    for i,c in enumerate(color.values()):\n",
    "        leg.legendHandles[i].set_color(c)"
   ]
  },
  {
   "cell_type": "markdown",
   "metadata": {},
   "source": [
    "# correlate speed with max pos"
   ]
  },
  {
   "cell_type": "code",
   "execution_count": null,
   "metadata": {},
   "outputs": [],
   "source": [
    "def plot_correlation_behavior(root, animalList, profile, param, SessionRange=slice(-5,None), colors=None, ax=None):    \n",
    "    x={} \n",
    "    y={}\n",
    "    \n",
    "    for animal in animalList:\n",
    "        x[animal]=animal_learning_stats(root, animal, PerfParam=param[0], profile=profile, sessionSlice=SessionRange)\n",
    "        y[animal]=animal_learning_stats(root, animal, PerfParam=param[1], profile=profile, sessionSlice=SessionRange)\n",
    "        \n",
    "    x=np.array(list(x.values()))\n",
    "    y=np.array(list(y.values()))\n",
    "\n",
    "    if ax is not None:\n",
    "        if colors is None:\n",
    "            colors=get_colors(len(animalList))\n",
    "        \n",
    "        r,p=scipy.stats.pearsonr(np.mean(x,1),np.mean(y,1))\n",
    "        \n",
    "        for i,_ in enumerate(animalList):\n",
    "            ax.plot(x[i,:],y[i,:],'o',color=colors[i], markersize=2)\n",
    "\n",
    "        P = np.poly1d(np.polyfit(x.flatten(), y.flatten(), 1))\n",
    "        ax.plot(x.flatten(),P(x.flatten()),'k')\n",
    "\n",
    "        maxX=np.max(x)\n",
    "        minX=np.min(x)\n",
    "        maxY=np.max(y)\n",
    "\n",
    "        s='$r=$'+'$%+.2f$'%(r)+'\\n'+'$p=$'+'$%.2e$'%(p)\n",
    "        ax.text(minX, y=maxY, s=s, ha='left', va='top', fontsize=8)\n",
    "\n",
    "        ax.spines['top'].set_visible(False)\n",
    "        ax.spines['right'].set_visible(False)\n",
    "        ax.spines['left'].set_bounds(0,80)\n",
    "        ax.spines['bottom'].set_bounds(minX,maxX+5)\n",
    "        ax.set_ylim([0,80])\n",
    "\n",
    "        ax.set_ylabel('% Correct trials')\n",
    "        ax.set_xlabel('Displacement (cm)')\n",
    "        ax.set_xlim([minX-2,maxX+2])\n",
    "\n",
    "    \n",
    "    return x,y"
   ]
  },
  {
   "cell_type": "code",
   "execution_count": null,
   "metadata": {},
   "outputs": [],
   "source": [
    "if \"__file__\" not in dir():\n",
    "\n",
    "    profile={'Type':'Good',\n",
    "             'rewardType':'Progressive',\n",
    "             'initialSpeed':['0','10'],\n",
    "             'Speed':'10',\n",
    "             'Tag':['Late-Lesion_DLS','Late-Lesion_DMS','Late-Lesion_DS',\n",
    "                    'Late-Lesion_DS-Sharp','Late-Lesion_DMS-Sharp']\n",
    "             }\n",
    "    AnimalProfile={'Type':'Good',\n",
    "                    'rewardType':'Progressive',\n",
    "                    'initialSpeed':['10','0'],\n",
    "                    'Speed':'10',\n",
    "                    'Tag':['Early-Lesion_DS','Early-Lesion_DMS','Early-Lesion_DLS',\n",
    "                       'Late-Lesion_DMS','Late-Lesion_DLS','Late-Lesion_DS',\n",
    "                       'Late-Lesion_DMS-Sharp','Late-Lesion_DLS-Sharp','Late-Lesion_DS-Sharp']\n",
    "                  }\n",
    "\n",
    "\n",
    "    TaskParamToPlot=[\"Forward Running Speed\",\"Maximum Position\"]\n",
    "    Slice=slice(-5,None)\n",
    "    badAnimalList=set((*BadLateRats,'Rat223','Rat231','Rat144','Rat124','Rat218','Rat138','Rat251','Rat264','Rat249',\n",
    "                        'Rat229','Rat220','Rat256','Rat260','Rat219','Rat305','Rat123','Rat215','Rat163','Rat141','Rat224','Rat230','Rat139',\n",
    "                        'Rat217','Rat222'))\n",
    "    animalList=batch_get_animal_list(root,AnimalProfile)\n",
    "#     for animal in badAnimalList:animalList.remove(animal)\n",
    "        \n",
    "    x_,y_=plot_correlation_behavior(root, animalList, profile=AnimalProfile, \n",
    "                                          param=TaskParamToPlot, SessionRange=Slice,\n",
    "                                          colors=None, ax=None)"
   ]
  },
  {
   "cell_type": "code",
   "execution_count": null,
   "metadata": {},
   "outputs": [],
   "source": [
    "x=np.nanmedian(x_,1)\n",
    "y=np.nanmedian(y_,1)\n",
    "notNan=~np.logical_or(np.isnan(x),np.isnan(y))\n",
    "# notNan=np.logical_and(notNan,y>66)\n",
    "r,p=scipy.stats.pearsonr(x[notNan],y[notNan])\n",
    "r,p=scipy.stats.spearmanr(x[notNan],y[notNan])\n",
    "r,p"
   ]
  },
  {
   "cell_type": "code",
   "execution_count": null,
   "metadata": {},
   "outputs": [],
   "source": [
    "plt.scatter(x[notNan],y[notNan]);\n",
    "# plt.xlim([35,75])\n",
    "# plt.ylim([50,85])\n",
    "plt.ylabel('max pos');\n",
    "plt.xlabel('vigor');\n",
    "plt.title(f'all rats after learning,\\n r={r},\\n p={p}');\n",
    "# for i,j,animal in zip(x,y,animalList):\n",
    "#     if np.isnan(i) or np.isnan(j):continue\n",
    "#     plt.text(i,j,animal);"
   ]
  },
  {
   "cell_type": "markdown",
   "metadata": {},
   "source": [
    "# Speed in trials with low maxPos vs. high maxPos"
   ]
  },
  {
   "cell_type": "code",
   "execution_count": null,
   "metadata": {},
   "outputs": [],
   "source": [
    "def back_trial_speed(data,high=65):\n",
    "    seqObj = sequentialTrials(data,xFront=30, xBackMin=40)\n",
    "    seqTrials,_ = seqObj._compute_sequential_trials()\n",
    "    Speed=forwardRunningSpeed(data, minXBack=40, minXFront=30).compute()\n",
    "\n",
    "    highTrial=np.array([trial for trial in seqTrials if data.position[trial].max()>high and trial in Speed.keys()])\n",
    "    \n",
    "    backSpeed=np.array([Speed[trial] for trial in highTrial])\n",
    "    \n",
    "    return np.nanmean(backSpeed)\n",
    "\n",
    "def mid_trial_speed(data,low=50):\n",
    "    seqObj = sequentialTrials(data,xFront=30, xBackMin=40)\n",
    "    seqTrials,_ = seqObj._compute_sequential_trials()\n",
    "    Speed=forwardRunningSpeed(data, minXBack=40, minXFront=30).compute()\n",
    "\n",
    "    lowTrial =np.array([trial for trial in seqTrials if data.position[trial].max()<low and trial in Speed.keys()])\n",
    "    \n",
    "    midSpeed=np.array([Speed[trial] for trial in lowTrial])\n",
    "\n",
    "    return np.nanmean(midSpeed)"
   ]
  },
  {
   "cell_type": "code",
   "execution_count": null,
   "metadata": {},
   "outputs": [],
   "source": [
    "profile={'Type':'Good',\n",
    "     'option': ['not used','AsymmetricLesion'],\n",
    "     'rewardType':'Progressive',\n",
    "     'initialSpeed':['10','0'],\n",
    "     'Speed':'10',\n",
    "     'Tag':['Early-Lesion_DS','Early-Lesion_DS-NoHab','Early-Lesion_DMS','Early-Lesion_DLS',\n",
    "           'Late-Lesion_DMS','Late-Lesion_DLS','Late-Lesion_DS',\n",
    "           'Late-Lesion_DMS-Sharp','Late-Lesion_DLS-Sharp','Late-Lesion_DS-Sharp']\n",
    "              }\n",
    "param=[mid_trial_speed,back_trial_speed]\n",
    "\n",
    "animalList=batch_get_animal_list(root,profile);"
   ]
  },
  {
   "cell_type": "code",
   "execution_count": null,
   "metadata": {},
   "outputs": [],
   "source": [
    "x={} \n",
    "y={}\n",
    "for animal in animalList:\n",
    "    data=data_fetch(root,animal,profile, param, NbSession=slice(-5,None))\n",
    "    y[animal]=np.nanmean(data[param[1].__name__])\n",
    "    \n",
    "    x[animal]=np.nanmean(data[param[0].__name__])\n",
    "\n",
    "x=np.array(list(x.values()))\n",
    "y=np.array(list(y.values()))\n"
   ]
  },
  {
   "cell_type": "code",
   "execution_count": null,
   "metadata": {},
   "outputs": [],
   "source": [
    "F=plt.figure()\n",
    "ax=F.add_subplot(111)\n",
    "\n",
    "ax.boxplot(x=[x[~ np.isnan(x)],y[~ np.isnan(y)]],whis=[5,95],positions=[0,1],sym='',zorder=5)\n",
    "\n",
    "for i,j in zip(x,y):\n",
    "    if np.isnan(i) or np.isnan(j):\n",
    "        continue\n",
    "    ax.plot([0,1],[i,j],lw=.5)\n",
    "    \n",
    "ax.set_xticklabels(['mid trial','back trial']);\n",
    "ax.set_ylabel('Speed(cm/s)');\n",
    "ax.set_title('Each line one animal');"
   ]
  },
  {
   "cell_type": "code",
   "execution_count": null,
   "metadata": {},
   "outputs": [],
   "source": [
    "CI=bootstrap(y-x,10000);\n",
    "\n",
    "print(np.nanpercentile(CI1,[1,99]))"
   ]
  }
 ],
 "metadata": {
  "kernelspec": {
   "display_name": "Python 3",
   "language": "python",
   "name": "python3"
  },
  "language_info": {
   "codemirror_mode": {
    "name": "ipython",
    "version": 3
   },
   "file_extension": ".py",
   "mimetype": "text/x-python",
   "name": "python",
   "nbconvert_exporter": "python",
   "pygments_lexer": "ipython3",
   "version": "3.7.4"
  }
 },
 "nbformat": 4,
 "nbformat_minor": 4
}
