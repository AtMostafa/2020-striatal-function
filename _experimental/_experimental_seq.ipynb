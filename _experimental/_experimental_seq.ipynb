{
 "cells": [
  {
   "cell_type": "markdown",
   "metadata": {},
   "source": [
    "# THIS NOTEBOOK IS DEDICATED TO THE ANALYSIS OF \n",
    "\n",
    "# *SEQ SCORE / WAITING TIME*\n"
   ]
  },
  {
   "cell_type": "code",
   "execution_count": null,
   "metadata": {},
   "outputs": [],
   "source": [
    "import os\n",
    "import glob\n",
    "import numpy as np\n",
    "from platform import system as OS\n",
    "import pandas as pd\n",
    "import scipy.stats\n",
    "import math\n",
    "import datetime\n",
    "from copy import deepcopy\n",
    "from IPython.display import clear_output, display, HTML, Image\n",
    "import matplotlib.cm as cm\n",
    "import warnings\n",
    "import types\n",
    "warnings.filterwarnings(\"ignore\")\n",
    "import sys, time\n",
    "import pickle\n",
    "import matplotlib.pyplot as plt\n",
    "from scipy import stats\n",
    "from matplotlib import mlab\n",
    "from mpl_toolkits.mplot3d import Axes3D\n",
    "import matplotlib.animation as animation\n",
    "from pylab import *\n",
    "import matplotlib.backends.backend_pdf\n",
    "from sklearn.decomposition import KernelPCA\n",
    "\n",
    "ThisNoteBookPath=os.path.dirname(os.path.realpath(\"__file__\"))\n",
    "CommonNoteBookesPath=os.path.join(os.path.split(ThisNoteBookPath)[0],\"load_preprocess_rat\")\n",
    "CWD=os.getcwd()\n",
    "os.chdir(CommonNoteBookesPath)\n",
    "root='/data'\n",
    "%run UtilityTools.ipynb\n",
    "%run Animal_Tags.ipynb\n",
    "%run Lesion_Size.ipynb\n",
    "%run BatchRatBehavior.ipynb\n",
    "%run plotRat_documentation_3_KinematicsInvestigation.ipynb\n",
    "%run plotRat_documentation_1_GeneralBehavior.ipynb\n",
    "%run loadRat_documentation.ipynb\n",
    "%run RunBatchRat_3_CompareGroups.ipynb\n",
    "os.chdir(CWD)\n",
    "\n",
    "# logging.getLogger().setLevel(logging.WARNING)\n",
    "param={\n",
    "    \"binSize\":0.25,\n",
    "    \"trialOffset\":20., #max end of trial, in seconds (position will be cutted)\n",
    "    \"sigmaSmoothPosition\":0.1,  #smooth the position\n",
    "    #\"sigmaSmoothPosition\":0.33 for pavel dataType\n",
    "    \"sigmaSmoothSpeed\":0.3, #smooth the speed\n",
    "    \"positionDiffRange\": [2.,5.], #min and max differences allowed between two consecutive positions\n",
    "                                  #min to correct start, max to correct jumps\n",
    "    \"pawFrequencyRange\":[2.,10.],\n",
    "    \"startAnalysisParams\":[10,0.2,0.5],\n",
    "    \"cameraToTreadmillDelay\":2., #seconds, usual time between camera start and treadmill start\n",
    "    \"nbJumpMax\" : 100., #if jumps>nbJumpMax, trial is badly tracked\n",
    "    \n",
    "    \n",
    "    #parameter to detect end of trial (first position minima)\n",
    "    \"endTrial_backPos\":55,  # minima is after the animal went once to the back (after first time position>backPos)\n",
    "    \"endTrial_frontPos\":30, # minima's position is in front of treadmill (position[end]<frontPos)\n",
    "    \"endTrial_minTimeSec\":4, # minima is after minTimeSec seconds (time[end]>minTimeSec)\n",
    "    }\n",
    "Y1,Y2=(0,90)\n",
    "BadLateRats=('Rat223','Rat231')\n",
    "print('Done')"
   ]
  },
  {
   "cell_type": "code",
   "execution_count": null,
   "metadata": {},
   "outputs": [],
   "source": [
    "def plot_event_1on1(root, SessionDict, TaskParamToPlot,\n",
    "                    ax=None, preSlice=slice(-5,None), postSlice=slice(0,5)):\n",
    "    \n",
    "    Plot = True\n",
    "    if ax is None:\n",
    "        Plot=False\n",
    "    \n",
    "    \n",
    "    Results,nSessionPre,nSessionPost=event_statistic2(root,\n",
    "                                                     SessionDict,\n",
    "                                                     parameter=param,\n",
    "                                                     redo=False,\n",
    "                                                     TaskParamToPlot=[TaskParamToPlot])\n",
    "\n",
    "    data=np.array(list(Results[TaskParamToPlot].values()))\n",
    "    slicedPreData  = np.ones((data.shape))*np.nan\n",
    "    slicedPostData = np.ones((data.shape))*np.nan\n",
    "    \n",
    "    for row,Dnan in enumerate(data):\n",
    "        Dpre= Dnan[:nSessionPre][~ np.isnan(Dnan[:nSessionPre])]\n",
    "        Dpost=Dnan[nSessionPre:][~ np.isnan(Dnan[nSessionPre:])]\n",
    "        preData =Dpre[preSlice]\n",
    "        postData=Dpost[postSlice]\n",
    "\n",
    "        slicedPreData[row,:len(preData)]=preData\n",
    "        slicedPostData[row,:len(postData)]=postData\n",
    "    \n",
    "    y0=np.nanmean(slicedPreData,axis=1)\n",
    "    y1=np.nanmean(slicedPostData,axis=1)\n",
    "    \n",
    "    y=np.array([y0,y1]).T\n",
    "    \n",
    "    if Plot:\n",
    "        #plotting the errorbar\n",
    "        props={'color':'k','linewidth':1}\n",
    "        ax.boxplot(x=y,whis=[5,95],\n",
    "                      positions=[-.5,.5], widths=.3,\n",
    "                      showcaps=False, showfliers=False,\n",
    "                      medianprops=props, boxprops=props, whiskerprops=props,\n",
    "                      zorder=2)\n",
    "\n",
    "        #plotting single animals\n",
    "        for before,after in y:\n",
    "            ax.plot([-.5,.5],[before,after],lw=.5,alpha=1,zorder=1)\n",
    "        \n",
    "    return y, slicedPreData, slicedPostData"
   ]
  },
  {
   "cell_type": "markdown",
   "metadata": {},
   "source": [
    "## motor seq score"
   ]
  },
  {
   "cell_type": "code",
   "execution_count": null,
   "metadata": {},
   "outputs": [],
   "source": [
    "profile1={'Type':'Good',\n",
    "         'rewardType':'Progressive',\n",
    "         'initialSpeed':['0','10'],\n",
    "         'Speed':'10',\n",
    "         'Tag':['Control', 'Control-AfterBreak', 'Control-Late-NoTimeout-BackToTimeout',\n",
    "          'Control-NoTimeout-Control','Control-Sharp','IncReward-Late-Sharp',\n",
    "          'Control-Sharp-AfterBreak','ImmobileTreadmill-Control']\n",
    "         }\n",
    "profile2={'Type':'Good',\n",
    "         'rewardType':'Progressive',\n",
    "         'initialSpeed':['0','10'],\n",
    "         'Speed':'10',\n",
    "         'Tag':['Late-Lesion_DLS','Late-Lesion_DMS','Late-Lesion_DS',\n",
    "                'Late-Lesion_DS-Sharp','Late-Lesion_DMS-Sharp']\n",
    "         }\n",
    "\n",
    "Profiles=(profile1,profile2)\n",
    "TaskParamToPlot=[\"Motor Sequence Score\",\"Maximum Position\"]\n",
    "preSlice=slice(-5,None)\n",
    "postSlice=slice(-5,None)"
   ]
  },
  {
   "cell_type": "code",
   "execution_count": null,
   "metadata": {},
   "outputs": [],
   "source": [
    "badAnimalList=BadLateRats\n",
    "\n",
    "F=plt.figure(1)\n",
    "ax=F.add_subplot(111)\n",
    "\n",
    "_,SessionDict=event_detect(root, Profiles[0], Profiles[1],badAnimals=badAnimalList)\n",
    "y, nSessionPre, slicedPostData=plot_event_1on1(root,SessionDict, TaskParamToPlot=TaskParamToPlot[0],\n",
    "                                               ax=ax, preSlice=preSlice, postSlice=postSlice);"
   ]
  },
  {
   "cell_type": "code",
   "execution_count": null,
   "metadata": {},
   "outputs": [],
   "source": [
    "for i,animal in enumerate(SessionDict.keys()):\n",
    "    print(i, animal,y[i,0],y[i,1],y[i,1]-y[i,0] ,sep='\\t')\n",
    "#     if y[i,1] < 0.4:\n",
    "#         print(i, animal, y[i,0],y[i,1], sep='\\t')\n"
   ]
  },
  {
   "cell_type": "code",
   "execution_count": null,
   "metadata": {},
   "outputs": [],
   "source": [
    "x=y[:,1]-y[:,0]\n",
    "# x[y[:,0]<3.5]=np.nan\n",
    "x=x[~ np.isnan(x)]\n",
    "x_strapped=bootstrap(x,1000000)\n",
    "x_CI=np.percentile(x_strapped,[1,99])\n",
    "x_CI\n",
    "# q=np.random.normal(loc=0.0, scale=np.std(x), size=(500,))\n",
    "# p=permtest(x, q, nIterations=10000)"
   ]
  },
  {
   "cell_type": "markdown",
   "metadata": {},
   "source": [
    "### maximum position"
   ]
  },
  {
   "cell_type": "code",
   "execution_count": null,
   "metadata": {},
   "outputs": [],
   "source": [
    "badAnimalList=[*BadLateRats]\n",
    "for i,animal in enumerate(SessionDict.keys()):\n",
    "    if y[i,0] < 0.4 or y[i,1] < 0.4: #low seq score\n",
    "        badAnimalList.append(animal)\n",
    "\n",
    "F=plt.figure(2)\n",
    "ax=F.add_subplot(111)\n",
    "\n",
    "_,SessionDict1=event_detect(root, Profiles[0], Profiles[1],badAnimals=badAnimalList)\n",
    "y1, nSessionPre1, slicedPostData1=plot_event_1on1(root,SessionDict1, TaskParamToPlot=TaskParamToPlot[1],ax=ax,\n",
    "                                                  preSlice=slice(-2,None), postSlice=slice(0,3));"
   ]
  },
  {
   "cell_type": "code",
   "execution_count": null,
   "metadata": {},
   "outputs": [],
   "source": [
    "for i,animal in enumerate(SessionDict1.keys()):\n",
    "    print(i, animal,y1[i,0],y1[i,1],y1[i,1]-y1[i,0] ,sep='\\t')\n",
    "#     if y[i,1] < 0.4:\n",
    "#         print(i, animal, y[i,0],y[i,1], sep='\\t')\n"
   ]
  },
  {
   "cell_type": "code",
   "execution_count": null,
   "metadata": {},
   "outputs": [],
   "source": [
    "x=y1[:,1]-y1[:,0]\n",
    "# x[y[:,0]<3.5]=np.nan\n",
    "x=x[~ np.isnan(x)]\n",
    "x_strapped=bootstrap(x,1000000)\n",
    "x_CI=np.percentile(x_strapped,[1,99])\n",
    "x_CI\n",
    "# q=np.random.normal(loc=0.0, scale=np.std(x), size=(500,))\n",
    "# p=permtest(x, q, nIterations=10000)"
   ]
  },
  {
   "cell_type": "markdown",
   "metadata": {},
   "source": [
    "## correlation with lesion size"
   ]
  },
  {
   "cell_type": "code",
   "execution_count": null,
   "metadata": {},
   "outputs": [],
   "source": [
    "def late_lesion_correlation_with_size(root: str, SessionDict:dict, TaskParamToPlot:str,\n",
    "                                      preSlice=slice(-5,None), postSlice=slice(0,5)):\n",
    "    \"\"\"\n",
    "    SessionDict is the output of the function `event_detect`\n",
    "    \"\"\"\n",
    "    \n",
    "    Results,nSessionPre,nSessionPost=event_statistic2(root,\n",
    "                                                 SessionDict,\n",
    "                                                 parameter=param,\n",
    "                                                 redo=False,\n",
    "                                                 TaskParamToPlot=[TaskParamToPlot])\n",
    "\n",
    "    data=np.array(list(Results[TaskParamToPlot].values()))\n",
    "    slicedPreData  = np.ones((data.shape))*np.nan\n",
    "    slicedPostData = np.ones((data.shape))*np.nan\n",
    "    \n",
    "    for row,Dnan in enumerate(data):\n",
    "        Dpre= Dnan[:nSessionPre][~ np.isnan(Dnan[:nSessionPre])]\n",
    "        Dpost=Dnan[nSessionPre:][~ np.isnan(Dnan[nSessionPre:])]\n",
    "        preData =Dpre[preSlice]\n",
    "        postData=Dpost[postSlice]\n",
    "\n",
    "        slicedPreData[row,:len(preData)]=preData\n",
    "        slicedPostData[row,:len(postData)]=postData\n",
    "    \n",
    "    yPre =np.nanmean(slicedPreData ,axis=1)\n",
    "    yPost=np.nanmean(slicedPostData,axis=1)\n",
    "\n",
    "    size=[]\n",
    "    behav=[]\n",
    "    animals=[]\n",
    "    for i,animal in enumerate(Results[TaskParamToPlot].keys()):\n",
    "        try:\n",
    "            Hist=HistologyExcel('/NAS02',animal)\n",
    "        except Exception as e:\n",
    "            logging.error(f'{animal}: {repr(e)}')\n",
    "            continue\n",
    "        \n",
    "        behav.append(yPost[i]/yPre[i])\n",
    "        size.append(Hist.lesion_size())\n",
    "        animals.append(animal)\n",
    "    \n",
    "    return behav, size, animals"
   ]
  },
  {
   "cell_type": "code",
   "execution_count": null,
   "metadata": {},
   "outputs": [],
   "source": [
    "if \"__file__\" not in dir():\n",
    "\n",
    "    profile1={'Type':'Good',\n",
    "             'rewardType':'Progressive',\n",
    "             'initialSpeed':['0','10'],\n",
    "             'Speed':'10',\n",
    "             'Tag':['Control', 'Control-AfterBreak', 'Control-Late-NoTimeout-BackToTimeout',\n",
    "              'Control-NoTimeout-Control','Control-Sharp','IncReward-Late-Sharp',\n",
    "              'Control-Sharp-AfterBreak','ImmobileTreadmill-Control']\n",
    "             }\n",
    "    profile2={'Type':'Good',\n",
    "             'rewardType':'Progressive',\n",
    "             'initialSpeed':['0','10'],\n",
    "             'Speed':'10',\n",
    "             'Tag':['Late-Lesion_DLS','Late-Lesion_DMS','Late-Lesion_DS',\n",
    "                    'Late-Lesion_DS-Sharp','Late-Lesion_DMS-Sharp']\n",
    "             }\n",
    "\n",
    "    Profiles=(profile1,profile2)\n",
    "    TaskParamToPlot=[\"Motor Sequence Score\",\"Maximum Position\"]\n",
    "    preSlice=slice(-5,None)\n",
    "    postSlice=slice(-5,None)\n",
    "    badAnimalList=list(BadLateRats)\n",
    "    _,SessionDict=event_detect(root, Profiles[0], Profiles[1],badAnimals=badAnimalList)\n",
    "\n",
    "    Behav, Size, Animals=late_lesion_correlation_with_size(root, SessionDict, TaskParamToPlot=TaskParamToPlot[0],\n",
    "                                                           preSlice=slice(-5,None), postSlice=slice(0,5))"
   ]
  },
  {
   "cell_type": "code",
   "execution_count": null,
   "metadata": {},
   "outputs": [],
   "source": [
    "if \"__file__\" not in dir():\n",
    "    color={'DS':'r','DMS':'g', 'DLS':'b', 'Control':'k'}\n",
    "    \n",
    "    ax=plt.subplot(111)\n",
    "    for i,animal in enumerate(Animals):\n",
    "        _,tag=lesion_type(root,animal)\n",
    "        ax.scatter(Size[i], Behav[i], c=color[tag], label=tag);\n",
    "        plt.annotate(animal[-3:], (Size[i],Behav[i]))\n",
    "    ax.set_ylabel(TaskParamToPlot[1]);\n",
    "    ax.set_xlabel('Lesion Size');\n",
    "    handles = ax.get_legend_handles_labels()\n",
    "    handles = [handles[0][-2], handles[0][-1], handles[0][-3],handles[0][-4]]\n",
    "    ax.legend(handles, color.keys());\n",
    "    leg = ax.get_legend()\n",
    "    for i,c in enumerate(color.values()):\n",
    "        leg.legendHandles[i].set_color(c)"
   ]
  },
  {
   "cell_type": "markdown",
   "metadata": {},
   "source": [
    "# correlate speed with max pos"
   ]
  },
  {
   "cell_type": "code",
   "execution_count": null,
   "metadata": {},
   "outputs": [],
   "source": [
    "def plot_correlation_behavior(root, animalList, profile, param, SessionRange=slice(-5,None), colors=None, ax=None):    \n",
    "    x={} \n",
    "    y={}\n",
    "    \n",
    "    for animal in animalList:\n",
    "        x[animal]=animal_learning_stats(root, animal, PerfParam=param[0], profile=profile, sessionSlice=SessionRange)\n",
    "        y[animal]=animal_learning_stats(root, animal, PerfParam=param[1], profile=profile, sessionSlice=SessionRange)\n",
    "        \n",
    "    x=np.array(list(x.values()))\n",
    "    y=np.array(list(y.values()))\n",
    "\n",
    "    if ax is not None:\n",
    "        if colors is None:\n",
    "            colors=get_colors(len(animalList))\n",
    "        \n",
    "        r,p=scipy.stats.pearsonr(np.mean(x,1),np.mean(y,1))\n",
    "        \n",
    "        for i,_ in enumerate(animalList):\n",
    "            ax.plot(x[i,:],y[i,:],'o',color=colors[i], markersize=2)\n",
    "\n",
    "        P = np.poly1d(np.polyfit(x.flatten(), y.flatten(), 1))\n",
    "        ax.plot(x.flatten(),P(x.flatten()),'k')\n",
    "\n",
    "        maxX=np.max(x)\n",
    "        minX=np.min(x)\n",
    "        maxY=np.max(y)\n",
    "\n",
    "        s='$r=$'+'$%+.2f$'%(r)+'\\n'+'$p=$'+'$%.2e$'%(p)\n",
    "        ax.text(minX, y=maxY, s=s, ha='left', va='top', fontsize=8)\n",
    "\n",
    "        ax.spines['top'].set_visible(False)\n",
    "        ax.spines['right'].set_visible(False)\n",
    "        ax.spines['left'].set_bounds(0,80)\n",
    "        ax.spines['bottom'].set_bounds(minX,maxX+5)\n",
    "        ax.set_ylim([0,80])\n",
    "\n",
    "        ax.set_ylabel('% Correct trials')\n",
    "        ax.set_xlabel('Displacement (cm)')\n",
    "        ax.set_xlim([minX-2,maxX+2])\n",
    "\n",
    "    \n",
    "    return x,y"
   ]
  },
  {
   "cell_type": "code",
   "execution_count": null,
   "metadata": {},
   "outputs": [],
   "source": [
    "if \"__file__\" not in dir():\n",
    "\n",
    "    profile={'Type':'Good',\n",
    "             'rewardType':'Progressive',\n",
    "             'initialSpeed':['0','10'],\n",
    "             'Speed':'10',\n",
    "             'Tag':['Late-Lesion_DLS','Late-Lesion_DMS','Late-Lesion_DS',\n",
    "                    'Late-Lesion_DS-Sharp','Late-Lesion_DMS-Sharp']\n",
    "             }\n",
    "    AnimalProfile={'Type':'Good',\n",
    "                    'rewardType':'Progressive',\n",
    "                    'initialSpeed':['10','0'],\n",
    "                    'Speed':'10',\n",
    "                    'Tag':['Early-Lesion_DS','Early-Lesion_DMS','Early-Lesion_DLS',\n",
    "                       'Late-Lesion_DMS','Late-Lesion_DLS','Late-Lesion_DS',\n",
    "                       'Late-Lesion_DMS-Sharp','Late-Lesion_DLS-Sharp','Late-Lesion_DS-Sharp']\n",
    "                  }\n",
    "\n",
    "\n",
    "    TaskParamToPlot=[\"Forward Running Speed\",\"Maximum Position\"]\n",
    "    Slice=slice(-5,None)\n",
    "    badAnimalList=set((*BadLateRats,'Rat223','Rat231','Rat144','Rat124','Rat218','Rat138','Rat251','Rat264','Rat249',\n",
    "                        'Rat229','Rat220','Rat256','Rat260','Rat219','Rat305','Rat123','Rat215','Rat163','Rat141','Rat224','Rat230','Rat139',\n",
    "                        'Rat217','Rat222'))\n",
    "    animalList=batch_get_animal_list(root,AnimalProfile)\n",
    "#     for animal in badAnimalList:animalList.remove(animal)\n",
    "        \n",
    "    x_,y_=plot_correlation_behavior(root, animalList, profile=AnimalProfile, \n",
    "                                          param=TaskParamToPlot, SessionRange=Slice,\n",
    "                                          colors=None, ax=None)"
   ]
  },
  {
   "cell_type": "code",
   "execution_count": null,
   "metadata": {},
   "outputs": [],
   "source": [
    "x=np.nanmedian(x_,1)\n",
    "y=np.nanmedian(y_,1)\n",
    "notNan=~np.logical_or(np.isnan(x),np.isnan(y))\n",
    "# notNan=np.logical_and(notNan,y>66)\n",
    "r,p=scipy.stats.pearsonr(x[notNan],y[notNan])\n",
    "r,p=scipy.stats.spearmanr(x[notNan],y[notNan])\n",
    "r,p"
   ]
  },
  {
   "cell_type": "code",
   "execution_count": null,
   "metadata": {},
   "outputs": [],
   "source": [
    "plt.scatter(x[notNan],y[notNan]);\n",
    "# plt.xlim([35,75])\n",
    "# plt.ylim([50,85])\n",
    "plt.ylabel('max pos');\n",
    "plt.xlabel('vigor');\n",
    "plt.title(f'all rats after learning,\\n r={r},\\n p={p}');\n",
    "# for i,j,animal in zip(x,y,animalList):\n",
    "#     if np.isnan(i) or np.isnan(j):continue\n",
    "#     plt.text(i,j,animal);"
   ]
  },
  {
   "cell_type": "markdown",
   "metadata": {},
   "source": [
    "# Speed in trials with low maxPos vs. high maxPos"
   ]
  },
  {
   "cell_type": "code",
   "execution_count": null,
   "metadata": {},
   "outputs": [],
   "source": [
    "def back_trial_speed(data,high=65):\n",
    "    seqObj = sequentialTrials(data,xFront=30, xBackMin=40)\n",
    "    seqTrials,_ = seqObj._compute_sequential_trials()\n",
    "    Speed=forwardRunningSpeed(data, minXBack=40, minXFront=30).compute()\n",
    "\n",
    "    highTrial=np.array([trial for trial in seqTrials if data.position[trial].max()>high and trial in Speed.keys()])\n",
    "    \n",
    "    backSpeed=np.array([Speed[trial] for trial in highTrial])\n",
    "    \n",
    "    return np.nanmean(backSpeed)\n",
    "\n",
    "def mid_trial_speed(data,low=50):\n",
    "    seqObj = sequentialTrials(data,xFront=30, xBackMin=40)\n",
    "    seqTrials,_ = seqObj._compute_sequential_trials()\n",
    "    Speed=forwardRunningSpeed(data, minXBack=40, minXFront=30).compute()\n",
    "\n",
    "    lowTrial =np.array([trial for trial in seqTrials if data.position[trial].max()<low and trial in Speed.keys()])\n",
    "    \n",
    "    midSpeed=np.array([Speed[trial] for trial in lowTrial])\n",
    "\n",
    "    return np.nanmean(midSpeed)"
   ]
  },
  {
   "cell_type": "code",
   "execution_count": null,
   "metadata": {},
   "outputs": [],
   "source": [
    "profile={'Type':'Good',\n",
    "     'option': ['not used','AsymmetricLesion'],\n",
    "     'rewardType':'Progressive',\n",
    "     'initialSpeed':['10','0'],\n",
    "     'Speed':'10',\n",
    "     'Tag':['Early-Lesion_DS','Early-Lesion_DS-NoHab','Early-Lesion_DMS','Early-Lesion_DLS',\n",
    "           'Late-Lesion_DMS','Late-Lesion_DLS','Late-Lesion_DS',\n",
    "           'Late-Lesion_DMS-Sharp','Late-Lesion_DLS-Sharp','Late-Lesion_DS-Sharp']\n",
    "              }\n",
    "param=[mid_trial_speed,back_trial_speed]\n",
    "\n",
    "animalList=batch_get_animal_list(root,profile);"
   ]
  },
  {
   "cell_type": "code",
   "execution_count": null,
   "metadata": {},
   "outputs": [],
   "source": [
    "x={} \n",
    "y={}\n",
    "for animal in animalList:\n",
    "    data=data_fetch(root,animal,profile, param, NbSession=slice(-5,None))\n",
    "    y[animal]=np.nanmean(data[param[1].__name__])\n",
    "    \n",
    "    x[animal]=np.nanmean(data[param[0].__name__])\n",
    "\n",
    "x=np.array(list(x.values()))\n",
    "y=np.array(list(y.values()))\n"
   ]
  },
  {
   "cell_type": "code",
   "execution_count": 113,
   "metadata": {},
   "outputs": [
    {
     "data": {
      "image/png": "[encoded data removed]",
      "text/plain": [
       "<Figure size 432x288 with 1 Axes>"
      ]
     },
     "metadata": {
      "needs_background": "light"
     },
     "output_type": "display_data"
    }
   ],
   "source": [
    "F=plt.figure()\n",
    "ax=F.add_subplot(111)\n",
    "\n",
    "ax.boxplot(x=[x[~ np.isnan(x)],y[~ np.isnan(y)]],whis=[5,95],positions=[0,1],sym='',zorder=5)\n",
    "\n",
    "for i,j in zip(x,y):\n",
    "    if np.isnan(i) or np.isnan(j):\n",
    "        continue\n",
    "    ax.plot([0,1],[i,j],lw=.5)\n",
    "    \n",
    "ax.set_xticklabels(['mid trial','back trial']);\n",
    "ax.set_ylabel('Speed(cm/s)');\n",
    "ax.set_title('Each line one animal');"
   ]
  },
  {
   "cell_type": "code",
   "execution_count": 114,
   "metadata": {},
   "outputs": [
    {
     "name": "stdout",
     "output_type": "stream",
     "text": [
      "[25.40928271 29.09088144]\n"
     ]
    }
   ],
   "source": [
    "CI=bootstrap(y-x,10000);\n",
    "\n",
    "print(np.nanpercentile(CI1,[1,99]))"
   ]
  }
 ],
 "metadata": {
  "kernelspec": {
   "display_name": "Python 3",
   "language": "python",
   "name": "python3"
  },
  "language_info": {
   "codemirror_mode": {
    "name": "ipython",
    "version": 3
   },
   "file_extension": ".py",
   "mimetype": "text/x-python",
   "name": "python",
   "nbconvert_exporter": "python",
   "pygments_lexer": "ipython3",
   "version": "3.7.4"
  }
 },
 "nbformat": 4,
 "nbformat_minor": 4
}
