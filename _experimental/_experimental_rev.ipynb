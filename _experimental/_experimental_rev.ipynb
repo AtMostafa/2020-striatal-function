{
 "cells": [
  {
   "cell_type": "markdown",
   "metadata": {},
   "source": [
    "# THIS NOTEBOOK IS DEDICATED TO THE ANALYSIS OF \n",
    "\n",
    "# *rev*\n"
   ]
  },
  {
   "cell_type": "code",
   "execution_count": 1,
   "metadata": {},
   "outputs": [
    {
     "data": {
      "text/html": [
       "<style>.container { width:90% !important; }</style>"
      ],
      "text/plain": [
       "<IPython.core.display.HTML object>"
      ]
     },
     "metadata": {},
     "output_type": "display_data"
    },
    {
     "name": "stdout",
     "output_type": "stream",
     "text": [
      "Done\n"
     ]
    }
   ],
   "source": [
    "import os\n",
    "import glob\n",
    "import numpy as np\n",
    "from platform import system as OS\n",
    "import pandas as pd\n",
    "import scipy.stats\n",
    "import math\n",
    "import datetime\n",
    "from copy import deepcopy\n",
    "from IPython.display import clear_output, display, HTML, Image\n",
    "import matplotlib.cm as cm\n",
    "import warnings\n",
    "import types\n",
    "warnings.filterwarnings(\"ignore\")\n",
    "import sys, time\n",
    "import pickle\n",
    "import matplotlib.pyplot as plt\n",
    "from scipy import stats\n",
    "from matplotlib import mlab\n",
    "from mpl_toolkits.mplot3d import Axes3D\n",
    "import matplotlib.animation as animation\n",
    "from pylab import *\n",
    "import matplotlib.backends.backend_pdf\n",
    "from sklearn.decomposition import KernelPCA\n",
    "\n",
    "ThisNoteBookPath=os.path.dirname(os.path.realpath(\"__file__\"))\n",
    "CommonNoteBookesPath=os.path.join(os.path.split(ThisNoteBookPath)[0],\"load_preprocess_rat\")\n",
    "CWD=os.getcwd()\n",
    "os.chdir(CommonNoteBookesPath)\n",
    "root='/data'\n",
    "%run UtilityTools.ipynb\n",
    "%run Animal_Tags.ipynb\n",
    "%run Lesion_Size.ipynb\n",
    "%run BatchRatBehavior.ipynb\n",
    "%run plotRat_documentation_3_KinematicsInvestigation.ipynb\n",
    "%run plotRat_documentation_1_GeneralBehavior.ipynb\n",
    "%run loadRat_documentation.ipynb\n",
    "%run RunBatchRat_3_CompareGroups.ipynb\n",
    "os.chdir(CWD)\n",
    "\n",
    "# logging.getLogger().setLevel(logging.WARNING)\n",
    "param={\n",
    "    \"binSize\":0.25,\n",
    "    \"trialOffset\":20., #max end of trial, in seconds (position will be cutted)\n",
    "    \"sigmaSmoothPosition\":0.1,  #smooth the position\n",
    "    #\"sigmaSmoothPosition\":0.33 for pavel dataType\n",
    "    \"sigmaSmoothSpeed\":0.3, #smooth the speed\n",
    "    \"positionDiffRange\": [2.,5.], #min and max differences allowed between two consecutive positions\n",
    "                                  #min to correct start, max to correct jumps\n",
    "    \"pawFrequencyRange\":[2.,10.],\n",
    "    \"startAnalysisParams\":[10,0.2,0.5],\n",
    "    \"cameraToTreadmillDelay\":2., #seconds, usual time between camera start and treadmill start\n",
    "    \"nbJumpMax\" : 100., #if jumps>nbJumpMax, trial is badly tracked\n",
    "    \n",
    "    \n",
    "    #parameter to detect end of trial (first position minima)\n",
    "    \"endTrial_backPos\":55,  # minima is after the animal went once to the back (after first time position>backPos)\n",
    "    \"endTrial_frontPos\":30, # minima's position is in front of treadmill (position[end]<frontPos)\n",
    "    \"endTrial_minTimeSec\":4, # minima is after minTimeSec seconds (time[end]>minTimeSec)\n",
    "    }\n",
    "Y1,Y2=(0,90)\n",
    "BadLateRats=('Rat223','Rat231')\n",
    "print('Done')"
   ]
  },
  {
   "cell_type": "code",
   "execution_count": 122,
   "metadata": {},
   "outputs": [],
   "source": [
    "def plot_event_1on1(root, SessionDict, TaskParamToPlot,\n",
    "                    ax=None, preSlice=slice(-5,None), postSlice=slice(0,5)):\n",
    "    \n",
    "    Plot = True\n",
    "    if ax is None:\n",
    "        Plot=False\n",
    "    \n",
    "    \n",
    "    Results,nSessionPre,nSessionPost=event_statistic2(root,\n",
    "                                                     SessionDict,\n",
    "                                                     parameter=param,\n",
    "                                                     redo=False,\n",
    "                                                     TaskParamToPlot=[TaskParamToPlot])\n",
    "\n",
    "    data=np.array(list(Results[TaskParamToPlot].values()))\n",
    "    slicedPreData  = np.ones((data.shape))*np.nan\n",
    "    slicedPostData = np.ones((data.shape))*np.nan\n",
    "    \n",
    "    for row,Dnan in enumerate(data):\n",
    "        Dpre= Dnan[:nSessionPre][~ np.isnan(Dnan[:nSessionPre])]\n",
    "        Dpost=Dnan[nSessionPre:][~ np.isnan(Dnan[nSessionPre:])]\n",
    "        preData =Dpre[preSlice]\n",
    "        postData=Dpost[postSlice]\n",
    "\n",
    "        slicedPreData[row,:len(preData)]=preData\n",
    "        slicedPostData[row,:len(postData)]=postData\n",
    "    \n",
    "    y0=np.nanmean(slicedPreData,axis=1)\n",
    "    y1=np.nanmean(slicedPostData,axis=1)\n",
    "    \n",
    "    y=np.array([y0,y1]).T\n",
    "    \n",
    "    if Plot:\n",
    "        #plotting the errorbar\n",
    "        props={'color':'k','linewidth':1}\n",
    "        ax.boxplot(x=y,whis=[5,95],\n",
    "                      positions=[-.5,.5], widths=.3,\n",
    "                      showcaps=False, showfliers=False,\n",
    "                      medianprops=props, boxprops=props, whiskerprops=props,\n",
    "                      zorder=2)\n",
    "\n",
    "        #plotting single animals\n",
    "        for before,after in y:\n",
    "            ax.plot([-.5,.5],[before,after],lw=.5,alpha=1,zorder=1)\n",
    "        \n",
    "    return y, slicedPreData, slicedPostData"
   ]
  },
  {
   "cell_type": "markdown",
   "metadata": {},
   "source": [
    "## final speed"
   ]
  },
  {
   "cell_type": "code",
   "execution_count": 138,
   "metadata": {},
   "outputs": [],
   "source": [
    "def reverse_trd_last_speed(data,win=.4,onlyGood=False):\n",
    "    data.position_correction()\n",
    "    detect_trial_end(data)\n",
    "    \n",
    "    cs=data.cameraSamplingRate\n",
    "    trdSpeed=stats.mode(data.treadmillSpeed)[0]\n",
    "    posArray=get_positions_array_end_StereotypedTrials(data,onlyGood=onlyGood)\n",
    "    finalSpd=[]\n",
    "    for pos in posArray:\n",
    "        if len(pos) < int(win*cs):\n",
    "            continue\n",
    "        \n",
    "        if pos[0] < 50:\n",
    "            continue\n",
    "\n",
    "        lastPos=pos[-int(win*cs):]\n",
    "        dis=np.amax(lastPos) - np.amin(lastPos)\n",
    "        spd=dis/win\n",
    "        spd-=trdSpeed\n",
    "\n",
    "        finalSpd.append(spd)\n",
    "    finalSpd=np.array(finalSpd)\n",
    "    \n",
    "    finalSpd=finalSpd if len(finalSpd)>30 else np.array([np.nan])\n",
    "    \n",
    "    return np.nanmean(finalSpd)"
   ]
  },
  {
   "cell_type": "code",
   "execution_count": 2,
   "metadata": {},
   "outputs": [],
   "source": [
    "profile1={'Type':'Good',\n",
    "         'rewardType':'Progressive',\n",
    "         'initialSpeed':['6','8','10'],\n",
    "         'Speed':['6','8'],\n",
    "         'Tag':['Reverse','Reverse-AfterBreak']\n",
    "         }\n",
    "profile2={'Type':'Good',\n",
    "         'rewardType':'Progressive',\n",
    "         'initialSpeed':['6','8','10'],\n",
    "         'Speed':['6','8'],\n",
    "         'Tag':['Reverse-Late_DLS',]\n",
    "         }\n",
    "\n",
    "Profiles=(profile1,profile2)\n",
    "TaskParamToPlot='reverse_trd_last_speed'\n",
    "preSlice=slice(-5,None)\n",
    "postSlice=slice(0,1)\n",
    "\n",
    "badAnimalList=[]\n",
    "_,SessionDict=event_detect(root, Profiles[0], Profiles[1],badAnimals=badAnimalList)"
   ]
  },
  {
   "cell_type": "code",
   "execution_count": 140,
   "metadata": {},
   "outputs": [
    {
     "data": {
      "image/png": "[encoded data removed]",
      "text/plain": [
       "<Figure size 432x288 with 1 Axes>"
      ]
     },
     "metadata": {
      "needs_background": "light"
     },
     "output_type": "display_data"
    }
   ],
   "source": [
    "F=plt.figure(1)\n",
    "ax=F.add_subplot(111)\n",
    "\n",
    "y, nSessionPre, slicedPostData=plot_event_1on1(root,SessionDict, TaskParamToPlot=TaskParamToPlot,\n",
    "                                               ax=ax, preSlice=preSlice, postSlice=postSlice);"
   ]
  },
  {
   "cell_type": "code",
   "execution_count": 141,
   "metadata": {},
   "outputs": [
    {
     "name": "stdout",
     "output_type": "stream",
     "text": [
      "0\tRat325\t4.649118060710354\t7.525534700388014\t2.87641663967766\n",
      "1\tRat337\t1.345392693770338\t3.3397973670900862\t1.9944046733197482\n",
      "2\tRat341\t3.812443116518094\t5.291222301691446\t1.4787791851733525\n",
      "3\tRat345\t8.174704715256903\t9.857933242541066\t1.6832285272841627\n",
      "4\tRat333\t3.6892260915437993\t2.024558460466854\t-1.6646676310769455\n",
      "5\tRat365\t8.181300832920831\t11.069461579520894\t2.8881607466000627\n",
      "6\tRat329\t10.227702811048186\t12.162056426692134\t1.934353615643948\n"
     ]
    }
   ],
   "source": [
    "for i,animal in enumerate(SessionDict.keys()):\n",
    "    print(i, animal,y[i,0],y[i,1],y[i,1]-y[i,0] ,sep='\\t')\n",
    "#     if y[i,1] < 0.4:\n",
    "#         print(i, animal, y[i,0],y[i,1], sep='\\t')\n"
   ]
  },
  {
   "cell_type": "markdown",
   "metadata": {},
   "source": [
    "## InterTrial speed"
   ]
  },
  {
   "cell_type": "code",
   "execution_count": 146,
   "metadata": {},
   "outputs": [],
   "source": [
    "class ReverseRunningSpeed:\n",
    "    '''\n",
    "    This class detects the running forward portion of the \n",
    "    trials and returns the forward speed\n",
    "    \n",
    "    '''\n",
    "    def __init__(self,data,minXBack=60,minXFront=40):\n",
    "        assert isinstance(data,Data), 'input data is not an instance of Data class'\n",
    "        \n",
    "        self.cs          =int(data.cameraSamplingRate)\n",
    "        self.posDict     =data.position\n",
    "        self.xBack       =minXBack\n",
    "        self.xFront      =minXFront\n",
    "        self.interTrialDuration=data.interTrialDuration\n",
    "        self.forwardSpeed=None\n",
    "    \n",
    "    def compute(self):\n",
    "        cs=self.cs\n",
    "        forwardSpeed={}\n",
    "        for trial,Pos in self.posDict.items():\n",
    "            it=int(self.interTrialDuration[trial]*cs)-cs   #1s is not recorded\n",
    "            pos= Pos[-it:]\n",
    "            pos=90-pos\n",
    "\n",
    "            back_P = (pos >self.xBack).astype(int)\n",
    "            _backCross=back_P-np.concatenate((np.array([False]),back_P[:-1]))\n",
    "            backCrosses=np.where(_backCross==-1)[0]\n",
    "            if len(backCrosses)==0:\n",
    "                continue\n",
    "            else:\n",
    "                backCross=backCrosses[0]\n",
    "\n",
    "            front_P= (pos >self.xFront).astype(int)\n",
    "            _frontCross=front_P-np.concatenate((np.array([False]),front_P[:-1]))\n",
    "            frontCrosses=np.where(_frontCross==-1)[0]\n",
    "            #detect first front cross after a back cross\n",
    "            frontCross=frontCrosses[frontCrosses>backCross]\n",
    "            if len(frontCross)==0:\n",
    "                continue\n",
    "            else:\n",
    "                frontCross=frontCross[0]\n",
    "                            \n",
    "            \n",
    "            forwardSpeed[trial]=(\n",
    "                                 abs(\n",
    "                                     (pos[backCross]-pos[frontCross])/(frontCross-backCross)\n",
    "                                    )*self.cs\n",
    "                                 )\n",
    "        \n",
    "        self.forwardSpeed=forwardSpeed\n",
    "\n",
    "        return self.forwardSpeed\n",
    "\n",
    "def _reverse_trd_IT_speed(data):\n",
    "    a=ReverseRunningSpeed(data).compute()\n",
    "    return np.mean(list(a.values()))"
   ]
  },
  {
   "cell_type": "code",
   "execution_count": 147,
   "metadata": {},
   "outputs": [
    {
     "name": "stdout",
     "output_type": "stream",
     "text": [
      "Preprocess behavior data loaded from /data/Rat345/Experiments/Rat345_2019_04_10_14_36/Analysis/preprocesseddata_binsize250ms_.p\n"
     ]
    }
   ],
   "source": [
    "session='Rat345_2019_04_10_14_36'\n",
    "data=Data(root,animal=session[:6],experiment=session,param=defaultParam,redoPreprocess=False,PrintWarning=True)"
   ]
  },
  {
   "cell_type": "code",
   "execution_count": 148,
   "metadata": {},
   "outputs": [
    {
     "data": {
      "text/plain": [
       "69.97615561055497"
      ]
     },
     "execution_count": 148,
     "metadata": {},
     "output_type": "execute_result"
    }
   ],
   "source": [
    "a=_reverse_trd_IT_speed(data)\n",
    "np.median(a)"
   ]
  },
  {
   "cell_type": "code",
   "execution_count": null,
   "metadata": {},
   "outputs": [],
   "source": []
  }
 ],
 "metadata": {
  "kernelspec": {
   "display_name": "Python 3",
   "language": "python",
   "name": "python3"
  },
  "language_info": {
   "codemirror_mode": {
    "name": "ipython",
    "version": 3
   },
   "file_extension": ".py",
   "mimetype": "text/x-python",
   "name": "python",
   "nbconvert_exporter": "python",
   "pygments_lexer": "ipython3",
   "version": "3.7.4"
  }
 },
 "nbformat": 4,
 "nbformat_minor": 4
}
