{
 "cells": [
  {
   "cell_type": "markdown",
   "metadata": {},
   "source": [
    "### This notebook is dedicated to classifying trajectories"
   ]
  },
  {
   "cell_type": "code",
   "execution_count": 2,
   "metadata": {},
   "outputs": [
    {
     "data": {
      "text/html": [
       "<style>.container { width:90% !important; }</style>"
      ],
      "text/plain": [
       "<IPython.core.display.HTML object>"
      ]
     },
     "metadata": {},
     "output_type": "display_data"
    }
   ],
   "source": [
    "import os\n",
    "import glob\n",
    "import numpy as np\n",
    "from platform import system as OS\n",
    "import pandas as pd\n",
    "import scipy.stats\n",
    "import math\n",
    "import datetime\n",
    "from copy import deepcopy\n",
    "from IPython.display import clear_output, display, HTML, Image\n",
    "import matplotlib.cm as cm\n",
    "import warnings\n",
    "warnings.filterwarnings(\"ignore\")\n",
    "import sys\n",
    "import pickle\n",
    "import types\n",
    "import time\n",
    "import matplotlib.pyplot as plt\n",
    "from scipy import stats\n",
    "from matplotlib import mlab\n",
    "from mpl_toolkits.mplot3d import Axes3D\n",
    "from matplotlib.ticker import FormatStrFormatter\n",
    "\n",
    "\n",
    "ThisNoteBookPath=os.path.dirname(os.path.realpath(\"__file__\"))\n",
    "CommonNoteBookesPath=os.path.join(os.path.split(ThisNoteBookPath)[0],\"load_preprocess_rat\")\n",
    "CWD=os.getcwd()\n",
    "os.chdir(CommonNoteBookesPath)\n",
    "root='/data'\n",
    "%run UtilityTools.ipynb\n",
    "%run Animal_Tags.ipynb\n",
    "%run BatchRatBehavior.ipynb\n",
    "%run plotRat_documentation_3_KinematicsInvestigation.ipynb\n",
    "%run plotRat_documentation_1_GeneralBehavior.ipynb\n",
    "%run loadRat_documentation.ipynb\n",
    "%run Lesion_Size.ipynb\n",
    "# %run RunBatchRat_3_CompareGroups.ipynb\n",
    "os.chdir(CWD)\n",
    "\n",
    "param={\n",
    "    'treadmillRange':(0,90),\n",
    "    \"binSize\":0.25,\n",
    "    \"trialOffset\":20., #max end of trial, in seconds (position will be cutted)\n",
    "    \"sigmaSmoothPosition\":0.1,  #smooth the position\n",
    "    #\"sigmaSmoothPosition\":0.33 for pavel dataType\n",
    "    \"sigmaSmoothSpeed\":0.3, #smooth the speed\n",
    "    \"positionDiffRange\": [2.,5.], #min and max differences allowed between two consecutive positions\n",
    "                                  #min to correct start, max to correct jumps\n",
    "    \"pawFrequencyRange\":[2.,10.],\n",
    "    \"startAnalysisParams\":[10,0.2,0.5],\n",
    "    \"cameraToTreadmillDelay\":2., #seconds, usual time between camera start and treadmill start\n",
    "    \"nbJumpMax\" : 100., #if jumps>nbJumpMax, trial is badly tracked\n",
    "    \n",
    "    #parameter to detect end of trial (first position minima)\n",
    "    \"endTrial_backPos\":55,  # minima is after the animal went once to the back (after first time position>backPos)\n",
    "    \"endTrial_frontPos\":30, # minima's position is in front of treadmill (position[end]<frontPos)\n",
    "    \"endTrial_minTimeSec\":4, # minima is after minTimeSec seconds (time[end]>minTimeSec)\n",
    "    }\n",
    "font = {'family' : 'normal',\n",
    "        'weight' : 'normal',\n",
    "        'size'   : 13}"
   ]
  },
  {
   "cell_type": "markdown",
   "metadata": {},
   "source": [
    "---\n",
    "\n",
    "**initial position analysis**"
   ]
  },
  {
   "cell_type": "code",
   "execution_count": null,
   "metadata": {},
   "outputs": [],
   "source": [
    "def initial_pos(root, profile, animalList, SessionRange, trdBins):\n",
    "    def et_and_initial_pos(data):\n",
    "        \n",
    "        et     =data.entranceTime\n",
    "        initPos=np.array([data.position[i][data.startFrame[i]] for i in data.position])\n",
    "        gt     =np.nanmedian(data.goalTime)\n",
    "\n",
    "        if len(et)==len(initPos):\n",
    "            return et,initPos,gt\n",
    "        else:\n",
    "            return None,None,None\n",
    "    \n",
    "    PerfParam=[et_and_initial_pos]\n",
    "    initialPos=dict()\n",
    "    countN=0\n",
    "    for animal in  animalList:\n",
    "        sessions=batch_get_session_list(root,[animal],profile=profile)['Sessions']\n",
    "        data=data_fetch(root, animal=animal, profile=profile,\n",
    "                        PerfParam= PerfParam,\n",
    "                        NbSession=100)[PerfParam[0].__name__]\n",
    "        \n",
    "        data=data[SessionRange[0]:SessionRange[1]]\n",
    "        initialPos[animal]=[]\n",
    "        for et,pos,gt in data:\n",
    "            if et is None:\n",
    "                countN+=1\n",
    "                continue\n",
    "            initialPos[animal].extend(list(pos[et<=16]))\n",
    "        \n",
    "        initialPos[animal]=np.array(initialPos[animal])\n",
    "    \n",
    "    logging.warning(f'{countN} sessions were removed, entranceTime != position')\n",
    "    \n",
    "    return initialPos\n",
    "    \n",
    "def probablity_initial_pos(root,profile,animalList, SessionRange, trdBins=range(0,91,1), TH=30):\n",
    "        \n",
    "    initialPos= initial_pos(root, profile, animalList, SessionRange, trdBins)\n",
    "    \n",
    "    X=np.array(trdBins[1:])-trdBins.step/2\n",
    "    initPosTH=[]\n",
    "\n",
    "    for animal in animalList:\n",
    "        data=initialPos[animal][~np.isnan(initialPos[animal])]\n",
    "        pdf,_=np.histogram(data, trdBins, density=True)\n",
    "        cumu=np.cumsum(pdf)\n",
    "        \n",
    "        assert len(X)==len(cumu), 'problemo!'\n",
    "        y=cumu[X>=TH][0]\n",
    "        initPosTH.append(y)\n",
    "        \n",
    "    return np.array(initPosTH)"
   ]
  },
  {
   "cell_type": "code",
   "execution_count": null,
   "metadata": {},
   "outputs": [],
   "source": [
    "if \"__file__\" not in dir():\n",
    "    profile={'Type':'Good',\n",
    "             'rewardType':'Progressive',\n",
    "             'initialSpeed':'10',\n",
    "             'Speed':['10'],\n",
    "             'Tag':'Control'\n",
    "                  }\n",
    "    animalList1=batch_get_animal_list(root,profile)\n",
    "#     animalList=animalList[10:12]\n",
    "\n",
    "    SessionRange=[20,30]\n",
    "    \n",
    "    ctrlInit=probablity_initial_pos(root,profile,animalList1, SessionRange)\n",
    "    "
   ]
  },
  {
   "cell_type": "code",
   "execution_count": null,
   "metadata": {},
   "outputs": [],
   "source": [
    "if \"__file__\" not in dir():\n",
    "    AnimalProfile={'Type':'Good',\n",
    "#          'option': ['not used'],\n",
    "         'rewardType':'Progressive',\n",
    "         'initialSpeed':['10','0'],\n",
    "         'Speed':'10',\n",
    "         'Tag':['Early-Lesion_DS','Early-Lesion_DMS','Early-Lesion_DLS']\n",
    "                  }\n",
    "    \n",
    "    animalList2=batch_get_animal_list(root,AnimalProfile)\n",
    "    \n",
    "    SessionRange=[20,30]\n",
    "    \n",
    "    LesionInit=probablity_initial_pos(root,AnimalProfile,animalList2, SessionRange)"
   ]
  },
  {
   "cell_type": "code",
   "execution_count": 295,
   "metadata": {},
   "outputs": [
    {
     "data": {
      "image/png": "[encoded data removed]",
      "text/plain": [
       "<Figure size 432x288 with 1 Axes>"
      ]
     },
     "metadata": {
      "needs_background": "light"
     },
     "output_type": "display_data"
    }
   ],
   "source": [
    "if \"__file__\" not in dir():\n",
    "    c=ctrlInit[~np.isnan(ctrlInit)]\n",
    "    l=LesionInit[~np.isnan(LesionInit)]\n",
    "    \n",
    "    fig=plt.figure()\n",
    "    ax=fig.add_subplot(111)\n",
    "    \n",
    "    for i,(data,color) in enumerate(zip((1-c,1-l),('k','olive'))):\n",
    "        ax.boxplot(x=data,whis=[5,95],\n",
    "                  positions=[i], widths=.4,\n",
    "                  showcaps=False, showfliers=False,\n",
    "                  medianprops={'color':color,'linewidth':2},\n",
    "                   boxprops={'color':color,'linewidth':2},\n",
    "                   whiskerprops={'color':color,'linewidth':2},\n",
    "                  zorder=1)\n",
    "\n",
    "\n",
    "    test=TwoTailPermTest(group1=np.array(c), group2=np.array(l), nIterations=10000)\n",
    "    s='*' if test.significantDiff[0] else 'n.s.'\n",
    "    test.plotSigPair(ax,y=.55,x=(0,1), s=s, color='goldenrod',lw=1.5)\n",
    "\n",
    "    \n",
    "    ax.set_xlim([-1,2])\n",
    "    ax.set_ylabel('Exploration',fontdict=font)\n",
    "    ax.set_xticks([0,1])\n",
    "    ax.set_yticks([0,.2,.4,.6])\n",
    "    ax.set_xticklabels(['Control','Lesion'],fontdict=font)\n",
    "    ax.set_yticklabels(ax.get_yticks(),fontdict=font)\n",
    "    ax.yaxis.set_major_formatter(FormatStrFormatter('%g'))\n",
    "    ax.spines['top'].set_visible(False)\n",
    "    ax.spines['right'].set_visible(False)\n",
    "    ax.spines['bottom'].set_visible(False)\n",
    "\n",
    "#     fig.savefig('/home/david/Mostafa/PhD/iBAGS2019/DavidTalk/earlyBox.pdf')"
   ]
  },
  {
   "cell_type": "code",
   "execution_count": 296,
   "metadata": {},
   "outputs": [
    {
     "data": {
      "image/png": "[encoded data removed]",
      "text/plain": [
       "<Figure size 432x288 with 1 Axes>"
      ]
     },
     "metadata": {
      "needs_background": "light"
     },
     "output_type": "display_data"
    }
   ],
   "source": [
    "if \"__file__\" not in dir():\n",
    "    lesionSize=[]\n",
    "    lesionExp=[]\n",
    "    goodAnimal=[]\n",
    "    for i,animal in enumerate(animalList2):\n",
    "        if np.isnan(LesionInit[i]):\n",
    "            continue\n",
    "        try:\n",
    "            f=HistologyExcel('/NAS02',animal)\n",
    "            tmp=f.lesion_size()\n",
    "        except:\n",
    "            logging.warning(f'animal with excel problem: {animal}')\n",
    "            continue\n",
    "        lesionSize.append(tmp)\n",
    "        lesionExp.append(1-LesionInit[i])\n",
    "        goodAnimal.append(animal)\n",
    "        \n",
    "    \n",
    "    lesionSize=np.array(lesionSize)\n",
    "    lesionExp=np.array(lesionExp)\n",
    "\n",
    "    lesionSize=lesionSize[lesionExp<.45]\n",
    "    lesionExp=lesionExp[lesionExp<.45]\n",
    "    \n",
    "    color={'control':'k',\n",
    "       'ds':'m',\n",
    "       'dms':'b',\n",
    "       'dls':'r'\n",
    "       }\n",
    "    \n",
    "    fig=plt.figure()\n",
    "    ax=fig.add_subplot(111)\n",
    "    for animal,exp,size in zip(goodAnimal,lesionExp,lesionSize):\n",
    "        _,lesion=lesion_type(root, animal)\n",
    "        c=color[lesion.casefold()]\n",
    "        ax.plot(exp,size,color=c,marker='o')\n",
    "    \n",
    "    r,p=scipy.stats.pearsonr(lesionExp,lesionSize)\n",
    "    P = np.poly1d(np.polyfit(lesionExp, lesionSize, 1))\n",
    "    ax.plot(lesionExp,P(lesionExp),'k')\n",
    "    \n",
    "    ax.set_xlim([0,.45])\n",
    "    ax.set_xlabel('Exploration',fontdict=font)\n",
    "    ax.set_ylabel('Lesion Size',fontdict=font)\n",
    "    ax.set_xticklabels(ax.get_xticks(),fontdict=font)\n",
    "    ax.set_yticklabels(ax.get_yticks(),fontdict=font)\n",
    "    ax.xaxis.set_major_formatter(FormatStrFormatter('%g'))\n",
    "    ax.yaxis.set_major_formatter(FormatStrFormatter('%g'))\n",
    "    ax.spines['top'].set_visible(False)\n",
    "    ax.spines['right'].set_visible(False)\n",
    "    ax.set_xticks([0,.1,.2,.3,.4])\n",
    "    ax.set_yticks([0,.2,.4,.6,.8])\n",
    "    ax.spines['bottom'].set_bounds(0,.4)\n",
    "    ax.spines['left'].set_bounds(0,.8)\n",
    "    \n",
    "    s='$r=$'+'$%+.2f$'%(r)+'\\n'+'$p=$'+'$%.1e$'%(p)\n",
    "    ax.text(x=.4, y=.8, s=s, ha='right', va='top', fontsize=13)\n",
    "\n",
    "#     fig.savefig('/home/david/Mostafa/PhD/iBAGS2019/DavidTalk/early.pdf')"
   ]
  },
  {
   "cell_type": "markdown",
   "metadata": {},
   "source": [
    "**initial position analysis for late lesion**"
   ]
  },
  {
   "cell_type": "code",
   "execution_count": 6,
   "metadata": {},
   "outputs": [],
   "source": [
    "def session_initial_pos(root,profile,animal, SessionRange: slice, trdBins=range(0,91,1), TH=30):\n",
    "    def et_and_initial_pos(data):\n",
    "        et     =data.entranceTime\n",
    "        initPos=np.array([data.position[i][data.startFrame[i]] for i in data.position])\n",
    "        gt     =np.nanmedian(data.goalTime)\n",
    "\n",
    "        if len(et)==len(initPos):\n",
    "            return et,initPos,gt\n",
    "        else:\n",
    "            return None,None,None\n",
    "    \n",
    "    PerfParam=[et_and_initial_pos]\n",
    "    initialPos=dict()\n",
    "    countN=0\n",
    "\n",
    "    data=data_fetch(root, animal=animal, profile=profile,\n",
    "                    PerfParam= PerfParam,\n",
    "                    NbSession=100)[PerfParam[0].__name__]\n",
    "\n",
    "    data=data[SessionRange]\n",
    "    initialPos=[]\n",
    "    for et,pos,gt in data:\n",
    "        if et is None:\n",
    "            countN+=1\n",
    "            continue\n",
    "        initialPos.extend(list(pos[et<=16]))\n",
    "\n",
    "    initialPos=np.array(initialPos)\n",
    "    \n",
    "    logging.warning(f'{countN} sessions were removed, entranceTime != position')\n",
    "    \n",
    "    X=np.array(trdBins[1:])-trdBins.step/2\n",
    "    data=initialPos[~np.isnan(initialPos)]\n",
    "    pdf,_=np.histogram(data, trdBins, density=True)\n",
    "    cumu=np.cumsum(pdf)\n",
    "\n",
    "    assert len(X)==len(cumu), 'problemo!'\n",
    "    y=cumu[X>=TH][0]\n",
    "    initPosTH=y\n",
    "        \n",
    "    return initPosTH"
   ]
  },
  {
   "cell_type": "code",
   "execution_count": null,
   "metadata": {},
   "outputs": [],
   "source": [
    "if \"__file__\" not in dir():\n",
    "    profile1={'Type':'Good',\n",
    "             'rewardType':'Progressive',\n",
    "             'initialSpeed':['0','10'],\n",
    "             'Speed':'10',\n",
    "             'Tag':['Control','Control-AfterBreak','Control-Late-NoTimeout-BackToTimeout',\n",
    "                    'Control-NoTimeout-Control']\n",
    "             }\n",
    "    profile2={'Type':'Good',\n",
    "             'rewardType':'Progressive',\n",
    "             'initialSpeed':['0','10'],\n",
    "             'Speed':'10',\n",
    "             'Tag':['Late-Lesion_DMS','Late-Lesion_DLS','Late-Lesion_DS',\n",
    "                    'Late-Lesion_DMS-Sharp','Late-Lesion_DLS-Sharp','Late-Lesion_DS-Sharp'\n",
    "                   ]\n",
    "             }\n",
    "    \n",
    "    _,sessionDic=event_detect(root,profile1,profile2)\n",
    "\n",
    "    \n",
    "    preInit =[]\n",
    "    postInit=[]\n",
    "    for animal in sessionDic.keys():\n",
    "        a=session_initial_pos(root,profile1,animal, SessionRange=slice(-10,None))\n",
    "        b=session_initial_pos(root,profile2,animal, SessionRange=slice(0,10))\n",
    "        preInit.append(a)\n",
    "        postInit.append(b)"
   ]
  },
  {
   "cell_type": "code",
   "execution_count": 24,
   "metadata": {},
   "outputs": [
    {
     "data": {
      "image/png": "[encoded data removed]",
      "text/plain": [
       "<Figure size 432x288 with 1 Axes>"
      ]
     },
     "metadata": {
      "needs_background": "light"
     },
     "output_type": "display_data"
    }
   ],
   "source": [
    "if \"__file__\" not in dir():\n",
    "    data=np.array([preInit,postInit]).T\n",
    "    data=1-data\n",
    "    \n",
    "    y=np.nanpercentile(data,50,axis=0)\n",
    "    yerr=np.nanpercentile(data,(25,75),axis=0)\n",
    "\n",
    "    #plotting the errorbar\n",
    "    fig=plt.figure()\n",
    "    ax=fig.add_subplot(111)\n",
    "    props={'color':'k','linewidth':2}\n",
    "    ax.boxplot(x=data,whis=[5,95],\n",
    "                  positions=[0,1], widths=.4,\n",
    "                  showcaps=False, showfliers=False,\n",
    "                  medianprops=props, boxprops=props, whiskerprops=props,\n",
    "                  zorder=2)\n",
    "\n",
    "    assert len(sessionDic.keys())==len(data), 'problemo bad!'\n",
    "    \n",
    "    color={'control':'k',\n",
    "           'ds':'m',\n",
    "           'dms':'b',\n",
    "           'dls':'r'\n",
    "           }\n",
    "\n",
    "    #plotting single animals\n",
    "    for i,(before,after) in enumerate(data):\n",
    "        animal=list(sessionDic.keys())[i]\n",
    "        _,lesion=lesion_type(root, animal)\n",
    "        c=color[lesion.casefold()]\n",
    "        ax.plot([0,1],[before,after],lw=.5,alpha=1,zorder=1,color=c)\n",
    "\n",
    "\n",
    "\n",
    "    ax.set_xlim([-1,2])\n",
    "    ax.set_ylim([0,.6])\n",
    "    ax.set_xticks([0,1])\n",
    "    ax.set_yticks([0,.1,.2,.3,.4,.5])\n",
    "    ax.set_yticklabels(ax.get_yticks(),fontdict=font)\n",
    "    ax.set_xticklabels(['Before','After'],fontdict=font)\n",
    "    ax.set_xlabel('Lesion',fontdict=font)\n",
    "    ax.spines['bottom'].set_visible(False)\n",
    "    ax.spines['top'].set_visible(False)\n",
    "    ax.spines['right'].set_visible(False)\n",
    "    ax.spines['left'].set_bounds(0,.5)\n",
    "    ax.set_ylabel('Exploration',fontdict=font)\n",
    "    \n",
    "    test=TwoTailPermTest(group1=data[:,0], group2=data[:,1], nIterations=10000)\n",
    "    s='*' if test.significantDiff[0] else 'n.s.'\n",
    "    test.plotSigPair(ax,y=.55,x=(0,1), s=s, color='goldenrod',lw=1.5)\n",
    "    \n",
    "    \n",
    "#     fig.savefig('/home/david/Mostafa/PhD/iBAGS2019/DavidTalk/late.pdf')"
   ]
  },
  {
   "cell_type": "code",
   "execution_count": 30,
   "metadata": {},
   "outputs": [
    {
     "data": {
      "image/png": "[encoded data removed]",
      "text/plain": [
       "<Figure size 432x288 with 1 Axes>"
      ]
     },
     "metadata": {
      "needs_background": "light"
     },
     "output_type": "display_data"
    }
   ],
   "source": [
    "if \"__file__\" not in dir():\n",
    "    ratSize=[]\n",
    "    ratExp=[]\n",
    "    ratLate=[]\n",
    "    for i,animal in enumerate(sessionDic.keys()):\n",
    "        try:\n",
    "            f=HistologyExcel('/NAS02',animal)\n",
    "            tmp=f.lesion_size()\n",
    "        except:\n",
    "            logging.warning(f'animal with excel problem: {animal}')\n",
    "            continue\n",
    "        ratSize.append(tmp)\n",
    "        ratExp.append(data[i,1]-data[i,0])\n",
    "        ratLate.append(animal)\n",
    "        \n",
    "    \n",
    "    ratSize=np.array(ratSize)\n",
    "    ratExp=np.array(ratExp)\n",
    "\n",
    "#     lesionSize=lesionSize[lesionExp<.45]\n",
    "#     lesionExp=lesionExp[lesionExp<.45]\n",
    "    \n",
    "    color={'control':'k',\n",
    "       'ds':'m',\n",
    "       'dms':'b',\n",
    "       'dls':'r'\n",
    "       }\n",
    "    \n",
    "    fig=plt.figure()\n",
    "    ax=fig.add_subplot(111)\n",
    "    \n",
    "    for animal,exp,size in zip(ratLate,ratExp,ratSize):\n",
    "        _,lesion=lesion_type(root, animal)\n",
    "        c=color[lesion.casefold()]\n",
    "        ax.plot(exp,size,color=c,marker='o')\n",
    "    \n",
    "    r,p=scipy.stats.pearsonr(ratExp,ratSize)\n",
    "    P = np.poly1d(np.polyfit(ratExp, ratSize, 1))\n",
    "    ax.plot(ratExp,P(ratExp),'k')\n",
    "    \n",
    "    ax.set_xlim([-.45,.35])\n",
    "    ax.set_xlabel('Exploration Difference',fontdict=font)\n",
    "    ax.set_ylabel('Lesion Size',fontdict=font)\n",
    "#     ax.set_xticks([0,.1,.2,.3,.4])\n",
    "#     ax.set_yticks([0,.2,.4,.6,.8])\n",
    "    ax.set_xticklabels(ax.get_xticks(),fontdict=font)\n",
    "    ax.set_yticklabels(ax.get_yticks(),fontdict=font)\n",
    "    ax.xaxis.set_major_formatter(FormatStrFormatter('%g'))\n",
    "    ax.yaxis.set_major_formatter(FormatStrFormatter('%g'))\n",
    "    ax.spines['top'].set_visible(False)\n",
    "    ax.spines['right'].set_visible(False)\n",
    "    ax.spines['bottom'].set_bounds(-.4,.3)\n",
    "    ax.spines['left'].set_bounds(0,.8)\n",
    "    \n",
    "    s='$r=$'+'$%+.2f$'%(r)+'\\n'+'$p=$'+'$%.1e$'%(p)\n",
    "    ax.text(x=.3, y=.8, s=s, ha='right', va='top', fontsize=13)\n",
    "\n",
    "#     fig.savefig('/home/david/Mostafa/PhD/iBAGS2019/DavidTalk/lateCorrelate.pdf')"
   ]
  },
  {
   "cell_type": "markdown",
   "metadata": {},
   "source": [
    "# Speed of trials initiated in the back"
   ]
  },
  {
   "cell_type": "code",
   "execution_count": 90,
   "metadata": {},
   "outputs": [],
   "source": [
    "if \"__file__\" not in dir():\n",
    "\n",
    "    profile1={'Type':'Good',\n",
    "             'rewardType':'Progressive',\n",
    "             'initialSpeed':['0','10'],\n",
    "             'Speed':'10',\n",
    "             'Tag':['Control', 'Control-AfterBreak', 'Control-Late-NoTimeout-BackToTimeout',\n",
    "              'Control-NoTimeout-Control','Control-Sharp','IncReward-Late-Sharp',\n",
    "              'Control-Sharp-AfterBreak','ImmobileTreadmill-Control']\n",
    "             }\n",
    "    profile2={'Type':'Good',\n",
    "             'rewardType':'Progressive',\n",
    "             'initialSpeed':['0','10'],\n",
    "             'Speed':'10',\n",
    "             'Tag':['Late-Lesion_DLS','Late-Lesion_DMS','Late-Lesion_DS',\n",
    "                    'Late-Lesion_DS-Sharp','Late-Lesion_DMS-Sharp']\n",
    "             }\n",
    "    \n",
    "    NbSession=slice(-5,None)\n",
    "    _,sessionDic=event_detect(root,profile1,profile2)"
   ]
  },
  {
   "cell_type": "code",
   "execution_count": 91,
   "metadata": {},
   "outputs": [],
   "source": [
    "def back_initiating_trial_speed(data, back=65):\n",
    "    AllSpeed=forwardRunningSpeed(data).compute()\n",
    "    speed=[]\n",
    "    for i,vigor in AllSpeed.items():\n",
    "        if data.position[i][25] < back:\n",
    "            continue\n",
    "        \n",
    "        speed.append(vigor)\n",
    "    \n",
    "    return np.nanmean(speed)\n",
    "def front_initiating_trial_speed(data, front=25):\n",
    "    AllSpeed=forwardRunningSpeed(data).compute()\n",
    "    speed=[]\n",
    "    for i,vigor in AllSpeed.items():\n",
    "        if data.position[i][25] > front:\n",
    "            continue\n",
    "        \n",
    "        speed.append(vigor)\n",
    "    \n",
    "    return np.nanmean(speed)"
   ]
  },
  {
   "cell_type": "code",
   "execution_count": 92,
   "metadata": {},
   "outputs": [],
   "source": [
    "data=[]\n",
    "for animal in sessionDic.keys():\n",
    "    a=np.mean(list(data_fetch(root,animal,profile2,[front_initiating_trial_speed],NbSession).values()))\n",
    "    b=np.mean(list(data_fetch(root,animal,profile2,[back_initiating_trial_speed],NbSession).values()))\n",
    "    \n",
    "    data.append([a,b])\n",
    "data=np.array(data)"
   ]
  },
  {
   "cell_type": "code",
   "execution_count": 93,
   "metadata": {},
   "outputs": [
    {
     "data": {
      "text/plain": [
       "(-1, 1)"
      ]
     },
     "execution_count": 93,
     "metadata": {},
     "output_type": "execute_result"
    },
    {
     "data": {
      "image/png": "[encoded data removed]",
      "text/plain": [
       "<Figure size 432x288 with 1 Axes>"
      ]
     },
     "metadata": {
      "needs_background": "light"
     },
     "output_type": "display_data"
    }
   ],
   "source": [
    "ax=plt.gca()\n",
    "for before,after in data:\n",
    "    ax.plot([-.5,.5],[before,after],lw=.5,alpha=1,zorder=1)\n",
    "    \n",
    "plt.xlim([-1,1])"
   ]
  },
  {
   "cell_type": "code",
   "execution_count": 94,
   "metadata": {},
   "outputs": [
    {
     "data": {
      "text/plain": [
       "array([-14.82231405,  -8.23760274])"
      ]
     },
     "execution_count": 94,
     "metadata": {},
     "output_type": "execute_result"
    }
   ],
   "source": [
    "x=data[:,1]-data[:,0]\n",
    "x=x[~ np.isnan(x)]\n",
    "\n",
    "a=bootstrap(x,10000)\n",
    "np.nanpercentile(a,[1,99])"
   ]
  },
  {
   "cell_type": "code",
   "execution_count": 95,
   "metadata": {},
   "outputs": [
    {
     "data": {
      "image/png": "[encoded data removed]",
      "text/plain": [
       "<Figure size 432x288 with 1 Axes>"
      ]
     },
     "metadata": {
      "needs_background": "light"
     },
     "output_type": "display_data"
    }
   ],
   "source": [
    "plt.hist(a,100);\n",
    "plt.show()"
   ]
  },
  {
   "cell_type": "code",
   "execution_count": 96,
   "metadata": {},
   "outputs": [
    {
     "data": {
      "text/plain": [
       "Ttest_relResult(statistic=7.875548367519834, pvalue=6.09177097186864e-10)"
      ]
     },
     "execution_count": 96,
     "metadata": {},
     "output_type": "execute_result"
    }
   ],
   "source": [
    "scipy.stats.ttest_rel(data[:,0],data[:,1],nan_policy='omit')"
   ]
  },
  {
   "cell_type": "code",
   "execution_count": null,
   "metadata": {},
   "outputs": [],
   "source": []
  },
  {
   "cell_type": "code",
   "execution_count": null,
   "metadata": {},
   "outputs": [],
   "source": []
  },
  {
   "cell_type": "code",
   "execution_count": null,
   "metadata": {},
   "outputs": [],
   "source": []
  }
 ],
 "metadata": {
  "kernelspec": {
   "display_name": "Python 3",
   "language": "python",
   "name": "python3"
  },
  "language_info": {
   "codemirror_mode": {
    "name": "ipython",
    "version": 3
   },
   "file_extension": ".py",
   "mimetype": "text/x-python",
   "name": "python",
   "nbconvert_exporter": "python",
   "pygments_lexer": "ipython3",
   "version": "3.7.3"
  }
 },
 "nbformat": 4,
 "nbformat_minor": 4
}
